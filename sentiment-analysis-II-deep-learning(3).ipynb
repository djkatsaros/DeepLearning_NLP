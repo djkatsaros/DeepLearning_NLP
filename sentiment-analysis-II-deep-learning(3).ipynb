{
 "cells": [
  {
   "cell_type": "markdown",
   "metadata": {},
   "source": [
    "# Sentiment Analysis II: Deep Learning Approach "
   ]
  },
  {
   "cell_type": "markdown",
   "metadata": {},
   "source": [
    "## Introduction\n",
    "  For the sentiment analysis on movie reviews dataset, I initially explored classification via utilizing so called bag of words methods and basic tools from machine learning. These involve using text feature engineering methodologies such as tokenization, possibly removing stopwords, and stemming on the phrases before applying a basic ML classifier to fit and predict the data. The best of these classifiers (logistic regression and multinomial naive bayesian) achieved ~**61%** on the validation data and ~**56%** accuracy on the kaggle sentiment analysis test dataset. \n",
    "\n",
    "  Looking at the kaggle leaderboard, it seems that in order to improve accuracy it is common to use deep learning networks. In particular, the [DeBERTa](https://huggingface.co/docs/transformers/model_doc/deberta-v2) classifier is an extremely popular option for proceeding past basic ML into deep learning for this task. DeBERTa is a transformer-based neural language model pretrained on large amounts of raw text corpora using self-supervised learning. DeBERTA is available as a pretrained language model, adapted to/trained on universal language representations that can be adapted to various downstream NLU tasks.  \n",
    "\n",
    "  As opposed to just creating an instance of DeBerta and calling it a day, I wanted use this as a re-up on deep learning and recurrent neural networks. To this end I build an RNN architecture using convolutional and bidrectional GRU (or LSTM, which turn out to perform the same) layers. The improved performance of the DeBERTa model on the sentiment classification task also indicates some sort of transfer learning would improve performance. So, as a second step, I will use a model with a pretrained embedding layer. Thus, once the best architecture(s) have come out of the wash, they will be trained again but now with the embedding layer pretrained on the [fasttext](https://www.kaggle.com/datasets/yekenot/fasttext-crawl-300d-2m) 2M(illion) 300 dimensional word vectors collection.\n",
    "\n",
    "  The architecture achieving the best results is actually very simple (maybe even disturbingly simple). With this architecture and no pretraining, the best results were ~**68%** validation accuracy and ~**65%** accuracy on the submission test data. With the pretrained model, the best result was ~**69%** accuracy on validation data and ~**67%** accuracy on test data*. \n",
    "  \n",
    "  [*The best results on the sentiment analysis competition leaderboard were ~76%(2 submissions), with the top 10 threshold being 67.5% ]"
   ]
  },
  {
   "cell_type": "code",
   "execution_count": 38,
   "metadata": {
    "execution": {
     "iopub.execute_input": "2024-05-06T04:10:01.389491Z",
     "iopub.status.busy": "2024-05-06T04:10:01.388721Z",
     "iopub.status.idle": "2024-05-06T04:10:01.396609Z",
     "shell.execute_reply": "2024-05-06T04:10:01.395660Z",
     "shell.execute_reply.started": "2024-05-06T04:10:01.389461Z"
    }
   },
   "outputs": [],
   "source": [
    "import pandas as pd\n",
    "import numpy as np\n",
    "\n",
    "import warnings\n",
    "warnings.filterwarnings('ignore')\n",
    "\n",
    "from sklearn.model_selection import train_test_split\n",
    "\n",
    "import tensorflow as tf\n",
    "from tensorflow.keras.preprocessing.text import Tokenizer\n",
    "from tensorflow.keras.preprocessing.sequence import pad_sequences\n",
    "from tensorflow.keras.models import Sequential, Model\n",
    "from tensorflow.keras.layers import Embedding, Input, Dense, LSTM, GRU, Dropout, Bidirectional, Conv1D, Concatenate\n",
    "from tensorflow.keras.layers import SpatialDropout1D,GlobalAveragePooling1D, GlobalMaxPooling1D, BatchNormalization\n",
    "from tensorflow.keras.utils import to_categorical\n",
    "from keras.callbacks import ModelCheckpoint, TensorBoard, Callback, EarlyStopping\n",
    "from keras.optimizers import Adam\n",
    "\n",
    "import matplotlib.pyplot as plt\n"
   ]
  },
  {
   "cell_type": "code",
   "execution_count": 3,
   "metadata": {
    "execution": {
     "iopub.execute_input": "2024-05-06T03:20:42.426664Z",
     "iopub.status.busy": "2024-05-06T03:20:42.426171Z",
     "iopub.status.idle": "2024-05-06T03:20:42.727770Z",
     "shell.execute_reply": "2024-05-06T03:20:42.726973Z",
     "shell.execute_reply.started": "2024-05-06T03:20:42.426640Z"
    }
   },
   "outputs": [],
   "source": [
    "df_train = pd.read_csv('/kaggle/input/sentiment-analysis-on-movie-reviews/train.tsv.zip', sep='\\t', usecols=['Phrase', 'Sentiment'])\n",
    "df_submission = pd.read_csv('/kaggle/input/sentiment-analysis-on-movie-reviews/test.tsv.zip', sep='\\t', usecols=['Phrase'])"
   ]
  },
  {
   "cell_type": "markdown",
   "metadata": {},
   "source": [
    "### Split data into training and testing set"
   ]
  },
  {
   "cell_type": "code",
   "execution_count": 4,
   "metadata": {
    "execution": {
     "iopub.execute_input": "2024-05-06T03:20:42.729203Z",
     "iopub.status.busy": "2024-05-06T03:20:42.728867Z",
     "iopub.status.idle": "2024-05-06T03:20:42.754052Z",
     "shell.execute_reply": "2024-05-06T03:20:42.753331Z",
     "shell.execute_reply.started": "2024-05-06T03:20:42.729172Z"
    }
   },
   "outputs": [],
   "source": [
    "X_train, X_test, y_train, y_test = train_test_split(df_train['Phrase'].values, df_train['Sentiment'].values, test_size=0.1)"
   ]
  },
  {
   "cell_type": "markdown",
   "metadata": {},
   "source": [
    "## Preprocessing\n",
    "\n",
    "1. initialize and fit tokenizer to create mapping from the vocabulary to a collection of integers.\n",
    "2. calculate and store vocabulary size (for embedding layer).\n",
    "3. convert words to integers (sequences), then make the array size uniform by padding with zeros."
   ]
  },
  {
   "cell_type": "code",
   "execution_count": 5,
   "metadata": {
    "execution": {
     "iopub.execute_input": "2024-05-06T03:20:42.756653Z",
     "iopub.status.busy": "2024-05-06T03:20:42.755962Z",
     "iopub.status.idle": "2024-05-06T03:20:42.760189Z",
     "shell.execute_reply": "2024-05-06T03:20:42.759350Z",
     "shell.execute_reply.started": "2024-05-06T03:20:42.756627Z"
    }
   },
   "outputs": [],
   "source": [
    "# initialize Tokenizer to encode strings into integers\n",
    "tokenizer = Tokenizer()"
   ]
  },
  {
   "cell_type": "code",
   "execution_count": 6,
   "metadata": {
    "execution": {
     "iopub.execute_input": "2024-05-06T03:20:42.761773Z",
     "iopub.status.busy": "2024-05-06T03:20:42.761513Z",
     "iopub.status.idle": "2024-05-06T03:20:44.989062Z",
     "shell.execute_reply": "2024-05-06T03:20:44.988055Z",
     "shell.execute_reply.started": "2024-05-06T03:20:42.761751Z"
    }
   },
   "outputs": [],
   "source": [
    "# create vocabulary from all words in our dataset for encoding\n",
    "tokenizer.fit_on_texts(df_train['Phrase'].values)"
   ]
  },
  {
   "cell_type": "code",
   "execution_count": 7,
   "metadata": {
    "execution": {
     "iopub.execute_input": "2024-05-06T03:20:44.990727Z",
     "iopub.status.busy": "2024-05-06T03:20:44.990388Z",
     "iopub.status.idle": "2024-05-06T03:20:45.293874Z",
     "shell.execute_reply": "2024-05-06T03:20:45.292954Z",
     "shell.execute_reply.started": "2024-05-06T03:20:44.990698Z"
    }
   },
   "outputs": [
    {
     "name": "stdout",
     "output_type": "stream",
     "text": [
      "Maximum number of words in a phrase in train is 52.\n"
     ]
    }
   ],
   "source": [
    "# max number of words/phrase\n",
    "print(\"Maximum number of words in a phrase in training data is {0}.\".format(np.max(df_train['Phrase'].apply(lambda x: len(x.split())))))\n",
    "# max length of 1 row (number of words)\n",
    "max_len = max([len(x.split()) for x in df_train['Phrase'].values])"
   ]
  },
  {
   "cell_type": "code",
   "execution_count": 8,
   "metadata": {
    "execution": {
     "iopub.execute_input": "2024-05-06T03:20:45.295155Z",
     "iopub.status.busy": "2024-05-06T03:20:45.294883Z",
     "iopub.status.idle": "2024-05-06T03:20:45.300335Z",
     "shell.execute_reply": "2024-05-06T03:20:45.299332Z",
     "shell.execute_reply.started": "2024-05-06T03:20:45.295131Z"
    }
   },
   "outputs": [
    {
     "name": "stdout",
     "output_type": "stream",
     "text": [
      "Vocab size for tokenizer is: 15289\n"
     ]
    }
   ],
   "source": [
    "# count number of unique words. This needs to be passed into the network's emnbedding layer\n",
    "vocabulary_size = len(tokenizer.word_index) + 1\n",
    "print(\"Vocab size for tokenizer is: {0}\".format(vocabulary_size))"
   ]
  },
  {
   "cell_type": "code",
   "execution_count": 9,
   "metadata": {
    "execution": {
     "iopub.execute_input": "2024-05-06T03:20:45.301803Z",
     "iopub.status.busy": "2024-05-06T03:20:45.301528Z",
     "iopub.status.idle": "2024-05-06T03:20:48.157985Z",
     "shell.execute_reply": "2024-05-06T03:20:48.157017Z",
     "shell.execute_reply.started": "2024-05-06T03:20:45.301781Z"
    }
   },
   "outputs": [],
   "source": [
    "# convert phrases to sequences of integers\n",
    "X_train_tokens = tokenizer.texts_to_sequences(X_train)\n",
    "X_test_tokens = tokenizer.texts_to_sequences(X_test)\n",
    "X_sub_tokens = tokenizer.texts_to_sequences(df_submission['Phrase'].astype(str).values)"
   ]
  },
  {
   "cell_type": "code",
   "execution_count": 10,
   "metadata": {
    "execution": {
     "iopub.execute_input": "2024-05-06T03:20:48.159523Z",
     "iopub.status.busy": "2024-05-06T03:20:48.159211Z",
     "iopub.status.idle": "2024-05-06T03:20:49.005278Z",
     "shell.execute_reply": "2024-05-06T03:20:49.004227Z",
     "shell.execute_reply.started": "2024-05-06T03:20:48.159498Z"
    }
   },
   "outputs": [],
   "source": [
    "# ensure every row has same size by padding with zeros\n",
    "X_train_pad = pad_sequences(X_train_tokens, maxlen=max_len, padding='post')\n",
    "X_test_pad = pad_sequences(X_test_tokens, maxlen=max_len, padding='post')\n",
    "X_sub_pad = pad_sequences(X_sub_tokens, maxlen=max_len, padding='post')"
   ]
  },
  {
   "cell_type": "markdown",
   "metadata": {},
   "source": [
    "Additionally, we have to preprocess the labels. For a target with **more than 1 class**, we must take the vector of targets and transform it to a matrix with number of columns the same as the number of targets - in this case, having target values 0-4 (see also one hot encoding). We can use the to_categorical function for this, which essentially takes the labels and converts them to a matrix of basis vectors, with one basis vector for each target label. "
   ]
  },
  {
   "cell_type": "code",
   "execution_count": 11,
   "metadata": {
    "execution": {
     "iopub.execute_input": "2024-05-06T03:20:49.008170Z",
     "iopub.status.busy": "2024-05-06T03:20:49.007897Z",
     "iopub.status.idle": "2024-05-06T03:20:49.022507Z",
     "shell.execute_reply": "2024-05-06T03:20:49.021421Z",
     "shell.execute_reply.started": "2024-05-06T03:20:49.008147Z"
    }
   },
   "outputs": [
    {
     "name": "stdout",
     "output_type": "stream",
     "text": [
      "Original vector size: (140454,)\n",
      "Converted vector size: (140454, 5)\n"
     ]
    }
   ],
   "source": [
    "y_train_cat = to_categorical(y_train)\n",
    "y_test_cat = to_categorical(y_test)\n",
    "\n",
    "target_length = y_train_cat.shape[1]\n",
    "print('Original vector size: {}'.format(y_train.shape))\n",
    "print('Converted vector size: {}'.format(y_train_cat.shape))"
   ]
  },
  {
   "cell_type": "markdown",
   "metadata": {},
   "source": [
    "## Neural Net Architecture and Training.\n",
    "The first step will be an **embedding layer**, which performs a similar function as the word bagging approach. In particular, if the dimension of the embedding layer is the same as the vocabulary size, then this is identical to a bag of words approach. Conversely, if the dimension is very large, the transformation would mostly consist of zeros. It seems to be better to have a smaller embedding layer. For the purposes of consistency with the 300 dimension fasttext pre training later, I will set the embeding dimension to 300 now. \n"
   ]
  },
  {
   "cell_type": "markdown",
   "metadata": {},
   "source": [
    "The rest of the archiecture is relatively simple. The model will use a **spatial dropout layer** (to help prevent overfitting), **bidirectional GRU** with a number of units to be tuned, a **hidden dense layer** with dropout (also to prevent overfitting) with tunable number of units and a final dense classification layer.\n",
    "I will also study architectures with single 1Dconvolution layers in depth, which offer minimal improvements if tuned correctly. More complicated architectures with additional dense and convolutional layers, as well as LSTM layers were experimented with, but they did not given any better results and often performed worse on the test set.  It is an assumption that the bidirectional GRU/LSTM layer is crucial for this task, as it is standard to use such recurrent structures for NLP tasks due to the benefits of context to the understanding of language."
   ]
  },
  {
   "cell_type": "code",
   "execution_count": 12,
   "metadata": {
    "execution": {
     "iopub.execute_input": "2024-05-06T03:20:54.720997Z",
     "iopub.status.busy": "2024-05-06T03:20:54.720628Z",
     "iopub.status.idle": "2024-05-06T03:20:54.725335Z",
     "shell.execute_reply": "2024-05-06T03:20:54.724240Z",
     "shell.execute_reply.started": "2024-05-06T03:20:54.720968Z"
    }
   },
   "outputs": [],
   "source": [
    "embed_dim = 300"
   ]
  },
  {
   "cell_type": "markdown",
   "metadata": {},
   "source": [
    "# Models"
   ]
  },
  {
   "cell_type": "markdown",
   "metadata": {},
   "source": [
    "## 1. Simplest model, no convolutional layers and only one hidden dense layer"
   ]
  },
  {
   "cell_type": "code",
   "execution_count": 39,
   "metadata": {
    "execution": {
     "iopub.execute_input": "2024-05-06T04:10:25.320881Z",
     "iopub.status.busy": "2024-05-06T04:10:25.319808Z",
     "iopub.status.idle": "2024-05-06T04:10:25.334221Z",
     "shell.execute_reply": "2024-05-06T04:10:25.333045Z",
     "shell.execute_reply.started": "2024-05-06T04:10:25.320840Z"
    }
   },
   "outputs": [],
   "source": [
    "def assemble_model_noConv(lr=0.0, lr_d=0.0, units=0, spatial_dr=0.0, kernel1=3, dense_units=128, dr=0.1):\n",
    "    \"\"\"\n",
    "    Builds and trains a NN model. Writing this as a function avoids the potential error of retraining the same\n",
    "    model over and over when tuning parameters or otherwise experimenting.\n",
    "    Model is roughly described as consisting of \n",
    "    > an embedding layer for the tokenized phrase,\n",
    "    > dropout, \n",
    "    > Bidirectional GRU layer exhibiting some memory and recurrence.\n",
    "    > A dense layer, followed by another dropout layer\n",
    "    > A dense output layer.\n",
    "    The architecture is relatively short but high performaing. \n",
    "    \"\"\"\n",
    "    model = Sequential()\n",
    "    model.add(Embedding(vocabulary_size, embed_dim, input_length=max_len))\n",
    "    model.add(SpatialDropout1D(spatial_dr))\n",
    "    model.add(Bidirectional(GRU(units)))\n",
    "    model.add(Dense(dense_units, activation='relu'))\n",
    "    model.add(Dropout(dr))\n",
    "    model.add(Dense(target_length, activation='softmax'))\n",
    "    model.compile(loss='categorical_crossentropy', optimizer='adam', metrics=['accuracy'])\n",
    "    \n",
    "    file_path = \"best_model.keras\"\n",
    "    check_point = ModelCheckpoint(file_path, monitor = \"val_loss\", verbose = 1,\n",
    "                                  save_best_only = True, mode = \"min\")\n",
    "    early_stop = tf.keras.callbacks.EarlyStopping(monitor='val_loss', patience=1)\n",
    "    history = model.fit(X_train_pad, y_train_cat, epochs=10, validation_data=(X_test_pad, y_test_cat), \n",
    "                    batch_size=128, callbacks=[early_stop,check_point])\n",
    "    model.summary()  # Uncomment to display a description of the architecture.\n",
    "    return model"
   ]
  },
  {
   "cell_type": "markdown",
   "metadata": {},
   "source": [
    "## 2. Add 1Dconvolution layer to the simplest model."
   ]
  },
  {
   "cell_type": "code",
   "execution_count": 40,
   "metadata": {
    "execution": {
     "iopub.execute_input": "2024-05-06T04:10:27.291029Z",
     "iopub.status.busy": "2024-05-06T04:10:27.288289Z",
     "iopub.status.idle": "2024-05-06T04:10:27.302866Z",
     "shell.execute_reply": "2024-05-06T04:10:27.301960Z",
     "shell.execute_reply.started": "2024-05-06T04:10:27.290993Z"
    }
   },
   "outputs": [],
   "source": [
    "def assemble_model_1Conv(lr=0.0, lr_d=0.0, units=0, spatial_dr=0.0, kernel1=3, dense_units=128, dr=0.1, conv_size=32):\n",
    "    \"\"\"\n",
    "    Similar to the previous model except with a 1D convolutional layer folllwing the recurrent layer. This has a\n",
    "    minimal effect on accuracies but adds a little a bit of value, and isn't computationally that expensive to add.\n",
    "    Importantly, we have to return the sequences from the GRU layer to match the extra dimensinoality of the convolution\n",
    "    layer.\"\"\"\n",
    "    model = Sequential()\n",
    "    model.add(Embedding(vocabulary_size, embed_dim, input_length=max_len))\n",
    "    model.add(SpatialDropout1D(spatial_dr))\n",
    "    model.add(Bidirectional(GRU(units,return_sequences=True))) #Need to return sequences to pass output to a conv layer\n",
    "    model.add(Conv1D(conv_size, kernel_size = kernel1, padding='valid', kernel_initializer='he_uniform'))\n",
    "    model.add(GlobalAveragePooling1D())\n",
    "    model.add(Dense(dense_units, activation='relu'))\n",
    "    model.add(Dropout(dr))\n",
    "    model.add(Dense(target_length, activation='softmax'))\n",
    "    model.compile(loss='categorical_crossentropy', optimizer='adam', metrics=['accuracy'])\n",
    "    \n",
    "    file_path = \"best_model.keras\"\n",
    "    check_point = ModelCheckpoint(file_path, monitor = \"val_loss\", verbose = 1,\n",
    "                                  save_best_only = True, mode = \"min\")\n",
    "    early_stop = tf.keras.callbacks.EarlyStopping(monitor='val_loss', patience=1)\n",
    "    history = model.fit(X_train_pad, y_train_cat, epochs=10, validation_data=(X_test_pad, y_test_cat), \n",
    "                    batch_size=128, callbacks=[early_stop,check_point])\n",
    "    #model.summary()\n",
    "    return model "
   ]
  },
  {
   "cell_type": "markdown",
   "metadata": {},
   "source": [
    "## 3. Add 3 more convolutional layers of decreasing sizes"
   ]
  },
  {
   "cell_type": "code",
   "execution_count": 25,
   "metadata": {
    "execution": {
     "iopub.execute_input": "2024-05-05T22:12:06.017145Z",
     "iopub.status.busy": "2024-05-05T22:12:06.016768Z",
     "iopub.status.idle": "2024-05-05T22:12:06.027840Z",
     "shell.execute_reply": "2024-05-05T22:12:06.026950Z",
     "shell.execute_reply.started": "2024-05-05T22:12:06.017116Z"
    },
    "jupyter": {
     "source_hidden": true
    }
   },
   "outputs": [],
   "source": [
    "def assemble_model_4Conv(lr=0.0, lr_d=0.0, units=0, spatial_dr=0.0, kernel1=3, dense_units=128, dr=0.1, conv_size=32):\n",
    "\n",
    "    model = Sequential()\n",
    "    model.add(Embedding(vocabulary_size, embed_dim, input_length=max_len))\n",
    "    model.add(SpatialDropout1D(spatial_dr))\n",
    "    model.add(Bidirectional(GRU(units,return_sequences=True)))\n",
    "    model.add(Conv1D(4*conv_size, kernel_size = kernel1, padding='valid', kernel_initializer='he_uniform'))\n",
    "    model.add(Conv1D(4*conv_size, kernel_size = kernel1, padding='valid', kernel_initializer='he_uniform'))\n",
    "    model.add(Conv1D(2*conv_size, kernel_size = kernel1, padding='valid', kernel_initializer='he_uniform'))\n",
    "    model.add(Conv1D(conv_size, kernel_size = kernel1, padding='valid', kernel_initializer='he_uniform'))\n",
    "    model.add(GlobalAveragePooling1D())\n",
    "    model.add(Dense(dense_units, activation='relu'))\n",
    "    model.add(Dropout(dr))\n",
    "    model.add(Dense(target_length, activation='softmax'))\n",
    "    model.compile(loss='categorical_crossentropy', optimizer='adam', metrics=['accuracy'])\n",
    "    \n",
    "    file_path = \"best_model.keras\"\n",
    "    check_point = ModelCheckpoint(file_path, monitor = \"val_loss\", verbose = 1,\n",
    "                                  save_best_only = True, mode = \"min\")\n",
    "    early_stop = tf.keras.callbacks.EarlyStopping(monitor='val_loss', patience=1)\n",
    "    history = model.fit(X_train_pad, y_train_cat, epochs=10, validation_data=(X_test_pad, y_test_cat), \n",
    "                    batch_size=128, callbacks=[early_stop,check_point])\n",
    "    #model.summary()\n",
    "    return model"
   ]
  },
  {
   "cell_type": "markdown",
   "metadata": {},
   "source": [
    "## 4. Add 2 more hidden dense layers to the model with 4 convolutional layers."
   ]
  },
  {
   "cell_type": "code",
   "execution_count": 26,
   "metadata": {
    "execution": {
     "iopub.execute_input": "2024-05-05T22:12:06.901337Z",
     "iopub.status.busy": "2024-05-05T22:12:06.900973Z",
     "iopub.status.idle": "2024-05-05T22:12:06.912390Z",
     "shell.execute_reply": "2024-05-05T22:12:06.911500Z",
     "shell.execute_reply.started": "2024-05-05T22:12:06.901310Z"
    },
    "jupyter": {
     "source_hidden": true
    }
   },
   "outputs": [],
   "source": [
    "def assemble_model_4Conv_3Dense(lr=0.0, lr_d=0.0, units=0, spatial_dr=0.0, kernel1=3, dense_units=128, dr=0.1, conv_size=32):\n",
    "\n",
    "    model = Sequential()\n",
    "    model.add(Embedding(vocabulary_size, embed_dim, input_length=max_len))\n",
    "    model.add(SpatialDropout1D(spatial_dr))\n",
    "    model.add(Bidirectional(GRU(units,return_sequences=True)))\n",
    "    model.add(Conv1D(4*conv_size, kernel_size = kernel1, padding='valid', kernel_initializer='he_uniform'))\n",
    "    model.add(Conv1D(4*conv_size, kernel_size = kernel1, padding='valid', kernel_initializer='he_uniform'))\n",
    "    model.add(Conv1D(2*conv_size, kernel_size = kernel1, padding='valid', kernel_initializer='he_uniform'))\n",
    "    model.add(Conv1D(conv_size, kernel_size = kernel1, padding='valid', kernel_initializer='he_uniform'))\n",
    "    model.add(GlobalAveragePooling1D())\n",
    "    model.add(Dense(dense_units, activation='relu'))\n",
    "    model.add(Dense(dense_units, activation='relu'))\n",
    "    model.add(Dense(dense_units, activation='relu'))\n",
    "    model.add(Dropout(dr))\n",
    "    model.add(Dense(target_length, activation='softmax'))\n",
    "    model.compile(loss='categorical_crossentropy', optimizer='adam', metrics=['accuracy'])\n",
    "    \n",
    "    file_path = \"best_model.keras\"\n",
    "    check_point = ModelCheckpoint(file_path, monitor = \"val_loss\", verbose = 1,\n",
    "                                  save_best_only = True, mode = \"min\")\n",
    "    early_stop = tf.keras.callbacks.EarlyStopping(monitor='val_loss', patience=1)\n",
    "    history = model.fit(X_train_pad, y_train_cat, epochs=10, validation_data=(X_test_pad, y_test_cat), \n",
    "                    batch_size=128, callbacks=[early_stop,check_point])\n",
    "    #model.summary()\n",
    "    return model"
   ]
  },
  {
   "cell_type": "markdown",
   "metadata": {},
   "source": [
    "## 5. Now with only 1 convolutional layer, add 2 more hidden dense layers. "
   ]
  },
  {
   "cell_type": "code",
   "execution_count": 27,
   "metadata": {
    "execution": {
     "iopub.execute_input": "2024-05-05T22:12:07.885355Z",
     "iopub.status.busy": "2024-05-05T22:12:07.884450Z",
     "iopub.status.idle": "2024-05-05T22:12:07.894819Z",
     "shell.execute_reply": "2024-05-05T22:12:07.893940Z",
     "shell.execute_reply.started": "2024-05-05T22:12:07.885322Z"
    },
    "jupyter": {
     "source_hidden": true
    }
   },
   "outputs": [],
   "source": [
    "def assemble_model_1Conv_3Dense(lr=0.0, lr_d=0.0, units=0, spatial_dr=0.0, kernel1=3, dense_units=128, dr=0.1, conv_size=32):\n",
    "\n",
    "    model = Sequential()\n",
    "    model.add(Embedding(vocabulary_size, embed_dim, input_length=max_len))\n",
    "    model.add(SpatialDropout1D(spatial_dr))\n",
    "    model.add(Bidirectional(GRU(units,return_sequences=True)))\n",
    "    model.add(Conv1D(conv_size, kernel_size = kernel1, padding='valid', kernel_initializer='he_uniform'))\n",
    "    model.add(GlobalAveragePooling1D())\n",
    "    model.add(Dense(dense_units, activation='relu'))\n",
    "    model.add(Dropout(dr))\n",
    "    model.add(Dense(dense_units, activation='relu'))\n",
    "    model.add(Dropout(dr))\n",
    "    model.add(Dense(dense_units, activation='relu'))\n",
    "    model.add(Dropout(dr))\n",
    "    model.add(Dense(target_length, activation='softmax'))\n",
    "    model.compile(loss='categorical_crossentropy', optimizer='adam', metrics=['accuracy'])\n",
    "    \n",
    "    file_path = \"best_model.keras\"\n",
    "    check_point = ModelCheckpoint(file_path, monitor = \"val_loss\", verbose = 1,\n",
    "                                  save_best_only = True, mode = \"min\")\n",
    "    early_stop = tf.keras.callbacks.EarlyStopping(monitor='val_loss', patience=1)\n",
    "    history = model.fit(X_train_pad, y_train_cat, epochs=10, validation_data=(X_test_pad, y_test_cat), \n",
    "                    batch_size=128, callbacks=[early_stop,check_point])\n",
    "    #model.summary()\n",
    "    return model"
   ]
  },
  {
   "cell_type": "markdown",
   "metadata": {},
   "source": [
    "### Test the different models with similar hyperparameters:"
   ]
  },
  {
   "cell_type": "code",
   "execution_count": 32,
   "metadata": {
    "execution": {
     "iopub.execute_input": "2024-05-06T04:06:46.508895Z",
     "iopub.status.busy": "2024-05-06T04:06:46.508516Z",
     "iopub.status.idle": "2024-05-06T04:07:59.920238Z",
     "shell.execute_reply": "2024-05-06T04:07:59.919247Z",
     "shell.execute_reply.started": "2024-05-06T04:06:46.508866Z"
    }
   },
   "outputs": [
    {
     "name": "stdout",
     "output_type": "stream",
     "text": [
      "Epoch 1/10\n",
      "\u001b[1m1098/1098\u001b[0m \u001b[32m━━━━━━━━━━━━━━━━━━━━\u001b[0m\u001b[37m\u001b[0m \u001b[1m0s\u001b[0m 15ms/step - accuracy: 0.5753 - loss: 1.0578\n",
      "Epoch 1: val_loss improved from inf to 0.81286, saving model to best_model.keras\n",
      "\u001b[1m1098/1098\u001b[0m \u001b[32m━━━━━━━━━━━━━━━━━━━━\u001b[0m\u001b[37m\u001b[0m \u001b[1m21s\u001b[0m 16ms/step - accuracy: 0.5754 - loss: 1.0577 - val_accuracy: 0.6669 - val_loss: 0.8129\n",
      "Epoch 2/10\n",
      "\u001b[1m1096/1098\u001b[0m \u001b[32m━━━━━━━━━━━━━━━━━━━\u001b[0m\u001b[37m━\u001b[0m \u001b[1m0s\u001b[0m 15ms/step - accuracy: 0.6926 - loss: 0.7454\n",
      "Epoch 2: val_loss improved from 0.81286 to 0.78797, saving model to best_model.keras\n",
      "\u001b[1m1098/1098\u001b[0m \u001b[32m━━━━━━━━━━━━━━━━━━━━\u001b[0m\u001b[37m\u001b[0m \u001b[1m18s\u001b[0m 16ms/step - accuracy: 0.6926 - loss: 0.7454 - val_accuracy: 0.6781 - val_loss: 0.7880\n",
      "Epoch 3/10\n",
      "\u001b[1m1096/1098\u001b[0m \u001b[32m━━━━━━━━━━━━━━━━━━━\u001b[0m\u001b[37m━\u001b[0m \u001b[1m0s\u001b[0m 15ms/step - accuracy: 0.7247 - loss: 0.6547\n",
      "Epoch 3: val_loss improved from 0.78797 to 0.78470, saving model to best_model.keras\n",
      "\u001b[1m1098/1098\u001b[0m \u001b[32m━━━━━━━━━━━━━━━━━━━━\u001b[0m\u001b[37m\u001b[0m \u001b[1m18s\u001b[0m 16ms/step - accuracy: 0.7247 - loss: 0.6547 - val_accuracy: 0.6778 - val_loss: 0.7847\n",
      "Epoch 4/10\n",
      "\u001b[1m1096/1098\u001b[0m \u001b[32m━━━━━━━━━━━━━━━━━━━\u001b[0m\u001b[37m━\u001b[0m \u001b[1m0s\u001b[0m 15ms/step - accuracy: 0.7446 - loss: 0.5986\n",
      "Epoch 4: val_loss did not improve from 0.78470\n",
      "\u001b[1m1098/1098\u001b[0m \u001b[32m━━━━━━━━━━━━━━━━━━━━\u001b[0m\u001b[37m\u001b[0m \u001b[1m17s\u001b[0m 16ms/step - accuracy: 0.7446 - loss: 0.5987 - val_accuracy: 0.6797 - val_loss: 0.8165\n"
     ]
    },
    {
     "data": {
      "text/html": [
       "<pre style=\"white-space:pre;overflow-x:auto;line-height:normal;font-family:Menlo,'DejaVu Sans Mono',consolas,'Courier New',monospace\"><span style=\"font-weight: bold\">Model: \"sequential_2\"</span>\n",
       "</pre>\n"
      ],
      "text/plain": [
       "\u001b[1mModel: \"sequential_2\"\u001b[0m\n"
      ]
     },
     "metadata": {},
     "output_type": "display_data"
    },
    {
     "data": {
      "text/html": [
       "<pre style=\"white-space:pre;overflow-x:auto;line-height:normal;font-family:Menlo,'DejaVu Sans Mono',consolas,'Courier New',monospace\">┏━━━━━━━━━━━━━━━━━━━━━━━━━━━━━━━━━┳━━━━━━━━━━━━━━━━━━━━━━━━┳━━━━━━━━━━━━━━━┓\n",
       "┃<span style=\"font-weight: bold\"> Layer (type)                    </span>┃<span style=\"font-weight: bold\"> Output Shape           </span>┃<span style=\"font-weight: bold\">       Param # </span>┃\n",
       "┡━━━━━━━━━━━━━━━━━━━━━━━━━━━━━━━━━╇━━━━━━━━━━━━━━━━━━━━━━━━╇━━━━━━━━━━━━━━━┩\n",
       "│ embedding_12 (<span style=\"color: #0087ff; text-decoration-color: #0087ff\">Embedding</span>)        │ (<span style=\"color: #00d7ff; text-decoration-color: #00d7ff\">None</span>, <span style=\"color: #00af00; text-decoration-color: #00af00\">52</span>, <span style=\"color: #00af00; text-decoration-color: #00af00\">300</span>)        │     <span style=\"color: #00af00; text-decoration-color: #00af00\">4,586,700</span> │\n",
       "├─────────────────────────────────┼────────────────────────┼───────────────┤\n",
       "│ spatial_dropout1d_12            │ (<span style=\"color: #00d7ff; text-decoration-color: #00d7ff\">None</span>, <span style=\"color: #00af00; text-decoration-color: #00af00\">52</span>, <span style=\"color: #00af00; text-decoration-color: #00af00\">300</span>)        │             <span style=\"color: #00af00; text-decoration-color: #00af00\">0</span> │\n",
       "│ (<span style=\"color: #0087ff; text-decoration-color: #0087ff\">SpatialDropout1D</span>)              │                        │               │\n",
       "├─────────────────────────────────┼────────────────────────┼───────────────┤\n",
       "│ bidirectional_12                │ (<span style=\"color: #00d7ff; text-decoration-color: #00d7ff\">None</span>, <span style=\"color: #00af00; text-decoration-color: #00af00\">256</span>)            │       <span style=\"color: #00af00; text-decoration-color: #00af00\">330,240</span> │\n",
       "│ (<span style=\"color: #0087ff; text-decoration-color: #0087ff\">Bidirectional</span>)                 │                        │               │\n",
       "├─────────────────────────────────┼────────────────────────┼───────────────┤\n",
       "│ dense_34 (<span style=\"color: #0087ff; text-decoration-color: #0087ff\">Dense</span>)                │ (<span style=\"color: #00d7ff; text-decoration-color: #00d7ff\">None</span>, <span style=\"color: #00af00; text-decoration-color: #00af00\">128</span>)            │        <span style=\"color: #00af00; text-decoration-color: #00af00\">32,896</span> │\n",
       "├─────────────────────────────────┼────────────────────────┼───────────────┤\n",
       "│ dropout_22 (<span style=\"color: #0087ff; text-decoration-color: #0087ff\">Dropout</span>)            │ (<span style=\"color: #00d7ff; text-decoration-color: #00d7ff\">None</span>, <span style=\"color: #00af00; text-decoration-color: #00af00\">128</span>)            │             <span style=\"color: #00af00; text-decoration-color: #00af00\">0</span> │\n",
       "├─────────────────────────────────┼────────────────────────┼───────────────┤\n",
       "│ dense_35 (<span style=\"color: #0087ff; text-decoration-color: #0087ff\">Dense</span>)                │ (<span style=\"color: #00d7ff; text-decoration-color: #00d7ff\">None</span>, <span style=\"color: #00af00; text-decoration-color: #00af00\">5</span>)              │           <span style=\"color: #00af00; text-decoration-color: #00af00\">645</span> │\n",
       "└─────────────────────────────────┴────────────────────────┴───────────────┘\n",
       "</pre>\n"
      ],
      "text/plain": [
       "┏━━━━━━━━━━━━━━━━━━━━━━━━━━━━━━━━━┳━━━━━━━━━━━━━━━━━━━━━━━━┳━━━━━━━━━━━━━━━┓\n",
       "┃\u001b[1m \u001b[0m\u001b[1mLayer (type)                   \u001b[0m\u001b[1m \u001b[0m┃\u001b[1m \u001b[0m\u001b[1mOutput Shape          \u001b[0m\u001b[1m \u001b[0m┃\u001b[1m \u001b[0m\u001b[1m      Param #\u001b[0m\u001b[1m \u001b[0m┃\n",
       "┡━━━━━━━━━━━━━━━━━━━━━━━━━━━━━━━━━╇━━━━━━━━━━━━━━━━━━━━━━━━╇━━━━━━━━━━━━━━━┩\n",
       "│ embedding_12 (\u001b[38;5;33mEmbedding\u001b[0m)        │ (\u001b[38;5;45mNone\u001b[0m, \u001b[38;5;34m52\u001b[0m, \u001b[38;5;34m300\u001b[0m)        │     \u001b[38;5;34m4,586,700\u001b[0m │\n",
       "├─────────────────────────────────┼────────────────────────┼───────────────┤\n",
       "│ spatial_dropout1d_12            │ (\u001b[38;5;45mNone\u001b[0m, \u001b[38;5;34m52\u001b[0m, \u001b[38;5;34m300\u001b[0m)        │             \u001b[38;5;34m0\u001b[0m │\n",
       "│ (\u001b[38;5;33mSpatialDropout1D\u001b[0m)              │                        │               │\n",
       "├─────────────────────────────────┼────────────────────────┼───────────────┤\n",
       "│ bidirectional_12                │ (\u001b[38;5;45mNone\u001b[0m, \u001b[38;5;34m256\u001b[0m)            │       \u001b[38;5;34m330,240\u001b[0m │\n",
       "│ (\u001b[38;5;33mBidirectional\u001b[0m)                 │                        │               │\n",
       "├─────────────────────────────────┼────────────────────────┼───────────────┤\n",
       "│ dense_34 (\u001b[38;5;33mDense\u001b[0m)                │ (\u001b[38;5;45mNone\u001b[0m, \u001b[38;5;34m128\u001b[0m)            │        \u001b[38;5;34m32,896\u001b[0m │\n",
       "├─────────────────────────────────┼────────────────────────┼───────────────┤\n",
       "│ dropout_22 (\u001b[38;5;33mDropout\u001b[0m)            │ (\u001b[38;5;45mNone\u001b[0m, \u001b[38;5;34m128\u001b[0m)            │             \u001b[38;5;34m0\u001b[0m │\n",
       "├─────────────────────────────────┼────────────────────────┼───────────────┤\n",
       "│ dense_35 (\u001b[38;5;33mDense\u001b[0m)                │ (\u001b[38;5;45mNone\u001b[0m, \u001b[38;5;34m5\u001b[0m)              │           \u001b[38;5;34m645\u001b[0m │\n",
       "└─────────────────────────────────┴────────────────────────┴───────────────┘\n"
      ]
     },
     "metadata": {},
     "output_type": "display_data"
    },
    {
     "data": {
      "text/html": [
       "<pre style=\"white-space:pre;overflow-x:auto;line-height:normal;font-family:Menlo,'DejaVu Sans Mono',consolas,'Courier New',monospace\"><span style=\"font-weight: bold\"> Total params: </span><span style=\"color: #00af00; text-decoration-color: #00af00\">14,851,445</span> (56.65 MB)\n",
       "</pre>\n"
      ],
      "text/plain": [
       "\u001b[1m Total params: \u001b[0m\u001b[38;5;34m14,851,445\u001b[0m (56.65 MB)\n"
      ]
     },
     "metadata": {},
     "output_type": "display_data"
    },
    {
     "data": {
      "text/html": [
       "<pre style=\"white-space:pre;overflow-x:auto;line-height:normal;font-family:Menlo,'DejaVu Sans Mono',consolas,'Courier New',monospace\"><span style=\"font-weight: bold\"> Trainable params: </span><span style=\"color: #00af00; text-decoration-color: #00af00\">4,950,481</span> (18.88 MB)\n",
       "</pre>\n"
      ],
      "text/plain": [
       "\u001b[1m Trainable params: \u001b[0m\u001b[38;5;34m4,950,481\u001b[0m (18.88 MB)\n"
      ]
     },
     "metadata": {},
     "output_type": "display_data"
    },
    {
     "data": {
      "text/html": [
       "<pre style=\"white-space:pre;overflow-x:auto;line-height:normal;font-family:Menlo,'DejaVu Sans Mono',consolas,'Courier New',monospace\"><span style=\"font-weight: bold\"> Non-trainable params: </span><span style=\"color: #00af00; text-decoration-color: #00af00\">0</span> (0.00 B)\n",
       "</pre>\n"
      ],
      "text/plain": [
       "\u001b[1m Non-trainable params: \u001b[0m\u001b[38;5;34m0\u001b[0m (0.00 B)\n"
      ]
     },
     "metadata": {},
     "output_type": "display_data"
    },
    {
     "data": {
      "text/html": [
       "<pre style=\"white-space:pre;overflow-x:auto;line-height:normal;font-family:Menlo,'DejaVu Sans Mono',consolas,'Courier New',monospace\"><span style=\"font-weight: bold\"> Optimizer params: </span><span style=\"color: #00af00; text-decoration-color: #00af00\">9,900,964</span> (37.77 MB)\n",
       "</pre>\n"
      ],
      "text/plain": [
       "\u001b[1m Optimizer params: \u001b[0m\u001b[38;5;34m9,900,964\u001b[0m (37.77 MB)\n"
      ]
     },
     "metadata": {},
     "output_type": "display_data"
    }
   ],
   "source": [
    "model_none = assemble_model_noConv(lr = 1e-3, lr_d = 1e-7, units = 128, spatial_dr = 0.2, kernel1=3, dense_units=128, dr=0.3)"
   ]
  },
  {
   "cell_type": "code",
   "execution_count": 51,
   "metadata": {
    "execution": {
     "iopub.execute_input": "2024-05-05T22:42:27.813566Z",
     "iopub.status.busy": "2024-05-05T22:42:27.812614Z",
     "iopub.status.idle": "2024-05-05T22:43:45.956349Z",
     "shell.execute_reply": "2024-05-05T22:43:45.955408Z",
     "shell.execute_reply.started": "2024-05-05T22:42:27.813530Z"
    }
   },
   "outputs": [
    {
     "name": "stdout",
     "output_type": "stream",
     "text": [
      "Epoch 1/10\n",
      "\u001b[1m1095/1098\u001b[0m \u001b[32m━━━━━━━━━━━━━━━━━━━\u001b[0m\u001b[37m━\u001b[0m \u001b[1m0s\u001b[0m 16ms/step - accuracy: 0.5483 - loss: 1.1415\n",
      "Epoch 1: val_loss improved from inf to 0.83930, saving model to best_model.keras\n",
      "\u001b[1m1098/1098\u001b[0m \u001b[32m━━━━━━━━━━━━━━━━━━━━\u001b[0m\u001b[37m\u001b[0m \u001b[1m22s\u001b[0m 17ms/step - accuracy: 0.5484 - loss: 1.1410 - val_accuracy: 0.6562 - val_loss: 0.8393\n",
      "Epoch 2/10\n",
      "\u001b[1m1095/1098\u001b[0m \u001b[32m━━━━━━━━━━━━━━━━━━━\u001b[0m\u001b[37m━\u001b[0m \u001b[1m0s\u001b[0m 16ms/step - accuracy: 0.6892 - loss: 0.7616\n",
      "Epoch 2: val_loss improved from 0.83930 to 0.79917, saving model to best_model.keras\n",
      "\u001b[1m1098/1098\u001b[0m \u001b[32m━━━━━━━━━━━━━━━━━━━━\u001b[0m\u001b[37m\u001b[0m \u001b[1m19s\u001b[0m 17ms/step - accuracy: 0.6892 - loss: 0.7616 - val_accuracy: 0.6774 - val_loss: 0.7992\n",
      "Epoch 3/10\n",
      "\u001b[1m1096/1098\u001b[0m \u001b[32m━━━━━━━━━━━━━━━━━━━\u001b[0m\u001b[37m━\u001b[0m \u001b[1m0s\u001b[0m 16ms/step - accuracy: 0.7174 - loss: 0.6774\n",
      "Epoch 3: val_loss improved from 0.79917 to 0.79357, saving model to best_model.keras\n",
      "\u001b[1m1098/1098\u001b[0m \u001b[32m━━━━━━━━━━━━━━━━━━━━\u001b[0m\u001b[37m\u001b[0m \u001b[1m19s\u001b[0m 17ms/step - accuracy: 0.7174 - loss: 0.6774 - val_accuracy: 0.6828 - val_loss: 0.7936\n",
      "Epoch 4/10\n",
      "\u001b[1m1095/1098\u001b[0m \u001b[32m━━━━━━━━━━━━━━━━━━━\u001b[0m\u001b[37m━\u001b[0m \u001b[1m0s\u001b[0m 16ms/step - accuracy: 0.7397 - loss: 0.6144\n",
      "Epoch 4: val_loss did not improve from 0.79357\n",
      "\u001b[1m1098/1098\u001b[0m \u001b[32m━━━━━━━━━━━━━━━━━━━━\u001b[0m\u001b[37m\u001b[0m \u001b[1m19s\u001b[0m 17ms/step - accuracy: 0.7397 - loss: 0.6144 - val_accuracy: 0.6785 - val_loss: 0.8156\n"
     ]
    },
    {
     "data": {
      "text/html": [
       "<pre style=\"white-space:pre;overflow-x:auto;line-height:normal;font-family:Menlo,'DejaVu Sans Mono',consolas,'Courier New',monospace\"><span style=\"font-weight: bold\">Model: \"sequential_15\"</span>\n",
       "</pre>\n"
      ],
      "text/plain": [
       "\u001b[1mModel: \"sequential_15\"\u001b[0m\n"
      ]
     },
     "metadata": {},
     "output_type": "display_data"
    },
    {
     "data": {
      "text/html": [
       "<pre style=\"white-space:pre;overflow-x:auto;line-height:normal;font-family:Menlo,'DejaVu Sans Mono',consolas,'Courier New',monospace\">┏━━━━━━━━━━━━━━━━━━━━━━━━━━━━━━━━━┳━━━━━━━━━━━━━━━━━━━━━━━━┳━━━━━━━━━━━━━━━┓\n",
       "┃<span style=\"font-weight: bold\"> Layer (type)                    </span>┃<span style=\"font-weight: bold\"> Output Shape           </span>┃<span style=\"font-weight: bold\">       Param # </span>┃\n",
       "┡━━━━━━━━━━━━━━━━━━━━━━━━━━━━━━━━━╇━━━━━━━━━━━━━━━━━━━━━━━━╇━━━━━━━━━━━━━━━┩\n",
       "│ embedding_15 (<span style=\"color: #0087ff; text-decoration-color: #0087ff\">Embedding</span>)        │ (<span style=\"color: #00d7ff; text-decoration-color: #00d7ff\">None</span>, <span style=\"color: #00af00; text-decoration-color: #00af00\">52</span>, <span style=\"color: #00af00; text-decoration-color: #00af00\">300</span>)        │     <span style=\"color: #00af00; text-decoration-color: #00af00\">4,586,700</span> │\n",
       "├─────────────────────────────────┼────────────────────────┼───────────────┤\n",
       "│ spatial_dropout1d_15            │ (<span style=\"color: #00d7ff; text-decoration-color: #00d7ff\">None</span>, <span style=\"color: #00af00; text-decoration-color: #00af00\">52</span>, <span style=\"color: #00af00; text-decoration-color: #00af00\">300</span>)        │             <span style=\"color: #00af00; text-decoration-color: #00af00\">0</span> │\n",
       "│ (<span style=\"color: #0087ff; text-decoration-color: #0087ff\">SpatialDropout1D</span>)              │                        │               │\n",
       "├─────────────────────────────────┼────────────────────────┼───────────────┤\n",
       "│ bidirectional_15                │ (<span style=\"color: #00d7ff; text-decoration-color: #00d7ff\">None</span>, <span style=\"color: #00af00; text-decoration-color: #00af00\">52</span>, <span style=\"color: #00af00; text-decoration-color: #00af00\">256</span>)        │       <span style=\"color: #00af00; text-decoration-color: #00af00\">330,240</span> │\n",
       "│ (<span style=\"color: #0087ff; text-decoration-color: #0087ff\">Bidirectional</span>)                 │                        │               │\n",
       "├─────────────────────────────────┼────────────────────────┼───────────────┤\n",
       "│ conv1d_15 (<span style=\"color: #0087ff; text-decoration-color: #0087ff\">Conv1D</span>)              │ (<span style=\"color: #00d7ff; text-decoration-color: #00d7ff\">None</span>, <span style=\"color: #00af00; text-decoration-color: #00af00\">50</span>, <span style=\"color: #00af00; text-decoration-color: #00af00\">32</span>)         │        <span style=\"color: #00af00; text-decoration-color: #00af00\">24,608</span> │\n",
       "├─────────────────────────────────┼────────────────────────┼───────────────┤\n",
       "│ global_average_pooling1d_9      │ (<span style=\"color: #00d7ff; text-decoration-color: #00d7ff\">None</span>, <span style=\"color: #00af00; text-decoration-color: #00af00\">32</span>)             │             <span style=\"color: #00af00; text-decoration-color: #00af00\">0</span> │\n",
       "│ (<span style=\"color: #0087ff; text-decoration-color: #0087ff\">GlobalAveragePooling1D</span>)        │                        │               │\n",
       "├─────────────────────────────────┼────────────────────────┼───────────────┤\n",
       "│ dense_34 (<span style=\"color: #0087ff; text-decoration-color: #0087ff\">Dense</span>)                │ (<span style=\"color: #00d7ff; text-decoration-color: #00d7ff\">None</span>, <span style=\"color: #00af00; text-decoration-color: #00af00\">128</span>)            │         <span style=\"color: #00af00; text-decoration-color: #00af00\">4,224</span> │\n",
       "├─────────────────────────────────┼────────────────────────┼───────────────┤\n",
       "│ dropout_15 (<span style=\"color: #0087ff; text-decoration-color: #0087ff\">Dropout</span>)            │ (<span style=\"color: #00d7ff; text-decoration-color: #00d7ff\">None</span>, <span style=\"color: #00af00; text-decoration-color: #00af00\">128</span>)            │             <span style=\"color: #00af00; text-decoration-color: #00af00\">0</span> │\n",
       "├─────────────────────────────────┼────────────────────────┼───────────────┤\n",
       "│ dense_35 (<span style=\"color: #0087ff; text-decoration-color: #0087ff\">Dense</span>)                │ (<span style=\"color: #00d7ff; text-decoration-color: #00d7ff\">None</span>, <span style=\"color: #00af00; text-decoration-color: #00af00\">5</span>)              │           <span style=\"color: #00af00; text-decoration-color: #00af00\">645</span> │\n",
       "└─────────────────────────────────┴────────────────────────┴───────────────┘\n",
       "</pre>\n"
      ],
      "text/plain": [
       "┏━━━━━━━━━━━━━━━━━━━━━━━━━━━━━━━━━┳━━━━━━━━━━━━━━━━━━━━━━━━┳━━━━━━━━━━━━━━━┓\n",
       "┃\u001b[1m \u001b[0m\u001b[1mLayer (type)                   \u001b[0m\u001b[1m \u001b[0m┃\u001b[1m \u001b[0m\u001b[1mOutput Shape          \u001b[0m\u001b[1m \u001b[0m┃\u001b[1m \u001b[0m\u001b[1m      Param #\u001b[0m\u001b[1m \u001b[0m┃\n",
       "┡━━━━━━━━━━━━━━━━━━━━━━━━━━━━━━━━━╇━━━━━━━━━━━━━━━━━━━━━━━━╇━━━━━━━━━━━━━━━┩\n",
       "│ embedding_15 (\u001b[38;5;33mEmbedding\u001b[0m)        │ (\u001b[38;5;45mNone\u001b[0m, \u001b[38;5;34m52\u001b[0m, \u001b[38;5;34m300\u001b[0m)        │     \u001b[38;5;34m4,586,700\u001b[0m │\n",
       "├─────────────────────────────────┼────────────────────────┼───────────────┤\n",
       "│ spatial_dropout1d_15            │ (\u001b[38;5;45mNone\u001b[0m, \u001b[38;5;34m52\u001b[0m, \u001b[38;5;34m300\u001b[0m)        │             \u001b[38;5;34m0\u001b[0m │\n",
       "│ (\u001b[38;5;33mSpatialDropout1D\u001b[0m)              │                        │               │\n",
       "├─────────────────────────────────┼────────────────────────┼───────────────┤\n",
       "│ bidirectional_15                │ (\u001b[38;5;45mNone\u001b[0m, \u001b[38;5;34m52\u001b[0m, \u001b[38;5;34m256\u001b[0m)        │       \u001b[38;5;34m330,240\u001b[0m │\n",
       "│ (\u001b[38;5;33mBidirectional\u001b[0m)                 │                        │               │\n",
       "├─────────────────────────────────┼────────────────────────┼───────────────┤\n",
       "│ conv1d_15 (\u001b[38;5;33mConv1D\u001b[0m)              │ (\u001b[38;5;45mNone\u001b[0m, \u001b[38;5;34m50\u001b[0m, \u001b[38;5;34m32\u001b[0m)         │        \u001b[38;5;34m24,608\u001b[0m │\n",
       "├─────────────────────────────────┼────────────────────────┼───────────────┤\n",
       "│ global_average_pooling1d_9      │ (\u001b[38;5;45mNone\u001b[0m, \u001b[38;5;34m32\u001b[0m)             │             \u001b[38;5;34m0\u001b[0m │\n",
       "│ (\u001b[38;5;33mGlobalAveragePooling1D\u001b[0m)        │                        │               │\n",
       "├─────────────────────────────────┼────────────────────────┼───────────────┤\n",
       "│ dense_34 (\u001b[38;5;33mDense\u001b[0m)                │ (\u001b[38;5;45mNone\u001b[0m, \u001b[38;5;34m128\u001b[0m)            │         \u001b[38;5;34m4,224\u001b[0m │\n",
       "├─────────────────────────────────┼────────────────────────┼───────────────┤\n",
       "│ dropout_15 (\u001b[38;5;33mDropout\u001b[0m)            │ (\u001b[38;5;45mNone\u001b[0m, \u001b[38;5;34m128\u001b[0m)            │             \u001b[38;5;34m0\u001b[0m │\n",
       "├─────────────────────────────────┼────────────────────────┼───────────────┤\n",
       "│ dense_35 (\u001b[38;5;33mDense\u001b[0m)                │ (\u001b[38;5;45mNone\u001b[0m, \u001b[38;5;34m5\u001b[0m)              │           \u001b[38;5;34m645\u001b[0m │\n",
       "└─────────────────────────────────┴────────────────────────┴───────────────┘\n"
      ]
     },
     "metadata": {},
     "output_type": "display_data"
    },
    {
     "data": {
      "text/html": [
       "<pre style=\"white-space:pre;overflow-x:auto;line-height:normal;font-family:Menlo,'DejaVu Sans Mono',consolas,'Courier New',monospace\"><span style=\"font-weight: bold\"> Total params: </span><span style=\"color: #00af00; text-decoration-color: #00af00\">14,839,253</span> (56.61 MB)\n",
       "</pre>\n"
      ],
      "text/plain": [
       "\u001b[1m Total params: \u001b[0m\u001b[38;5;34m14,839,253\u001b[0m (56.61 MB)\n"
      ]
     },
     "metadata": {},
     "output_type": "display_data"
    },
    {
     "data": {
      "text/html": [
       "<pre style=\"white-space:pre;overflow-x:auto;line-height:normal;font-family:Menlo,'DejaVu Sans Mono',consolas,'Courier New',monospace\"><span style=\"font-weight: bold\"> Trainable params: </span><span style=\"color: #00af00; text-decoration-color: #00af00\">4,946,417</span> (18.87 MB)\n",
       "</pre>\n"
      ],
      "text/plain": [
       "\u001b[1m Trainable params: \u001b[0m\u001b[38;5;34m4,946,417\u001b[0m (18.87 MB)\n"
      ]
     },
     "metadata": {},
     "output_type": "display_data"
    },
    {
     "data": {
      "text/html": [
       "<pre style=\"white-space:pre;overflow-x:auto;line-height:normal;font-family:Menlo,'DejaVu Sans Mono',consolas,'Courier New',monospace\"><span style=\"font-weight: bold\"> Non-trainable params: </span><span style=\"color: #00af00; text-decoration-color: #00af00\">0</span> (0.00 B)\n",
       "</pre>\n"
      ],
      "text/plain": [
       "\u001b[1m Non-trainable params: \u001b[0m\u001b[38;5;34m0\u001b[0m (0.00 B)\n"
      ]
     },
     "metadata": {},
     "output_type": "display_data"
    },
    {
     "data": {
      "text/html": [
       "<pre style=\"white-space:pre;overflow-x:auto;line-height:normal;font-family:Menlo,'DejaVu Sans Mono',consolas,'Courier New',monospace\"><span style=\"font-weight: bold\"> Optimizer params: </span><span style=\"color: #00af00; text-decoration-color: #00af00\">9,892,836</span> (37.74 MB)\n",
       "</pre>\n"
      ],
      "text/plain": [
       "\u001b[1m Optimizer params: \u001b[0m\u001b[38;5;34m9,892,836\u001b[0m (37.74 MB)\n"
      ]
     },
     "metadata": {},
     "output_type": "display_data"
    }
   ],
   "source": [
    "model_1conv = assemble_model_1Conv(lr=1e-3, lr_d=1e-7, units=128, spatial_dr=0.3, kernel1=3, dense_units=128, dr=0.1, conv_size=32)"
   ]
  },
  {
   "cell_type": "code",
   "execution_count": 30,
   "metadata": {
    "execution": {
     "iopub.execute_input": "2024-05-05T22:14:27.420484Z",
     "iopub.status.busy": "2024-05-05T22:14:27.420199Z",
     "iopub.status.idle": "2024-05-05T22:15:38.836482Z",
     "shell.execute_reply": "2024-05-05T22:15:38.835682Z",
     "shell.execute_reply.started": "2024-05-05T22:14:27.420459Z"
    }
   },
   "outputs": [
    {
     "name": "stdout",
     "output_type": "stream",
     "text": [
      "Epoch 1/10\n",
      "\u001b[1m1098/1098\u001b[0m \u001b[32m━━━━━━━━━━━━━━━━━━━━\u001b[0m\u001b[37m\u001b[0m \u001b[1m0s\u001b[0m 19ms/step - accuracy: 0.5446 - loss: 1.1596\n",
      "Epoch 1: val_loss improved from inf to 0.85497, saving model to best_model.keras\n",
      "\u001b[1m1098/1098\u001b[0m \u001b[32m━━━━━━━━━━━━━━━━━━━━\u001b[0m\u001b[37m\u001b[0m \u001b[1m27s\u001b[0m 21ms/step - accuracy: 0.5446 - loss: 1.1595 - val_accuracy: 0.6498 - val_loss: 0.8550\n",
      "Epoch 2/10\n",
      "\u001b[1m1096/1098\u001b[0m \u001b[32m━━━━━━━━━━━━━━━━━━━\u001b[0m\u001b[37m━\u001b[0m \u001b[1m0s\u001b[0m 19ms/step - accuracy: 0.6782 - loss: 0.7882\n",
      "Epoch 2: val_loss improved from 0.85497 to 0.80403, saving model to best_model.keras\n",
      "\u001b[1m1098/1098\u001b[0m \u001b[32m━━━━━━━━━━━━━━━━━━━━\u001b[0m\u001b[37m\u001b[0m \u001b[1m22s\u001b[0m 20ms/step - accuracy: 0.6782 - loss: 0.7882 - val_accuracy: 0.6777 - val_loss: 0.8040\n",
      "Epoch 3/10\n",
      "\u001b[1m1098/1098\u001b[0m \u001b[32m━━━━━━━━━━━━━━━━━━━━\u001b[0m\u001b[37m\u001b[0m \u001b[1m0s\u001b[0m 19ms/step - accuracy: 0.7142 - loss: 0.6945\n",
      "Epoch 3: val_loss did not improve from 0.80403\n",
      "\u001b[1m1098/1098\u001b[0m \u001b[32m━━━━━━━━━━━━━━━━━━━━\u001b[0m\u001b[37m\u001b[0m \u001b[1m22s\u001b[0m 20ms/step - accuracy: 0.7142 - loss: 0.6945 - val_accuracy: 0.6756 - val_loss: 0.8046\n"
     ]
    }
   ],
   "source": [
    "model_4conv = assemble_model_4Conv(lr=1e-3, lr_d=1e-7, units=128, spatial_dr=0.3, kernel1=3, dense_units=128, dr=0.1, conv_size=32)\n"
   ]
  },
  {
   "cell_type": "code",
   "execution_count": 31,
   "metadata": {
    "execution": {
     "iopub.execute_input": "2024-05-05T22:15:38.838954Z",
     "iopub.status.busy": "2024-05-05T22:15:38.838666Z",
     "iopub.status.idle": "2024-05-05T22:17:14.174124Z",
     "shell.execute_reply": "2024-05-05T22:17:14.173303Z",
     "shell.execute_reply.started": "2024-05-05T22:15:38.838927Z"
    }
   },
   "outputs": [
    {
     "name": "stdout",
     "output_type": "stream",
     "text": [
      "Epoch 1/10\n",
      "\u001b[1m1096/1098\u001b[0m \u001b[32m━━━━━━━━━━━━━━━━━━━\u001b[0m\u001b[37m━\u001b[0m \u001b[1m0s\u001b[0m 20ms/step - accuracy: 0.5414 - loss: 1.1747\n",
      "Epoch 1: val_loss improved from inf to 0.87089, saving model to best_model.keras\n",
      "\u001b[1m1098/1098\u001b[0m \u001b[32m━━━━━━━━━━━━━━━━━━━━\u001b[0m\u001b[37m\u001b[0m \u001b[1m27s\u001b[0m 21ms/step - accuracy: 0.5415 - loss: 1.1744 - val_accuracy: 0.6428 - val_loss: 0.8709\n",
      "Epoch 2/10\n",
      "\u001b[1m1098/1098\u001b[0m \u001b[32m━━━━━━━━━━━━━━━━━━━━\u001b[0m\u001b[37m\u001b[0m \u001b[1m0s\u001b[0m 20ms/step - accuracy: 0.6707 - loss: 0.8047\n",
      "Epoch 2: val_loss improved from 0.87089 to 0.81032, saving model to best_model.keras\n",
      "\u001b[1m1098/1098\u001b[0m \u001b[32m━━━━━━━━━━━━━━━━━━━━\u001b[0m\u001b[37m\u001b[0m \u001b[1m23s\u001b[0m 21ms/step - accuracy: 0.6707 - loss: 0.8046 - val_accuracy: 0.6698 - val_loss: 0.8103\n",
      "Epoch 3/10\n",
      "\u001b[1m1096/1098\u001b[0m \u001b[32m━━━━━━━━━━━━━━━━━━━\u001b[0m\u001b[37m━\u001b[0m \u001b[1m0s\u001b[0m 20ms/step - accuracy: 0.7084 - loss: 0.7035\n",
      "Epoch 3: val_loss improved from 0.81032 to 0.79635, saving model to best_model.keras\n",
      "\u001b[1m1098/1098\u001b[0m \u001b[32m━━━━━━━━━━━━━━━━━━━━\u001b[0m\u001b[37m\u001b[0m \u001b[1m23s\u001b[0m 21ms/step - accuracy: 0.7084 - loss: 0.7036 - val_accuracy: 0.6788 - val_loss: 0.7963\n",
      "Epoch 4/10\n",
      "\u001b[1m1098/1098\u001b[0m \u001b[32m━━━━━━━━━━━━━━━━━━━━\u001b[0m\u001b[37m\u001b[0m \u001b[1m0s\u001b[0m 20ms/step - accuracy: 0.7350 - loss: 0.6362\n",
      "Epoch 4: val_loss did not improve from 0.79635\n",
      "\u001b[1m1098/1098\u001b[0m \u001b[32m━━━━━━━━━━━━━━━━━━━━\u001b[0m\u001b[37m\u001b[0m \u001b[1m22s\u001b[0m 20ms/step - accuracy: 0.7350 - loss: 0.6362 - val_accuracy: 0.6795 - val_loss: 0.8039\n"
     ]
    }
   ],
   "source": [
    "model_4conv_3dense = assemble_model_4Conv_3Dense(lr=1e-3, lr_d=1e-7, units=128, spatial_dr=0.3, kernel1=3, dense_units=128, dr=0.1, conv_size=32)\n"
   ]
  },
  {
   "cell_type": "code",
   "execution_count": 32,
   "metadata": {
    "execution": {
     "iopub.execute_input": "2024-05-05T22:17:14.175974Z",
     "iopub.status.busy": "2024-05-05T22:17:14.175654Z",
     "iopub.status.idle": "2024-05-05T22:18:36.601282Z",
     "shell.execute_reply": "2024-05-05T22:18:36.600443Z",
     "shell.execute_reply.started": "2024-05-05T22:17:14.175948Z"
    }
   },
   "outputs": [
    {
     "name": "stdout",
     "output_type": "stream",
     "text": [
      "Epoch 1/10\n",
      "\u001b[1m1097/1098\u001b[0m \u001b[32m━━━━━━━━━━━━━━━━━━━\u001b[0m\u001b[37m━\u001b[0m \u001b[1m0s\u001b[0m 17ms/step - accuracy: 0.5372 - loss: 1.1703\n",
      "Epoch 1: val_loss improved from inf to 0.86125, saving model to best_model.keras\n",
      "\u001b[1m1098/1098\u001b[0m \u001b[32m━━━━━━━━━━━━━━━━━━━━\u001b[0m\u001b[37m\u001b[0m \u001b[1m24s\u001b[0m 18ms/step - accuracy: 0.5373 - loss: 1.1701 - val_accuracy: 0.6478 - val_loss: 0.8613\n",
      "Epoch 2/10\n",
      "\u001b[1m1097/1098\u001b[0m \u001b[32m━━━━━━━━━━━━━━━━━━━\u001b[0m\u001b[37m━\u001b[0m \u001b[1m0s\u001b[0m 17ms/step - accuracy: 0.6792 - loss: 0.7845\n",
      "Epoch 2: val_loss improved from 0.86125 to 0.79465, saving model to best_model.keras\n",
      "\u001b[1m1098/1098\u001b[0m \u001b[32m━━━━━━━━━━━━━━━━━━━━\u001b[0m\u001b[37m\u001b[0m \u001b[1m20s\u001b[0m 18ms/step - accuracy: 0.6792 - loss: 0.7845 - val_accuracy: 0.6745 - val_loss: 0.7947\n",
      "Epoch 3/10\n",
      "\u001b[1m1096/1098\u001b[0m \u001b[32m━━━━━━━━━━━━━━━━━━━\u001b[0m\u001b[37m━\u001b[0m \u001b[1m0s\u001b[0m 17ms/step - accuracy: 0.7181 - loss: 0.6789\n",
      "Epoch 3: val_loss improved from 0.79465 to 0.79442, saving model to best_model.keras\n",
      "\u001b[1m1098/1098\u001b[0m \u001b[32m━━━━━━━━━━━━━━━━━━━━\u001b[0m\u001b[37m\u001b[0m \u001b[1m20s\u001b[0m 18ms/step - accuracy: 0.7181 - loss: 0.6790 - val_accuracy: 0.6813 - val_loss: 0.7944\n",
      "Epoch 4/10\n",
      "\u001b[1m1097/1098\u001b[0m \u001b[32m━━━━━━━━━━━━━━━━━━━\u001b[0m\u001b[37m━\u001b[0m \u001b[1m0s\u001b[0m 17ms/step - accuracy: 0.7379 - loss: 0.6254\n",
      "Epoch 4: val_loss did not improve from 0.79442\n",
      "\u001b[1m1098/1098\u001b[0m \u001b[32m━━━━━━━━━━━━━━━━━━━━\u001b[0m\u001b[37m\u001b[0m \u001b[1m19s\u001b[0m 18ms/step - accuracy: 0.7378 - loss: 0.6254 - val_accuracy: 0.6836 - val_loss: 0.8018\n"
     ]
    }
   ],
   "source": [
    "model_4conv_3dense = assemble_model_1Conv_3Dense(lr=1e-3, lr_d=1e-7, units=128, spatial_dr=0.3, kernel1=3, dense_units=128, dr=0.1, conv_size=32)"
   ]
  },
  {
   "cell_type": "markdown",
   "metadata": {},
   "source": [
    "It appears that the best/most efficient models are ones with no more than 1 convolutional layer and 1 hidden dense layer following the bidirectional GRU layer. The more complex architectures do not gain enough validation accuracy to offset the computational expense. We will use these models to make predictions. (Hyperparameters have been tuned already)."
   ]
  },
  {
   "cell_type": "markdown",
   "metadata": {},
   "source": [
    "# Use Best Model to Make predictions"
   ]
  },
  {
   "cell_type": "code",
   "execution_count": 33,
   "metadata": {
    "execution": {
     "iopub.execute_input": "2024-05-05T22:19:52.199476Z",
     "iopub.status.busy": "2024-05-05T22:19:52.198787Z",
     "iopub.status.idle": "2024-05-05T22:19:54.007894Z",
     "shell.execute_reply": "2024-05-05T22:19:54.006946Z",
     "shell.execute_reply.started": "2024-05-05T22:19:52.199449Z"
    }
   },
   "outputs": [
    {
     "name": "stdout",
     "output_type": "stream",
     "text": [
      "\u001b[1m65/65\u001b[0m \u001b[32m━━━━━━━━━━━━━━━━━━━━\u001b[0m\u001b[37m\u001b[0m \u001b[1m2s\u001b[0m 21ms/step\n",
      "Submission saved!\n"
     ]
    }
   ],
   "source": [
    "pred = model_1conv.predict(X_sub_pad, batch_size = 1024, verbose = 1)\n",
    "predictions = np.round(np.argmax(pred, axis=1)).astype(int)\n",
    "df_save = pd.read_csv('/kaggle/input/sentiment-analysis-on-movie-reviews/sampleSubmission.csv')\n",
    "df_save['Sentiment'] = predictions\n",
    "df_save.to_csv('Submission.csv', index = False)\n",
    "print('Submission saved!')"
   ]
  },
  {
   "cell_type": "code",
   "execution_count": 34,
   "metadata": {
    "execution": {
     "iopub.execute_input": "2024-05-05T22:19:54.010168Z",
     "iopub.status.busy": "2024-05-05T22:19:54.009682Z",
     "iopub.status.idle": "2024-05-05T22:19:55.484640Z",
     "shell.execute_reply": "2024-05-05T22:19:55.483567Z",
     "shell.execute_reply.started": "2024-05-05T22:19:54.010118Z"
    }
   },
   "outputs": [
    {
     "name": "stdout",
     "output_type": "stream",
     "text": [
      "\u001b[1m65/65\u001b[0m \u001b[32m━━━━━━━━━━━━━━━━━━━━\u001b[0m\u001b[37m\u001b[0m \u001b[1m1s\u001b[0m 18ms/step\n",
      "Submission saved!\n"
     ]
    }
   ],
   "source": [
    "pred = model_none.predict(X_sub_pad, batch_size = 1024, verbose = 1)\n",
    "predictions = np.round(np.argmax(pred, axis=1)).astype(int)\n",
    "df_save = pd.read_csv('/kaggle/input/sentiment-analysis-on-movie-reviews/sampleSubmission.csv')\n",
    "df_save['Sentiment'] = predictions\n",
    "df_save.to_csv('Submission.csv', index = False)\n",
    "print('Submission saved!')"
   ]
  },
  {
   "cell_type": "markdown",
   "metadata": {},
   "source": [
    "Test Results:\n",
    "* With Conv:     0.65241\n",
    "* Without Conv:  0.65259"
   ]
  },
  {
   "cell_type": "markdown",
   "metadata": {},
   "source": [
    "It is marginal, but it appears that the architecture with no convolutional layers performs slightly better on the test set. It is worth comparing the two after collecting more than one sample model together."
   ]
  },
  {
   "cell_type": "markdown",
   "metadata": {},
   "source": [
    "### Did some hyperparameter tuning, which made only marginal differences in submission accuracy."
   ]
  },
  {
   "cell_type": "markdown",
   "metadata": {},
   "source": [
    "## Predict test data\n",
    "Models are determined, and optimized within reason, it's time to predict our test data for submission and save it to CSV."
   ]
  },
  {
   "cell_type": "code",
   "execution_count": 35,
   "metadata": {
    "execution": {
     "iopub.execute_input": "2024-05-05T22:22:13.179385Z",
     "iopub.status.busy": "2024-05-05T22:22:13.178471Z",
     "iopub.status.idle": "2024-05-05T22:28:26.551956Z",
     "shell.execute_reply": "2024-05-05T22:28:26.551148Z",
     "shell.execute_reply.started": "2024-05-05T22:22:13.179337Z"
    },
    "scrolled": true
   },
   "outputs": [
    {
     "name": "stdout",
     "output_type": "stream",
     "text": [
      "Epoch 1/10\n",
      "\u001b[1m1098/1098\u001b[0m \u001b[32m━━━━━━━━━━━━━━━━━━━━\u001b[0m\u001b[37m\u001b[0m \u001b[1m0s\u001b[0m 16ms/step - accuracy: 0.5497 - loss: 1.1469\n",
      "Epoch 1: val_loss improved from inf to 0.83818, saving model to best_model.keras\n",
      "\u001b[1m1098/1098\u001b[0m \u001b[32m━━━━━━━━━━━━━━━━━━━━\u001b[0m\u001b[37m\u001b[0m \u001b[1m22s\u001b[0m 17ms/step - accuracy: 0.5498 - loss: 1.1468 - val_accuracy: 0.6595 - val_loss: 0.8382\n",
      "Epoch 2/10\n",
      "\u001b[1m1097/1098\u001b[0m \u001b[32m━━━━━━━━━━━━━━━━━━━\u001b[0m\u001b[37m━\u001b[0m \u001b[1m0s\u001b[0m 16ms/step - accuracy: 0.6870 - loss: 0.7661\n",
      "Epoch 2: val_loss improved from 0.83818 to 0.79553, saving model to best_model.keras\n",
      "\u001b[1m1098/1098\u001b[0m \u001b[32m━━━━━━━━━━━━━━━━━━━━\u001b[0m\u001b[37m\u001b[0m \u001b[1m19s\u001b[0m 17ms/step - accuracy: 0.6870 - loss: 0.7661 - val_accuracy: 0.6770 - val_loss: 0.7955\n",
      "Epoch 3/10\n",
      "\u001b[1m1098/1098\u001b[0m \u001b[32m━━━━━━━━━━━━━━━━━━━━\u001b[0m\u001b[37m\u001b[0m \u001b[1m0s\u001b[0m 16ms/step - accuracy: 0.7175 - loss: 0.6760\n",
      "Epoch 3: val_loss did not improve from 0.79553\n",
      "\u001b[1m1098/1098\u001b[0m \u001b[32m━━━━━━━━━━━━━━━━━━━━\u001b[0m\u001b[37m\u001b[0m \u001b[1m19s\u001b[0m 17ms/step - accuracy: 0.7175 - loss: 0.6760 - val_accuracy: 0.6844 - val_loss: 0.8028\n",
      "----------------------- 2ND SAMPLE --------------------------\n",
      "Epoch 1/10\n",
      "\u001b[1m1098/1098\u001b[0m \u001b[32m━━━━━━━━━━━━━━━━━━━━\u001b[0m\u001b[37m\u001b[0m \u001b[1m0s\u001b[0m 16ms/step - accuracy: 0.5461 - loss: 1.1520\n",
      "Epoch 1: val_loss improved from inf to 0.83636, saving model to best_model.keras\n",
      "\u001b[1m1098/1098\u001b[0m \u001b[32m━━━━━━━━━━━━━━━━━━━━\u001b[0m\u001b[37m\u001b[0m \u001b[1m22s\u001b[0m 18ms/step - accuracy: 0.5462 - loss: 1.1519 - val_accuracy: 0.6540 - val_loss: 0.8364\n",
      "Epoch 2/10\n",
      "\u001b[1m1095/1098\u001b[0m \u001b[32m━━━━━━━━━━━━━━━━━━━\u001b[0m\u001b[37m━\u001b[0m \u001b[1m0s\u001b[0m 16ms/step - accuracy: 0.6836 - loss: 0.7732\n",
      "Epoch 2: val_loss improved from 0.83636 to 0.80835, saving model to best_model.keras\n",
      "\u001b[1m1098/1098\u001b[0m \u001b[32m━━━━━━━━━━━━━━━━━━━━\u001b[0m\u001b[37m\u001b[0m \u001b[1m19s\u001b[0m 17ms/step - accuracy: 0.6836 - loss: 0.7732 - val_accuracy: 0.6740 - val_loss: 0.8083\n",
      "Epoch 3/10\n",
      "\u001b[1m1097/1098\u001b[0m \u001b[32m━━━━━━━━━━━━━━━━━━━\u001b[0m\u001b[37m━\u001b[0m \u001b[1m0s\u001b[0m 16ms/step - accuracy: 0.7155 - loss: 0.6867\n",
      "Epoch 3: val_loss improved from 0.80835 to 0.79760, saving model to best_model.keras\n",
      "\u001b[1m1098/1098\u001b[0m \u001b[32m━━━━━━━━━━━━━━━━━━━━\u001b[0m\u001b[37m\u001b[0m \u001b[1m19s\u001b[0m 17ms/step - accuracy: 0.7155 - loss: 0.6867 - val_accuracy: 0.6786 - val_loss: 0.7976\n",
      "Epoch 4/10\n",
      "\u001b[1m1096/1098\u001b[0m \u001b[32m━━━━━━━━━━━━━━━━━━━\u001b[0m\u001b[37m━\u001b[0m \u001b[1m0s\u001b[0m 16ms/step - accuracy: 0.7371 - loss: 0.6276\n",
      "Epoch 4: val_loss did not improve from 0.79760\n",
      "\u001b[1m1098/1098\u001b[0m \u001b[32m━━━━━━━━━━━━━━━━━━━━\u001b[0m\u001b[37m\u001b[0m \u001b[1m19s\u001b[0m 17ms/step - accuracy: 0.7370 - loss: 0.6277 - val_accuracy: 0.6816 - val_loss: 0.8203\n",
      "----------------------- 3RD SAMPLE --------------------------\n",
      "Epoch 1/10\n",
      "\u001b[1m1097/1098\u001b[0m \u001b[32m━━━━━━━━━━━━━━━━━━━\u001b[0m\u001b[37m━\u001b[0m \u001b[1m0s\u001b[0m 16ms/step - accuracy: 0.5493 - loss: 1.1456\n",
      "Epoch 1: val_loss improved from inf to 0.84522, saving model to best_model.keras\n",
      "\u001b[1m1098/1098\u001b[0m \u001b[32m━━━━━━━━━━━━━━━━━━━━\u001b[0m\u001b[37m\u001b[0m \u001b[1m23s\u001b[0m 18ms/step - accuracy: 0.5493 - loss: 1.1453 - val_accuracy: 0.6508 - val_loss: 0.8452\n",
      "Epoch 2/10\n",
      "\u001b[1m1097/1098\u001b[0m \u001b[32m━━━━━━━━━━━━━━━━━━━\u001b[0m\u001b[37m━\u001b[0m \u001b[1m0s\u001b[0m 16ms/step - accuracy: 0.6839 - loss: 0.7700\n",
      "Epoch 2: val_loss improved from 0.84522 to 0.80882, saving model to best_model.keras\n",
      "\u001b[1m1098/1098\u001b[0m \u001b[32m━━━━━━━━━━━━━━━━━━━━\u001b[0m\u001b[37m\u001b[0m \u001b[1m19s\u001b[0m 17ms/step - accuracy: 0.6839 - loss: 0.7700 - val_accuracy: 0.6723 - val_loss: 0.8088\n",
      "Epoch 3/10\n",
      "\u001b[1m1097/1098\u001b[0m \u001b[32m━━━━━━━━━━━━━━━━━━━\u001b[0m\u001b[37m━\u001b[0m \u001b[1m0s\u001b[0m 16ms/step - accuracy: 0.7158 - loss: 0.6810\n",
      "Epoch 3: val_loss improved from 0.80882 to 0.80571, saving model to best_model.keras\n",
      "\u001b[1m1098/1098\u001b[0m \u001b[32m━━━━━━━━━━━━━━━━━━━━\u001b[0m\u001b[37m\u001b[0m \u001b[1m19s\u001b[0m 17ms/step - accuracy: 0.7158 - loss: 0.6810 - val_accuracy: 0.6799 - val_loss: 0.8057\n",
      "Epoch 4/10\n",
      "\u001b[1m1095/1098\u001b[0m \u001b[32m━━━━━━━━━━━━━━━━━━━\u001b[0m\u001b[37m━\u001b[0m \u001b[1m0s\u001b[0m 16ms/step - accuracy: 0.7378 - loss: 0.6201\n",
      "Epoch 4: val_loss did not improve from 0.80571\n",
      "\u001b[1m1098/1098\u001b[0m \u001b[32m━━━━━━━━━━━━━━━━━━━━\u001b[0m\u001b[37m\u001b[0m \u001b[1m19s\u001b[0m 17ms/step - accuracy: 0.7377 - loss: 0.6201 - val_accuracy: 0.6817 - val_loss: 0.8362\n",
      "----------------------- 4TH SAMPLE --------------------------\n",
      "Epoch 1/10\n",
      "\u001b[1m1097/1098\u001b[0m \u001b[32m━━━━━━━━━━━━━━━━━━━\u001b[0m\u001b[37m━\u001b[0m \u001b[1m0s\u001b[0m 16ms/step - accuracy: 0.5468 - loss: 1.1468\n",
      "Epoch 1: val_loss improved from inf to 0.84183, saving model to best_model.keras\n",
      "\u001b[1m1098/1098\u001b[0m \u001b[32m━━━━━━━━━━━━━━━━━━━━\u001b[0m\u001b[37m\u001b[0m \u001b[1m22s\u001b[0m 17ms/step - accuracy: 0.5468 - loss: 1.1466 - val_accuracy: 0.6567 - val_loss: 0.8418\n",
      "Epoch 2/10\n",
      "\u001b[1m1095/1098\u001b[0m \u001b[32m━━━━━━━━━━━━━━━━━━━\u001b[0m\u001b[37m━\u001b[0m \u001b[1m0s\u001b[0m 16ms/step - accuracy: 0.6860 - loss: 0.7671\n",
      "Epoch 2: val_loss improved from 0.84183 to 0.79535, saving model to best_model.keras\n",
      "\u001b[1m1098/1098\u001b[0m \u001b[32m━━━━━━━━━━━━━━━━━━━━\u001b[0m\u001b[37m\u001b[0m \u001b[1m19s\u001b[0m 17ms/step - accuracy: 0.6860 - loss: 0.7672 - val_accuracy: 0.6754 - val_loss: 0.7954\n",
      "Epoch 3/10\n",
      "\u001b[1m1097/1098\u001b[0m \u001b[32m━━━━━━━━━━━━━━━━━━━\u001b[0m\u001b[37m━\u001b[0m \u001b[1m0s\u001b[0m 16ms/step - accuracy: 0.7196 - loss: 0.6719\n",
      "Epoch 3: val_loss improved from 0.79535 to 0.78996, saving model to best_model.keras\n",
      "\u001b[1m1098/1098\u001b[0m \u001b[32m━━━━━━━━━━━━━━━━━━━━\u001b[0m\u001b[37m\u001b[0m \u001b[1m19s\u001b[0m 17ms/step - accuracy: 0.7195 - loss: 0.6720 - val_accuracy: 0.6852 - val_loss: 0.7900\n",
      "Epoch 4/10\n",
      "\u001b[1m1096/1098\u001b[0m \u001b[32m━━━━━━━━━━━━━━━━━━━\u001b[0m\u001b[37m━\u001b[0m \u001b[1m0s\u001b[0m 16ms/step - accuracy: 0.7376 - loss: 0.6203\n",
      "Epoch 4: val_loss did not improve from 0.78996\n",
      "\u001b[1m1098/1098\u001b[0m \u001b[32m━━━━━━━━━━━━━━━━━━━━\u001b[0m\u001b[37m\u001b[0m \u001b[1m19s\u001b[0m 17ms/step - accuracy: 0.7375 - loss: 0.6203 - val_accuracy: 0.6826 - val_loss: 0.8224\n",
      "----------------------- 5TH SAMPLE --------------------------\n",
      "Epoch 1/10\n",
      "\u001b[1m1096/1098\u001b[0m \u001b[32m━━━━━━━━━━━━━━━━━━━\u001b[0m\u001b[37m━\u001b[0m \u001b[1m0s\u001b[0m 16ms/step - accuracy: 0.5466 - loss: 1.1518\n",
      "Epoch 1: val_loss improved from inf to 0.83187, saving model to best_model.keras\n",
      "\u001b[1m1098/1098\u001b[0m \u001b[32m━━━━━━━━━━━━━━━━━━━━\u001b[0m\u001b[37m\u001b[0m \u001b[1m22s\u001b[0m 17ms/step - accuracy: 0.5467 - loss: 1.1514 - val_accuracy: 0.6612 - val_loss: 0.8319\n",
      "Epoch 2/10\n",
      "\u001b[1m1095/1098\u001b[0m \u001b[32m━━━━━━━━━━━━━━━━━━━\u001b[0m\u001b[37m━\u001b[0m \u001b[1m0s\u001b[0m 16ms/step - accuracy: 0.6856 - loss: 0.7688\n",
      "Epoch 2: val_loss improved from 0.83187 to 0.80662, saving model to best_model.keras\n",
      "\u001b[1m1098/1098\u001b[0m \u001b[32m━━━━━━━━━━━━━━━━━━━━\u001b[0m\u001b[37m\u001b[0m \u001b[1m19s\u001b[0m 17ms/step - accuracy: 0.6856 - loss: 0.7688 - val_accuracy: 0.6753 - val_loss: 0.8066\n",
      "Epoch 3/10\n",
      "\u001b[1m1096/1098\u001b[0m \u001b[32m━━━━━━━━━━━━━━━━━━━\u001b[0m\u001b[37m━\u001b[0m \u001b[1m0s\u001b[0m 16ms/step - accuracy: 0.7171 - loss: 0.6810\n",
      "Epoch 3: val_loss improved from 0.80662 to 0.80057, saving model to best_model.keras\n",
      "\u001b[1m1098/1098\u001b[0m \u001b[32m━━━━━━━━━━━━━━━━━━━━\u001b[0m\u001b[37m\u001b[0m \u001b[1m19s\u001b[0m 17ms/step - accuracy: 0.7171 - loss: 0.6810 - val_accuracy: 0.6824 - val_loss: 0.8006\n",
      "Epoch 4/10\n",
      "\u001b[1m1098/1098\u001b[0m \u001b[32m━━━━━━━━━━━━━━━━━━━━\u001b[0m\u001b[37m\u001b[0m \u001b[1m0s\u001b[0m 16ms/step - accuracy: 0.7344 - loss: 0.6252\n",
      "Epoch 4: val_loss did not improve from 0.80057\n",
      "\u001b[1m1098/1098\u001b[0m \u001b[32m━━━━━━━━━━━━━━━━━━━━\u001b[0m\u001b[37m\u001b[0m \u001b[1m19s\u001b[0m 17ms/step - accuracy: 0.7344 - loss: 0.6253 - val_accuracy: 0.6744 - val_loss: 0.8168\n"
     ]
    }
   ],
   "source": [
    "model1 = assemble_model_1Conv(lr=1e-3, lr_d=1e-5, units=128, spatial_dr=0.3, kernel1=3, dense_units=128, dr=0.3, conv_size=32)\n",
    "print('----------------------- 2ND SAMPLE --------------------------')\n",
    "model2 = assemble_model_1Conv(lr=1e-3, lr_d=1e-5, units=128, spatial_dr=0.3, kernel1=3, dense_units=128, dr=0.3, conv_size=32)\n",
    "print('----------------------- 3RD SAMPLE --------------------------')\n",
    "model3 = assemble_model_1Conv(lr=1e-3, lr_d=1e-5, units=128, spatial_dr=0.3, kernel1=3, dense_units=128, dr=0.3, conv_size=32)\n",
    "print('----------------------- 4TH SAMPLE --------------------------')\n",
    "model4 = assemble_model_1Conv(lr=1e-3, lr_d=1e-5, units=128, spatial_dr=0.3, kernel1=3, dense_units=128, dr=0.3, conv_size=32)\n",
    "print('----------------------- 5TH SAMPLE --------------------------')\n",
    "model5 = assemble_model_1Conv(lr=1e-3, lr_d=1e-5, units=128, spatial_dr=0.3, kernel1=3, dense_units=128, dr=0.3, conv_size=32)\n",
    "# take 5 sample models"
   ]
  },
  {
   "cell_type": "code",
   "execution_count": 36,
   "metadata": {
    "execution": {
     "iopub.execute_input": "2024-05-05T22:28:31.339359Z",
     "iopub.status.busy": "2024-05-05T22:28:31.338587Z",
     "iopub.status.idle": "2024-05-05T22:28:39.130269Z",
     "shell.execute_reply": "2024-05-05T22:28:39.129334Z",
     "shell.execute_reply.started": "2024-05-05T22:28:31.339329Z"
    }
   },
   "outputs": [
    {
     "name": "stdout",
     "output_type": "stream",
     "text": [
      "\u001b[1m65/65\u001b[0m \u001b[32m━━━━━━━━━━━━━━━━━━━━\u001b[0m\u001b[37m\u001b[0m \u001b[1m1s\u001b[0m 21ms/step\n",
      "\u001b[1m65/65\u001b[0m \u001b[32m━━━━━━━━━━━━━━━━━━━━\u001b[0m\u001b[37m\u001b[0m \u001b[1m1s\u001b[0m 20ms/step\n",
      "\u001b[1m65/65\u001b[0m \u001b[32m━━━━━━━━━━━━━━━━━━━━\u001b[0m\u001b[37m\u001b[0m \u001b[1m1s\u001b[0m 20ms/step\n",
      "\u001b[1m65/65\u001b[0m \u001b[32m━━━━━━━━━━━━━━━━━━━━\u001b[0m\u001b[37m\u001b[0m \u001b[1m1s\u001b[0m 20ms/step\n",
      "\u001b[1m65/65\u001b[0m \u001b[32m━━━━━━━━━━━━━━━━━━━━\u001b[0m\u001b[37m\u001b[0m \u001b[1m1s\u001b[0m 20ms/step\n"
     ]
    }
   ],
   "source": [
    "# Average results of the different models as a crude \"bootstrapping\" of accuracies buys ~0.5% improvement on test set, \n",
    "# but also results in better stability from one trial to the next when taken as a whole.\n",
    "pred1 = model1.predict(X_sub_pad, batch_size = 1024, verbose = 1)\n",
    "pred = pred1\n",
    "pred2 = model2.predict(X_sub_pad, batch_size = 1024, verbose = 1)\n",
    "pred += pred2\n",
    "pred3 = model3.predict(X_sub_pad, batch_size = 1024, verbose = 1)\n",
    "pred += pred3\n",
    "pred4 = model4.predict(X_sub_pad, batch_size = 1024, verbose = 1)\n",
    "pred += pred4\n",
    "pred5 = model5.predict(X_sub_pad, batch_size = 1024, verbose = 1)\n",
    "pred += pred5\n",
    "\n",
    "# collect largest probabilities as predictions (argmax returns the index of the largest argument). Effectively takes \n",
    "# arithmetic mean.\n",
    "predictions = np.round(np.argmax(pred, axis=1)).astype(int)"
   ]
  },
  {
   "cell_type": "markdown",
   "metadata": {},
   "source": [
    "Notice in the above, we have add several predictions from the same prediction together. The 5 entries on axis 1 correspond to the (summed) probabilities of being in each class 0-4. Applying numpy's 'argmax' to this sum returns the index of the largest total. \n",
    "\n",
    "Adding the models together makes rigorous sense when one views the network output as a matrix of probability distributions for the probabilties of each phrase being in the 5 different sentiment classes. The [Law of Large Numbers](https://en.wikipedia.org/wiki/Law_of_large_numbers#Borel's_law_of_large_numbers) says that sampling the sum of identically distributed random variables will return the mean of the random variables with high probability. For each phrase, we can view the probability of the phrase being in sentiment class X, where X is one of {0,1,2,3,4}, as a random variable whose distribution is identical across all the models. Summing the predictions gets us closer to the true class of the phrase X because the sums of the class random variables will be concentrated near their means. In effect, this helps account for any instability in the model and gets rid of some of the noise in the predictions, leaving us with more consistent results from each model."
   ]
  },
  {
   "cell_type": "code",
   "execution_count": 37,
   "metadata": {
    "execution": {
     "iopub.execute_input": "2024-05-05T22:28:50.248055Z",
     "iopub.status.busy": "2024-05-05T22:28:50.247306Z",
     "iopub.status.idle": "2024-05-05T22:28:50.356464Z",
     "shell.execute_reply": "2024-05-05T22:28:50.355657Z",
     "shell.execute_reply.started": "2024-05-05T22:28:50.248022Z"
    }
   },
   "outputs": [
    {
     "name": "stdout",
     "output_type": "stream",
     "text": [
      "Submission saved!\n"
     ]
    }
   ],
   "source": [
    "# save to csv\n",
    "df_save = pd.read_csv('/kaggle/input/sentiment-analysis-on-movie-reviews/sampleSubmission.csv')\n",
    "df_save['Sentiment'] = predictions\n",
    "df_save.to_csv('Submission.csv', index = False)\n",
    "print('Submission saved!')\n",
    "#Submission score:"
   ]
  },
  {
   "cell_type": "markdown",
   "metadata": {},
   "source": [
    "**Sentiment Analysis submission accuracy: 0.65519**"
   ]
  },
  {
   "cell_type": "markdown",
   "metadata": {
    "execution": {
     "iopub.execute_input": "2024-04-29T14:54:21.910219Z",
     "iopub.status.busy": "2024-04-29T14:54:21.909855Z",
     "iopub.status.idle": "2024-04-29T14:54:21.916374Z",
     "shell.execute_reply": "2024-04-29T14:54:21.915129Z",
     "shell.execute_reply.started": "2024-04-29T14:54:21.910189Z"
    }
   },
   "source": [
    "Same process without convolutional layer..."
   ]
  },
  {
   "cell_type": "code",
   "execution_count": 38,
   "metadata": {
    "execution": {
     "iopub.execute_input": "2024-05-05T22:30:39.664834Z",
     "iopub.status.busy": "2024-05-05T22:30:39.663876Z",
     "iopub.status.idle": "2024-05-05T22:35:11.849103Z",
     "shell.execute_reply": "2024-05-05T22:35:11.848275Z",
     "shell.execute_reply.started": "2024-05-05T22:30:39.664801Z"
    },
    "scrolled": true
   },
   "outputs": [
    {
     "name": "stdout",
     "output_type": "stream",
     "text": [
      "Epoch 1/10\n",
      "\u001b[1m1097/1098\u001b[0m \u001b[32m━━━━━━━━━━━━━━━━━━━\u001b[0m\u001b[37m━\u001b[0m \u001b[1m0s\u001b[0m 15ms/step - accuracy: 0.5770 - loss: 1.0607\n",
      "Epoch 1: val_loss improved from inf to 0.82424, saving model to best_model.keras\n",
      "\u001b[1m1098/1098\u001b[0m \u001b[32m━━━━━━━━━━━━━━━━━━━━\u001b[0m\u001b[37m\u001b[0m \u001b[1m20s\u001b[0m 16ms/step - accuracy: 0.5771 - loss: 1.0605 - val_accuracy: 0.6622 - val_loss: 0.8242\n",
      "Epoch 2/10\n",
      "\u001b[1m1097/1098\u001b[0m \u001b[32m━━━━━━━━━━━━━━━━━━━\u001b[0m\u001b[37m━\u001b[0m \u001b[1m0s\u001b[0m 15ms/step - accuracy: 0.6885 - loss: 0.7513\n",
      "Epoch 2: val_loss improved from 0.82424 to 0.80207, saving model to best_model.keras\n",
      "\u001b[1m1098/1098\u001b[0m \u001b[32m━━━━━━━━━━━━━━━━━━━━\u001b[0m\u001b[37m\u001b[0m \u001b[1m17s\u001b[0m 16ms/step - accuracy: 0.6885 - loss: 0.7513 - val_accuracy: 0.6767 - val_loss: 0.8021\n",
      "Epoch 3/10\n",
      "\u001b[1m1095/1098\u001b[0m \u001b[32m━━━━━━━━━━━━━━━━━━━\u001b[0m\u001b[37m━\u001b[0m \u001b[1m0s\u001b[0m 15ms/step - accuracy: 0.7239 - loss: 0.6621\n",
      "Epoch 3: val_loss did not improve from 0.80207\n",
      "\u001b[1m1098/1098\u001b[0m \u001b[32m━━━━━━━━━━━━━━━━━━━━\u001b[0m\u001b[37m\u001b[0m \u001b[1m17s\u001b[0m 15ms/step - accuracy: 0.7239 - loss: 0.6621 - val_accuracy: 0.6786 - val_loss: 0.8035\n",
      "----------------------- 2ND SAMPLE --------------------------\n",
      "Epoch 1/10\n",
      "\u001b[1m1095/1098\u001b[0m \u001b[32m━━━━━━━━━━━━━━━━━━━\u001b[0m\u001b[37m━\u001b[0m \u001b[1m0s\u001b[0m 15ms/step - accuracy: 0.5734 - loss: 1.0598\n",
      "Epoch 1: val_loss improved from inf to 0.83673, saving model to best_model.keras\n",
      "\u001b[1m1098/1098\u001b[0m \u001b[32m━━━━━━━━━━━━━━━━━━━━\u001b[0m\u001b[37m\u001b[0m \u001b[1m20s\u001b[0m 16ms/step - accuracy: 0.5735 - loss: 1.0594 - val_accuracy: 0.6565 - val_loss: 0.8367\n",
      "Epoch 2/10\n",
      "\u001b[1m1098/1098\u001b[0m \u001b[32m━━━━━━━━━━━━━━━━━━━━\u001b[0m\u001b[37m\u001b[0m \u001b[1m0s\u001b[0m 15ms/step - accuracy: 0.6893 - loss: 0.7535\n",
      "Epoch 2: val_loss improved from 0.83673 to 0.79111, saving model to best_model.keras\n",
      "\u001b[1m1098/1098\u001b[0m \u001b[32m━━━━━━━━━━━━━━━━━━━━\u001b[0m\u001b[37m\u001b[0m \u001b[1m17s\u001b[0m 16ms/step - accuracy: 0.6893 - loss: 0.7535 - val_accuracy: 0.6802 - val_loss: 0.7911\n",
      "Epoch 3/10\n",
      "\u001b[1m1097/1098\u001b[0m \u001b[32m━━━━━━━━━━━━━━━━━━━\u001b[0m\u001b[37m━\u001b[0m \u001b[1m0s\u001b[0m 15ms/step - accuracy: 0.7231 - loss: 0.6639\n",
      "Epoch 3: val_loss did not improve from 0.79111\n",
      "\u001b[1m1098/1098\u001b[0m \u001b[32m━━━━━━━━━━━━━━━━━━━━\u001b[0m\u001b[37m\u001b[0m \u001b[1m17s\u001b[0m 15ms/step - accuracy: 0.7230 - loss: 0.6640 - val_accuracy: 0.6834 - val_loss: 0.7949\n",
      "----------------------- 3RD SAMPLE --------------------------\n",
      "Epoch 1/10\n",
      "\u001b[1m1096/1098\u001b[0m \u001b[32m━━━━━━━━━━━━━━━━━━━\u001b[0m\u001b[37m━\u001b[0m \u001b[1m0s\u001b[0m 15ms/step - accuracy: 0.5804 - loss: 1.0520\n",
      "Epoch 1: val_loss improved from inf to 0.82241, saving model to best_model.keras\n",
      "\u001b[1m1098/1098\u001b[0m \u001b[32m━━━━━━━━━━━━━━━━━━━━\u001b[0m\u001b[37m\u001b[0m \u001b[1m20s\u001b[0m 16ms/step - accuracy: 0.5805 - loss: 1.0517 - val_accuracy: 0.6641 - val_loss: 0.8224\n",
      "Epoch 2/10\n",
      "\u001b[1m1097/1098\u001b[0m \u001b[32m━━━━━━━━━━━━━━━━━━━\u001b[0m\u001b[37m━\u001b[0m \u001b[1m0s\u001b[0m 15ms/step - accuracy: 0.6882 - loss: 0.7497\n",
      "Epoch 2: val_loss improved from 0.82241 to 0.79492, saving model to best_model.keras\n",
      "\u001b[1m1098/1098\u001b[0m \u001b[32m━━━━━━━━━━━━━━━━━━━━\u001b[0m\u001b[37m\u001b[0m \u001b[1m17s\u001b[0m 16ms/step - accuracy: 0.6882 - loss: 0.7497 - val_accuracy: 0.6788 - val_loss: 0.7949\n",
      "Epoch 3/10\n",
      "\u001b[1m1096/1098\u001b[0m \u001b[32m━━━━━━━━━━━━━━━━━━━\u001b[0m\u001b[37m━\u001b[0m \u001b[1m0s\u001b[0m 15ms/step - accuracy: 0.7254 - loss: 0.6559\n",
      "Epoch 3: val_loss did not improve from 0.79492\n",
      "\u001b[1m1098/1098\u001b[0m \u001b[32m━━━━━━━━━━━━━━━━━━━━\u001b[0m\u001b[37m\u001b[0m \u001b[1m17s\u001b[0m 15ms/step - accuracy: 0.7254 - loss: 0.6559 - val_accuracy: 0.6820 - val_loss: 0.7986\n",
      "----------------------- 4TH SAMPLE --------------------------\n",
      "Epoch 1/10\n",
      "\u001b[1m1095/1098\u001b[0m \u001b[32m━━━━━━━━━━━━━━━━━━━\u001b[0m\u001b[37m━\u001b[0m \u001b[1m0s\u001b[0m 15ms/step - accuracy: 0.5773 - loss: 1.0607\n",
      "Epoch 1: val_loss improved from inf to 0.82269, saving model to best_model.keras\n",
      "\u001b[1m1098/1098\u001b[0m \u001b[32m━━━━━━━━━━━━━━━━━━━━\u001b[0m\u001b[37m\u001b[0m \u001b[1m20s\u001b[0m 16ms/step - accuracy: 0.5775 - loss: 1.0602 - val_accuracy: 0.6606 - val_loss: 0.8227\n",
      "Epoch 2/10\n",
      "\u001b[1m1097/1098\u001b[0m \u001b[32m━━━━━━━━━━━━━━━━━━━\u001b[0m\u001b[37m━\u001b[0m \u001b[1m0s\u001b[0m 15ms/step - accuracy: 0.6899 - loss: 0.7456\n",
      "Epoch 2: val_loss improved from 0.82269 to 0.79395, saving model to best_model.keras\n",
      "\u001b[1m1098/1098\u001b[0m \u001b[32m━━━━━━━━━━━━━━━━━━━━\u001b[0m\u001b[37m\u001b[0m \u001b[1m17s\u001b[0m 16ms/step - accuracy: 0.6899 - loss: 0.7456 - val_accuracy: 0.6758 - val_loss: 0.7940\n",
      "Epoch 3/10\n",
      "\u001b[1m1098/1098\u001b[0m \u001b[32m━━━━━━━━━━━━━━━━━━━━\u001b[0m\u001b[37m\u001b[0m \u001b[1m0s\u001b[0m 15ms/step - accuracy: 0.7220 - loss: 0.6628\n",
      "Epoch 3: val_loss did not improve from 0.79395\n",
      "\u001b[1m1098/1098\u001b[0m \u001b[32m━━━━━━━━━━━━━━━━━━━━\u001b[0m\u001b[37m\u001b[0m \u001b[1m17s\u001b[0m 15ms/step - accuracy: 0.7220 - loss: 0.6629 - val_accuracy: 0.6824 - val_loss: 0.7946\n",
      "----------------------- 5TH SAMPLE --------------------------\n",
      "Epoch 1/10\n",
      "\u001b[1m1096/1098\u001b[0m \u001b[32m━━━━━━━━━━━━━━━━━━━\u001b[0m\u001b[37m━\u001b[0m \u001b[1m0s\u001b[0m 15ms/step - accuracy: 0.5764 - loss: 1.0557\n",
      "Epoch 1: val_loss improved from inf to 0.82452, saving model to best_model.keras\n",
      "\u001b[1m1098/1098\u001b[0m \u001b[32m━━━━━━━━━━━━━━━━━━━━\u001b[0m\u001b[37m\u001b[0m \u001b[1m21s\u001b[0m 16ms/step - accuracy: 0.5765 - loss: 1.0554 - val_accuracy: 0.6610 - val_loss: 0.8245\n",
      "Epoch 2/10\n",
      "\u001b[1m1098/1098\u001b[0m \u001b[32m━━━━━━━━━━━━━━━━━━━━\u001b[0m\u001b[37m\u001b[0m \u001b[1m0s\u001b[0m 15ms/step - accuracy: 0.6894 - loss: 0.7485\n",
      "Epoch 2: val_loss improved from 0.82452 to 0.79172, saving model to best_model.keras\n",
      "\u001b[1m1098/1098\u001b[0m \u001b[32m━━━━━━━━━━━━━━━━━━━━\u001b[0m\u001b[37m\u001b[0m \u001b[1m17s\u001b[0m 16ms/step - accuracy: 0.6894 - loss: 0.7485 - val_accuracy: 0.6758 - val_loss: 0.7917\n",
      "Epoch 3/10\n",
      "\u001b[1m1097/1098\u001b[0m \u001b[32m━━━━━━━━━━━━━━━━━━━\u001b[0m\u001b[37m━\u001b[0m \u001b[1m0s\u001b[0m 15ms/step - accuracy: 0.7215 - loss: 0.6623\n",
      "Epoch 3: val_loss did not improve from 0.79172\n",
      "\u001b[1m1098/1098\u001b[0m \u001b[32m━━━━━━━━━━━━━━━━━━━━\u001b[0m\u001b[37m\u001b[0m \u001b[1m17s\u001b[0m 15ms/step - accuracy: 0.7215 - loss: 0.6623 - val_accuracy: 0.6744 - val_loss: 0.8152\n"
     ]
    }
   ],
   "source": [
    "model1 = assemble_model_noConv(lr=1e-3, lr_d=1e-7, units=128, spatial_dr=0.3, kernel1=3, dense_units=128, dr=0.2)\n",
    "print('----------------------- 2ND SAMPLE --------------------------')\n",
    "model2 = assemble_model_noConv(lr=1e-3, lr_d=1e-7, units=128, spatial_dr=0.3, kernel1=3, dense_units=128, dr=0.2)\n",
    "print('----------------------- 3RD SAMPLE --------------------------')\n",
    "model3 = assemble_model_noConv(lr=1e-3, lr_d=1e-7, units=128, spatial_dr=0.3, kernel1=3, dense_units=128, dr=0.2)\n",
    "print('----------------------- 4TH SAMPLE --------------------------')\n",
    "model4 = assemble_model_noConv(lr=1e-3, lr_d=1e-7, units=128, spatial_dr=0.3, kernel1=3, dense_units=128, dr=0.2)\n",
    "print('----------------------- 5TH SAMPLE --------------------------')\n",
    "model5 = assemble_model_noConv(lr = 1e-3, lr_d = 1e-7, units = 128, spatial_dr = 0.3, kernel1=3, dense_units=128, dr=0.2)\n",
    "# take 5 sample models"
   ]
  },
  {
   "cell_type": "code",
   "execution_count": 39,
   "metadata": {
    "execution": {
     "iopub.execute_input": "2024-05-05T22:35:47.248280Z",
     "iopub.status.busy": "2024-05-05T22:35:47.247563Z",
     "iopub.status.idle": "2024-05-05T22:35:54.114411Z",
     "shell.execute_reply": "2024-05-05T22:35:54.113471Z",
     "shell.execute_reply.started": "2024-05-05T22:35:47.248249Z"
    }
   },
   "outputs": [
    {
     "name": "stdout",
     "output_type": "stream",
     "text": [
      "\u001b[1m65/65\u001b[0m \u001b[32m━━━━━━━━━━━━━━━━━━━━\u001b[0m\u001b[37m\u001b[0m \u001b[1m1s\u001b[0m 18ms/step\n",
      "\u001b[1m65/65\u001b[0m \u001b[32m━━━━━━━━━━━━━━━━━━━━\u001b[0m\u001b[37m\u001b[0m \u001b[1m1s\u001b[0m 18ms/step\n",
      "\u001b[1m65/65\u001b[0m \u001b[32m━━━━━━━━━━━━━━━━━━━━\u001b[0m\u001b[37m\u001b[0m \u001b[1m1s\u001b[0m 18ms/step\n",
      "\u001b[1m65/65\u001b[0m \u001b[32m━━━━━━━━━━━━━━━━━━━━\u001b[0m\u001b[37m\u001b[0m \u001b[1m1s\u001b[0m 18ms/step\n",
      "\u001b[1m65/65\u001b[0m \u001b[32m━━━━━━━━━━━━━━━━━━━━\u001b[0m\u001b[37m\u001b[0m \u001b[1m1s\u001b[0m 18ms/step\n"
     ]
    }
   ],
   "source": [
    "# Average results of the different models as a crude \"bootstrapping\" of accuracies (buys ~1.5% improvement on test set)\n",
    "pred1 = model1.predict(X_sub_pad, batch_size = 1024, verbose = 1)\n",
    "pred = pred1\n",
    "pred2 = model2.predict(X_sub_pad, batch_size = 1024, verbose = 1)\n",
    "pred += pred2\n",
    "pred3 = model3.predict(X_sub_pad, batch_size = 1024, verbose = 1)\n",
    "pred += pred3\n",
    "pred4 = model4.predict(X_sub_pad, batch_size = 1024, verbose = 1)\n",
    "pred += pred4\n",
    "pred5 = model5.predict(X_sub_pad, batch_size = 1024, verbose = 1)\n",
    "pred += pred5\n",
    "\n",
    "# collect largest probabilities as predictions (argmax returns the index of the largest argument). Effectively takes \n",
    "# arithmetic mean.\n",
    "predictions = np.round(np.argmax(pred, axis=1)).astype(int)"
   ]
  },
  {
   "cell_type": "code",
   "execution_count": 40,
   "metadata": {
    "execution": {
     "iopub.execute_input": "2024-05-05T22:35:54.116985Z",
     "iopub.status.busy": "2024-05-05T22:35:54.116682Z",
     "iopub.status.idle": "2024-05-05T22:35:54.224277Z",
     "shell.execute_reply": "2024-05-05T22:35:54.223328Z",
     "shell.execute_reply.started": "2024-05-05T22:35:54.116960Z"
    }
   },
   "outputs": [
    {
     "name": "stdout",
     "output_type": "stream",
     "text": [
      "Submission saved!\n"
     ]
    }
   ],
   "source": [
    "# save to csv\n",
    "df_save = pd.read_csv('/kaggle/input/sentiment-analysis-on-movie-reviews/sampleSubmission.csv')\n",
    "df_save['Sentiment'] = predictions\n",
    "df_save.to_csv('Submission.csv', index = False)\n",
    "print('Submission saved!')\n",
    "#Submission score:"
   ]
  },
  {
   "cell_type": "markdown",
   "metadata": {},
   "source": [
    "**Sentiment analysis submission accuracy: 0.65645.**\n",
    "The difference is negligible, but it did appear that convolutional layers are slightly overfitting to the dataset when one looks at the spread of the validation vs training accuracies, so it's interesting to see better performance on the test set from the convolution layer. "
   ]
  },
  {
   "cell_type": "markdown",
   "metadata": {},
   "source": [
    "# Pretrained Network.\n",
    "\n",
    "Now I will take the best architecture from the above analysis and add pretrained weights to the embedding layer. As mentioned above these weights will come from the fasttext pretrained word vectors."
   ]
  },
  {
   "cell_type": "code",
   "execution_count": 13,
   "metadata": {
    "execution": {
     "iopub.execute_input": "2024-05-06T03:21:06.971387Z",
     "iopub.status.busy": "2024-05-06T03:21:06.971057Z",
     "iopub.status.idle": "2024-05-06T03:21:06.975631Z",
     "shell.execute_reply": "2024-05-06T03:21:06.974559Z",
     "shell.execute_reply.started": "2024-05-06T03:21:06.971364Z"
    }
   },
   "outputs": [],
   "source": [
    "fasttext_path = \"/kaggle/input/fasttext-crawl-300d-2m/crawl-300d-2M.vec\""
   ]
  },
  {
   "cell_type": "code",
   "execution_count": 1,
   "metadata": {
    "execution": {
     "iopub.execute_input": "2024-05-17T16:46:20.255094Z",
     "iopub.status.busy": "2024-05-17T16:46:20.254799Z",
     "iopub.status.idle": "2024-05-17T16:46:20.278815Z",
     "shell.execute_reply": "2024-05-17T16:46:20.278170Z",
     "shell.execute_reply.started": "2024-05-17T16:46:20.255069Z"
    }
   },
   "outputs": [],
   "source": [
    "max_features= 30000  # Needs to be at least as large as the vocab size."
   ]
  },
  {
   "cell_type": "markdown",
   "metadata": {},
   "source": [
    "**Additional steps to use the pretrained weights:** \n",
    "1. Make a dict mapping words (strings) to their numpy vector representation.\n",
    "2. Prepare a corresponding embedding matrix that we can use in a keras embedding layer. In this matrix the entry at index i is the pre-trained vector for the word of index i in the vectorizer's vocabulary."
   ]
  },
  {
   "cell_type": "code",
   "execution_count": 15,
   "metadata": {
    "execution": {
     "iopub.execute_input": "2024-05-06T03:21:08.991684Z",
     "iopub.status.busy": "2024-05-06T03:21:08.991057Z",
     "iopub.status.idle": "2024-05-06T03:23:58.454326Z",
     "shell.execute_reply": "2024-05-06T03:23:58.453509Z",
     "shell.execute_reply.started": "2024-05-06T03:21:08.991654Z"
    }
   },
   "outputs": [],
   "source": [
    "def get_coefs(word,*arr): \n",
    "    return word, np.asarray(arr, dtype='float32')\n",
    "# TODO, Explain\n",
    "#\n",
    "# Reference: https://keras.io/examples/nlp/pretrained_word_embeddings/\n",
    "embed_hash = dict(get_coefs(*o.strip().split(\" \")) for o in open(fasttext_path))\n",
    "\n",
    "word_index = tokenizer.word_index\n",
    "nb_words = min(max_features, len(word_index))\n",
    "embedding_matrix = np.zeros((nb_words + 1, embed_dim))\n",
    "for word, i in word_index.items():\n",
    "    if i >= max_features: \n",
    "        continue\n",
    "    embedding_vector = embed_hash.get(word)\n",
    "    if embedding_vector is not None: \n",
    "        embedding_matrix[i] = embedding_vector"
   ]
  },
  {
   "cell_type": "markdown",
   "metadata": {},
   "source": [
    "For the pretrained model we write the model using functional API, which is just easier when dealing with a pretrained set of weights."
   ]
  },
  {
   "cell_type": "code",
   "execution_count": 41,
   "metadata": {
    "execution": {
     "iopub.execute_input": "2024-05-06T04:10:53.667792Z",
     "iopub.status.busy": "2024-05-06T04:10:53.667437Z",
     "iopub.status.idle": "2024-05-06T04:10:53.678864Z",
     "shell.execute_reply": "2024-05-06T04:10:53.678010Z",
     "shell.execute_reply.started": "2024-05-06T04:10:53.667764Z"
    }
   },
   "outputs": [],
   "source": [
    "def assemble_model_pre(lr=0.0, lr_d=0.0, units=0, spatial_dr=0.0, dense_units=128, dr=0.1):\n",
    "    \"\"\" \n",
    "    Same model as the no convolution model above but with the embedding layer \n",
    "    re-written to take a pretrained set of embeddings, which will be fixed to not\n",
    "    be updated during training. The benefit of using pretrained embeddings \n",
    "    is that these embeddings have been trained on a massive amount of data to learn\n",
    "    the (vectorized) semantic and snytactic meanings of different words, as opposed\n",
    "    to trying to train embeddings on our dataset alone.\n",
    "    \"\"\"\n",
    "    file_path = \"best_model.keras\"\n",
    "    #check_point = ModelCheckpoint(file_path, monitor = \"val_loss\", verbose = 1,\n",
    "    #                              save_best_only = True, mode = \"min\")\n",
    "    early_stop = EarlyStopping(monitor = \"val_loss\", mode = \"min\", patience = 2)\n",
    "    check_point = ModelCheckpoint(file_path, monitor = \"val_loss\", verbose = 1,\n",
    "                                  save_best_only = True, mode = \"min\")\n",
    "    \n",
    "    x = Embedding(vocabulary_size, embed_dim, input_length=max_len, trainable=False)\n",
    "    inp = Input(shape = (max_len,))\n",
    "    x.build((max_len,))\n",
    "    x.set_weights([embedding_matrix])\n",
    "    embedded_sequences=x(inp)\n",
    "    x1 = SpatialDropout1D(spatial_dr)(embedded_sequences)\n",
    "    x_gru = Bidirectional(GRU(units))(x1)\n",
    "    x = Dropout(dr)(Dense(dense_units, activation='relu') (x_gru))\n",
    "    x = BatchNormalization()(x)\n",
    "    x = Dropout(dr)(Dense(dense_units, activation='relu') (x))\n",
    "    x = Dense(5, activation = \"softmax\")(x)\n",
    "    model = Model(inputs = inp, outputs = x)\n",
    "    #model.summary()\n",
    "    model.compile(loss = \"categorical_crossentropy\", optimizer = Adam(learning_rate = lr, weight_decay = lr_d), metrics = [\"accuracy\"])\n",
    "    history = model.fit(X_train_pad, y_train_cat, epochs=20, verbose = 1, validation_data=(X_test_pad, y_test_cat), batch_size=128, callbacks=[check_point,early_stop])\n",
    "    #model = keras.saving.load_model(file_path)\n",
    "    return model, history"
   ]
  },
  {
   "cell_type": "markdown",
   "metadata": {},
   "source": [
    "## Predictions"
   ]
  },
  {
   "cell_type": "markdown",
   "metadata": {},
   "source": [
    "### First, did some hyperparameter tuning, details omitted."
   ]
  },
  {
   "cell_type": "code",
   "execution_count": 42,
   "metadata": {
    "execution": {
     "iopub.execute_input": "2024-05-06T04:11:00.591523Z",
     "iopub.status.busy": "2024-05-06T04:11:00.590845Z",
     "iopub.status.idle": "2024-05-06T04:15:34.301004Z",
     "shell.execute_reply": "2024-05-06T04:15:34.300084Z",
     "shell.execute_reply.started": "2024-05-06T04:11:00.591494Z"
    },
    "scrolled": true
   },
   "outputs": [
    {
     "name": "stdout",
     "output_type": "stream",
     "text": [
      "Epoch 1/20\n",
      "\u001b[1m1096/1098\u001b[0m \u001b[32m━━━━━━━━━━━━━━━━━━━\u001b[0m\u001b[37m━\u001b[0m \u001b[1m0s\u001b[0m 18ms/step - accuracy: 0.5612 - loss: 1.0671\n",
      "Epoch 1: val_loss improved from inf to 0.86642, saving model to best_model.keras\n",
      "\u001b[1m1098/1098\u001b[0m \u001b[32m━━━━━━━━━━━━━━━━━━━━\u001b[0m\u001b[37m\u001b[0m \u001b[1m24s\u001b[0m 19ms/step - accuracy: 0.5612 - loss: 1.0668 - val_accuracy: 0.6339 - val_loss: 0.8664\n",
      "Epoch 2/20\n",
      "\u001b[1m1096/1098\u001b[0m \u001b[32m━━━━━━━━━━━━━━━━━━━\u001b[0m\u001b[37m━\u001b[0m \u001b[1m0s\u001b[0m 18ms/step - accuracy: 0.6238 - loss: 0.9059\n",
      "Epoch 2: val_loss improved from 0.86642 to 0.83976, saving model to best_model.keras\n",
      "\u001b[1m1098/1098\u001b[0m \u001b[32m━━━━━━━━━━━━━━━━━━━━\u001b[0m\u001b[37m\u001b[0m \u001b[1m21s\u001b[0m 19ms/step - accuracy: 0.6238 - loss: 0.9059 - val_accuracy: 0.6495 - val_loss: 0.8398\n",
      "Epoch 3/20\n",
      "\u001b[1m1096/1098\u001b[0m \u001b[32m━━━━━━━━━━━━━━━━━━━\u001b[0m\u001b[37m━\u001b[0m \u001b[1m0s\u001b[0m 18ms/step - accuracy: 0.6361 - loss: 0.8719\n",
      "Epoch 3: val_loss improved from 0.83976 to 0.80918, saving model to best_model.keras\n",
      "\u001b[1m1098/1098\u001b[0m \u001b[32m━━━━━━━━━━━━━━━━━━━━\u001b[0m\u001b[37m\u001b[0m \u001b[1m21s\u001b[0m 19ms/step - accuracy: 0.6361 - loss: 0.8719 - val_accuracy: 0.6593 - val_loss: 0.8092\n",
      "Epoch 4/20\n",
      "\u001b[1m1096/1098\u001b[0m \u001b[32m━━━━━━━━━━━━━━━━━━━\u001b[0m\u001b[37m━\u001b[0m \u001b[1m0s\u001b[0m 18ms/step - accuracy: 0.6445 - loss: 0.8553\n",
      "Epoch 4: val_loss improved from 0.80918 to 0.79336, saving model to best_model.keras\n",
      "\u001b[1m1098/1098\u001b[0m \u001b[32m━━━━━━━━━━━━━━━━━━━━\u001b[0m\u001b[37m\u001b[0m \u001b[1m21s\u001b[0m 19ms/step - accuracy: 0.6445 - loss: 0.8553 - val_accuracy: 0.6706 - val_loss: 0.7934\n",
      "Epoch 5/20\n",
      "\u001b[1m1096/1098\u001b[0m \u001b[32m━━━━━━━━━━━━━━━━━━━\u001b[0m\u001b[37m━\u001b[0m \u001b[1m0s\u001b[0m 18ms/step - accuracy: 0.6567 - loss: 0.8204\n",
      "Epoch 5: val_loss improved from 0.79336 to 0.78053, saving model to best_model.keras\n",
      "\u001b[1m1098/1098\u001b[0m \u001b[32m━━━━━━━━━━━━━━━━━━━━\u001b[0m\u001b[37m\u001b[0m \u001b[1m21s\u001b[0m 19ms/step - accuracy: 0.6567 - loss: 0.8204 - val_accuracy: 0.6763 - val_loss: 0.7805\n",
      "Epoch 6/20\n",
      "\u001b[1m1096/1098\u001b[0m \u001b[32m━━━━━━━━━━━━━━━━━━━\u001b[0m\u001b[37m━\u001b[0m \u001b[1m0s\u001b[0m 18ms/step - accuracy: 0.6722 - loss: 0.7817\n",
      "Epoch 6: val_loss improved from 0.78053 to 0.75987, saving model to best_model.keras\n",
      "\u001b[1m1098/1098\u001b[0m \u001b[32m━━━━━━━━━━━━━━━━━━━━\u001b[0m\u001b[37m\u001b[0m \u001b[1m21s\u001b[0m 19ms/step - accuracy: 0.6722 - loss: 0.7817 - val_accuracy: 0.6815 - val_loss: 0.7599\n",
      "Epoch 7/20\n",
      "\u001b[1m1096/1098\u001b[0m \u001b[32m━━━━━━━━━━━━━━━━━━━\u001b[0m\u001b[37m━\u001b[0m \u001b[1m0s\u001b[0m 18ms/step - accuracy: 0.6841 - loss: 0.7573\n",
      "Epoch 7: val_loss improved from 0.75987 to 0.74895, saving model to best_model.keras\n",
      "\u001b[1m1098/1098\u001b[0m \u001b[32m━━━━━━━━━━━━━━━━━━━━\u001b[0m\u001b[37m\u001b[0m \u001b[1m21s\u001b[0m 19ms/step - accuracy: 0.6841 - loss: 0.7573 - val_accuracy: 0.6873 - val_loss: 0.7490\n",
      "Epoch 8/20\n",
      "\u001b[1m1097/1098\u001b[0m \u001b[32m━━━━━━━━━━━━━━━━━━━\u001b[0m\u001b[37m━\u001b[0m \u001b[1m0s\u001b[0m 18ms/step - accuracy: 0.6948 - loss: 0.7306\n",
      "Epoch 8: val_loss improved from 0.74895 to 0.74490, saving model to best_model.keras\n",
      "\u001b[1m1098/1098\u001b[0m \u001b[32m━━━━━━━━━━━━━━━━━━━━\u001b[0m\u001b[37m\u001b[0m \u001b[1m21s\u001b[0m 19ms/step - accuracy: 0.6948 - loss: 0.7306 - val_accuracy: 0.6860 - val_loss: 0.7449\n",
      "Epoch 9/20\n",
      "\u001b[1m1096/1098\u001b[0m \u001b[32m━━━━━━━━━━━━━━━━━━━\u001b[0m\u001b[37m━\u001b[0m \u001b[1m0s\u001b[0m 18ms/step - accuracy: 0.7008 - loss: 0.7136\n",
      "Epoch 9: val_loss did not improve from 0.74490\n",
      "\u001b[1m1098/1098\u001b[0m \u001b[32m━━━━━━━━━━━━━━━━━━━━\u001b[0m\u001b[37m\u001b[0m \u001b[1m21s\u001b[0m 19ms/step - accuracy: 0.7008 - loss: 0.7136 - val_accuracy: 0.6833 - val_loss: 0.7490\n",
      "Epoch 10/20\n",
      "\u001b[1m1096/1098\u001b[0m \u001b[32m━━━━━━━━━━━━━━━━━━━\u001b[0m\u001b[37m━\u001b[0m \u001b[1m0s\u001b[0m 18ms/step - accuracy: 0.7088 - loss: 0.6983\n",
      "Epoch 10: val_loss improved from 0.74490 to 0.74034, saving model to best_model.keras\n",
      "\u001b[1m1098/1098\u001b[0m \u001b[32m━━━━━━━━━━━━━━━━━━━━\u001b[0m\u001b[37m\u001b[0m \u001b[1m21s\u001b[0m 19ms/step - accuracy: 0.7088 - loss: 0.6983 - val_accuracy: 0.6906 - val_loss: 0.7403\n",
      "Epoch 11/20\n",
      "\u001b[1m1096/1098\u001b[0m \u001b[32m━━━━━━━━━━━━━━━━━━━\u001b[0m\u001b[37m━\u001b[0m \u001b[1m0s\u001b[0m 18ms/step - accuracy: 0.7159 - loss: 0.6794\n",
      "Epoch 11: val_loss improved from 0.74034 to 0.73752, saving model to best_model.keras\n",
      "\u001b[1m1098/1098\u001b[0m \u001b[32m━━━━━━━━━━━━━━━━━━━━\u001b[0m\u001b[37m\u001b[0m \u001b[1m21s\u001b[0m 19ms/step - accuracy: 0.7159 - loss: 0.6794 - val_accuracy: 0.6899 - val_loss: 0.7375\n",
      "Epoch 12/20\n",
      "\u001b[1m1096/1098\u001b[0m \u001b[32m━━━━━━━━━━━━━━━━━━━\u001b[0m\u001b[37m━\u001b[0m \u001b[1m0s\u001b[0m 18ms/step - accuracy: 0.7201 - loss: 0.6666\n",
      "Epoch 12: val_loss did not improve from 0.73752\n",
      "\u001b[1m1098/1098\u001b[0m \u001b[32m━━━━━━━━━━━━━━━━━━━━\u001b[0m\u001b[37m\u001b[0m \u001b[1m21s\u001b[0m 19ms/step - accuracy: 0.7201 - loss: 0.6666 - val_accuracy: 0.6856 - val_loss: 0.7470\n",
      "Epoch 13/20\n",
      "\u001b[1m1096/1098\u001b[0m \u001b[32m━━━━━━━━━━━━━━━━━━━\u001b[0m\u001b[37m━\u001b[0m \u001b[1m0s\u001b[0m 18ms/step - accuracy: 0.7270 - loss: 0.6553\n",
      "Epoch 13: val_loss did not improve from 0.73752\n",
      "\u001b[1m1098/1098\u001b[0m \u001b[32m━━━━━━━━━━━━━━━━━━━━\u001b[0m\u001b[37m\u001b[0m \u001b[1m21s\u001b[0m 19ms/step - accuracy: 0.7270 - loss: 0.6553 - val_accuracy: 0.6902 - val_loss: 0.7468\n"
     ]
    }
   ],
   "source": [
    "pretrained, history = assemble_model_pre(lr=1e-3, lr_d=1e-7, units=256, spatial_dr=0.3, dense_units=128, dr=0.2)"
   ]
  },
  {
   "cell_type": "code",
   "execution_count": 43,
   "metadata": {
    "execution": {
     "iopub.execute_input": "2024-05-06T04:16:54.540880Z",
     "iopub.status.busy": "2024-05-06T04:16:54.540278Z",
     "iopub.status.idle": "2024-05-06T04:16:54.967756Z",
     "shell.execute_reply": "2024-05-06T04:16:54.966888Z",
     "shell.execute_reply.started": "2024-05-06T04:16:54.540849Z"
    }
   },
   "outputs": [
    {
     "name": "stdout",
     "output_type": "stream",
     "text": [
      "dict_keys(['accuracy', 'loss', 'val_accuracy', 'val_loss'])\n"
     ]
    },
    {
     "data": {
      "image/png": "[encoded data removed]",
      "text/plain": [
       "<Figure size 640x480 with 1 Axes>"
      ]
     },
     "metadata": {},
     "output_type": "display_data"
    },
    {
     "data": {
      "image/png": "[encoded data removed]",
      "text/plain": [
       "<Figure size 640x480 with 1 Axes>"
      ]
     },
     "metadata": {},
     "output_type": "display_data"
    }
   ],
   "source": [
    "#Plot loss, accuracy curves\n",
    "print(history.history.keys())\n",
    "plt.plot(history.history['accuracy'])\n",
    "plt.plot(history.history['val_accuracy'])\n",
    "plt.title('model accuracy')\n",
    "plt.ylabel('accuracy')\n",
    "plt.xlabel('epoch')\n",
    "plt.legend(['train acc', 'val acc'], loc='upper left')\n",
    "plt.show()\n",
    "# \"Loss\"\n",
    "plt.plot(history.history['loss'])\n",
    "plt.plot(history.history['val_loss'])\n",
    "plt.title('model loss')\n",
    "plt.ylabel('loss')\n",
    "plt.xlabel('epoch')\n",
    "plt.legend(['train loss', 'val loss'], loc='upper left')\n",
    "plt.show()"
   ]
  },
  {
   "cell_type": "code",
   "execution_count": 17,
   "metadata": {
    "execution": {
     "iopub.execute_input": "2024-05-06T03:25:13.168139Z",
     "iopub.status.busy": "2024-05-06T03:25:13.167505Z",
     "iopub.status.idle": "2024-05-06T03:43:31.765470Z",
     "shell.execute_reply": "2024-05-06T03:43:31.764571Z",
     "shell.execute_reply.started": "2024-05-06T03:25:13.168106Z"
    },
    "scrolled": true
   },
   "outputs": [
    {
     "name": "stdout",
     "output_type": "stream",
     "text": [
      "Epoch 1/20\n",
      "\u001b[1m1097/1098\u001b[0m \u001b[32m━━━━━━━━━━━━━━━━━━━\u001b[0m\u001b[37m━\u001b[0m \u001b[1m0s\u001b[0m 13ms/step - accuracy: 0.5549 - loss: 1.0835\n",
      "Epoch 1: val_loss improved from inf to 0.87191, saving model to best_model.keras\n",
      "\u001b[1m1098/1098\u001b[0m \u001b[32m━━━━━━━━━━━━━━━━━━━━\u001b[0m\u001b[37m\u001b[0m \u001b[1m22s\u001b[0m 14ms/step - accuracy: 0.5550 - loss: 1.0833 - val_accuracy: 0.6337 - val_loss: 0.8719\n",
      "Epoch 2/20\n",
      "\u001b[1m1096/1098\u001b[0m \u001b[32m━━━━━━━━━━━━━━━━━━━\u001b[0m\u001b[37m━\u001b[0m \u001b[1m0s\u001b[0m 13ms/step - accuracy: 0.6174 - loss: 0.9147\n",
      "Epoch 2: val_loss improved from 0.87191 to 0.83494, saving model to best_model.keras\n",
      "\u001b[1m1098/1098\u001b[0m \u001b[32m━━━━━━━━━━━━━━━━━━━━\u001b[0m\u001b[37m\u001b[0m \u001b[1m15s\u001b[0m 14ms/step - accuracy: 0.6174 - loss: 0.9147 - val_accuracy: 0.6566 - val_loss: 0.8349\n",
      "Epoch 3/20\n",
      "\u001b[1m1097/1098\u001b[0m \u001b[32m━━━━━━━━━━━━━━━━━━━\u001b[0m\u001b[37m━\u001b[0m \u001b[1m0s\u001b[0m 13ms/step - accuracy: 0.6314 - loss: 0.8846\n",
      "Epoch 3: val_loss improved from 0.83494 to 0.81925, saving model to best_model.keras\n",
      "\u001b[1m1098/1098\u001b[0m \u001b[32m━━━━━━━━━━━━━━━━━━━━\u001b[0m\u001b[37m\u001b[0m \u001b[1m15s\u001b[0m 14ms/step - accuracy: 0.6314 - loss: 0.8846 - val_accuracy: 0.6597 - val_loss: 0.8192\n",
      "Epoch 4/20\n",
      "\u001b[1m1096/1098\u001b[0m \u001b[32m━━━━━━━━━━━━━━━━━━━\u001b[0m\u001b[37m━\u001b[0m \u001b[1m0s\u001b[0m 13ms/step - accuracy: 0.6429 - loss: 0.8535\n",
      "Epoch 4: val_loss improved from 0.81925 to 0.79494, saving model to best_model.keras\n",
      "\u001b[1m1098/1098\u001b[0m \u001b[32m━━━━━━━━━━━━━━━━━━━━\u001b[0m\u001b[37m\u001b[0m \u001b[1m15s\u001b[0m 14ms/step - accuracy: 0.6429 - loss: 0.8535 - val_accuracy: 0.6723 - val_loss: 0.7949\n",
      "Epoch 5/20\n",
      "\u001b[1m1097/1098\u001b[0m \u001b[32m━━━━━━━━━━━━━━━━━━━\u001b[0m\u001b[37m━\u001b[0m \u001b[1m0s\u001b[0m 13ms/step - accuracy: 0.6564 - loss: 0.8275\n",
      "Epoch 5: val_loss improved from 0.79494 to 0.78434, saving model to best_model.keras\n",
      "\u001b[1m1098/1098\u001b[0m \u001b[32m━━━━━━━━━━━━━━━━━━━━\u001b[0m\u001b[37m\u001b[0m \u001b[1m15s\u001b[0m 14ms/step - accuracy: 0.6564 - loss: 0.8275 - val_accuracy: 0.6750 - val_loss: 0.7843\n",
      "Epoch 6/20\n",
      "\u001b[1m1097/1098\u001b[0m \u001b[32m━━━━━━━━━━━━━━━━━━━\u001b[0m\u001b[37m━\u001b[0m \u001b[1m0s\u001b[0m 13ms/step - accuracy: 0.6629 - loss: 0.8093\n",
      "Epoch 6: val_loss improved from 0.78434 to 0.77440, saving model to best_model.keras\n",
      "\u001b[1m1098/1098\u001b[0m \u001b[32m━━━━━━━━━━━━━━━━━━━━\u001b[0m\u001b[37m\u001b[0m \u001b[1m15s\u001b[0m 14ms/step - accuracy: 0.6629 - loss: 0.8093 - val_accuracy: 0.6750 - val_loss: 0.7744\n",
      "Epoch 7/20\n",
      "\u001b[1m1097/1098\u001b[0m \u001b[32m━━━━━━━━━━━━━━━━━━━\u001b[0m\u001b[37m━\u001b[0m \u001b[1m0s\u001b[0m 13ms/step - accuracy: 0.6701 - loss: 0.7859\n",
      "Epoch 7: val_loss improved from 0.77440 to 0.76155, saving model to best_model.keras\n",
      "\u001b[1m1098/1098\u001b[0m \u001b[32m━━━━━━━━━━━━━━━━━━━━\u001b[0m\u001b[37m\u001b[0m \u001b[1m15s\u001b[0m 14ms/step - accuracy: 0.6701 - loss: 0.7859 - val_accuracy: 0.6811 - val_loss: 0.7616\n",
      "Epoch 8/20\n",
      "\u001b[1m1097/1098\u001b[0m \u001b[32m━━━━━━━━━━━━━━━━━━━\u001b[0m\u001b[37m━\u001b[0m \u001b[1m0s\u001b[0m 13ms/step - accuracy: 0.6795 - loss: 0.7663\n",
      "Epoch 8: val_loss improved from 0.76155 to 0.75175, saving model to best_model.keras\n",
      "\u001b[1m1098/1098\u001b[0m \u001b[32m━━━━━━━━━━━━━━━━━━━━\u001b[0m\u001b[37m\u001b[0m \u001b[1m16s\u001b[0m 14ms/step - accuracy: 0.6795 - loss: 0.7663 - val_accuracy: 0.6839 - val_loss: 0.7518\n",
      "Epoch 9/20\n",
      "\u001b[1m1096/1098\u001b[0m \u001b[32m━━━━━━━━━━━━━━━━━━━\u001b[0m\u001b[37m━\u001b[0m \u001b[1m0s\u001b[0m 13ms/step - accuracy: 0.6859 - loss: 0.7546\n",
      "Epoch 9: val_loss did not improve from 0.75175\n",
      "\u001b[1m1098/1098\u001b[0m \u001b[32m━━━━━━━━━━━━━━━━━━━━\u001b[0m\u001b[37m\u001b[0m \u001b[1m15s\u001b[0m 14ms/step - accuracy: 0.6859 - loss: 0.7546 - val_accuracy: 0.6841 - val_loss: 0.7540\n",
      "Epoch 10/20\n",
      "\u001b[1m1097/1098\u001b[0m \u001b[32m━━━━━━━━━━━━━━━━━━━\u001b[0m\u001b[37m━\u001b[0m \u001b[1m0s\u001b[0m 13ms/step - accuracy: 0.6891 - loss: 0.7431\n",
      "Epoch 10: val_loss improved from 0.75175 to 0.74638, saving model to best_model.keras\n",
      "\u001b[1m1098/1098\u001b[0m \u001b[32m━━━━━━━━━━━━━━━━━━━━\u001b[0m\u001b[37m\u001b[0m \u001b[1m15s\u001b[0m 14ms/step - accuracy: 0.6891 - loss: 0.7431 - val_accuracy: 0.6877 - val_loss: 0.7464\n",
      "Epoch 11/20\n",
      "\u001b[1m1096/1098\u001b[0m \u001b[32m━━━━━━━━━━━━━━━━━━━\u001b[0m\u001b[37m━\u001b[0m \u001b[1m0s\u001b[0m 13ms/step - accuracy: 0.6944 - loss: 0.7322\n",
      "Epoch 11: val_loss did not improve from 0.74638\n",
      "\u001b[1m1098/1098\u001b[0m \u001b[32m━━━━━━━━━━━━━━━━━━━━\u001b[0m\u001b[37m\u001b[0m \u001b[1m15s\u001b[0m 14ms/step - accuracy: 0.6944 - loss: 0.7322 - val_accuracy: 0.6867 - val_loss: 0.7494\n",
      "Epoch 12/20\n",
      "\u001b[1m1097/1098\u001b[0m \u001b[32m━━━━━━━━━━━━━━━━━━━\u001b[0m\u001b[37m━\u001b[0m \u001b[1m0s\u001b[0m 13ms/step - accuracy: 0.6998 - loss: 0.7176\n",
      "Epoch 12: val_loss improved from 0.74638 to 0.74268, saving model to best_model.keras\n",
      "\u001b[1m1098/1098\u001b[0m \u001b[32m━━━━━━━━━━━━━━━━━━━━\u001b[0m\u001b[37m\u001b[0m \u001b[1m15s\u001b[0m 14ms/step - accuracy: 0.6998 - loss: 0.7176 - val_accuracy: 0.6908 - val_loss: 0.7427\n",
      "Epoch 13/20\n",
      "\u001b[1m1095/1098\u001b[0m \u001b[32m━━━━━━━━━━━━━━━━━━━\u001b[0m\u001b[37m━\u001b[0m \u001b[1m0s\u001b[0m 13ms/step - accuracy: 0.7013 - loss: 0.7130\n",
      "Epoch 13: val_loss did not improve from 0.74268\n",
      "\u001b[1m1098/1098\u001b[0m \u001b[32m━━━━━━━━━━━━━━━━━━━━\u001b[0m\u001b[37m\u001b[0m \u001b[1m15s\u001b[0m 14ms/step - accuracy: 0.7013 - loss: 0.7130 - val_accuracy: 0.6828 - val_loss: 0.7530\n",
      "Epoch 14/20\n",
      "\u001b[1m1097/1098\u001b[0m \u001b[32m━━━━━━━━━━━━━━━━━━━\u001b[0m\u001b[37m━\u001b[0m \u001b[1m0s\u001b[0m 13ms/step - accuracy: 0.7043 - loss: 0.7061\n",
      "Epoch 14: val_loss improved from 0.74268 to 0.73611, saving model to best_model.keras\n",
      "\u001b[1m1098/1098\u001b[0m \u001b[32m━━━━━━━━━━━━━━━━━━━━\u001b[0m\u001b[37m\u001b[0m \u001b[1m15s\u001b[0m 14ms/step - accuracy: 0.7043 - loss: 0.7061 - val_accuracy: 0.6911 - val_loss: 0.7361\n",
      "Epoch 15/20\n",
      "\u001b[1m1096/1098\u001b[0m \u001b[32m━━━━━━━━━━━━━━━━━━━\u001b[0m\u001b[37m━\u001b[0m \u001b[1m0s\u001b[0m 13ms/step - accuracy: 0.7091 - loss: 0.6989\n",
      "Epoch 15: val_loss did not improve from 0.73611\n",
      "\u001b[1m1098/1098\u001b[0m \u001b[32m━━━━━━━━━━━━━━━━━━━━\u001b[0m\u001b[37m\u001b[0m \u001b[1m15s\u001b[0m 14ms/step - accuracy: 0.7091 - loss: 0.6989 - val_accuracy: 0.6919 - val_loss: 0.7363\n",
      "Epoch 16/20\n",
      "\u001b[1m1097/1098\u001b[0m \u001b[32m━━━━━━━━━━━━━━━━━━━\u001b[0m\u001b[37m━\u001b[0m \u001b[1m0s\u001b[0m 13ms/step - accuracy: 0.7124 - loss: 0.6917\n",
      "Epoch 16: val_loss did not improve from 0.73611\n",
      "\u001b[1m1098/1098\u001b[0m \u001b[32m━━━━━━━━━━━━━━━━━━━━\u001b[0m\u001b[37m\u001b[0m \u001b[1m15s\u001b[0m 14ms/step - accuracy: 0.7124 - loss: 0.6917 - val_accuracy: 0.6939 - val_loss: 0.7406\n",
      "----------------------- 2ND SAMPLE --------------------------\n",
      "Epoch 1/20\n",
      "\u001b[1m1096/1098\u001b[0m \u001b[32m━━━━━━━━━━━━━━━━━━━\u001b[0m\u001b[37m━\u001b[0m \u001b[1m0s\u001b[0m 13ms/step - accuracy: 0.5548 - loss: 1.0851\n",
      "Epoch 1: val_loss improved from inf to 0.86600, saving model to best_model.keras\n",
      "\u001b[1m1098/1098\u001b[0m \u001b[32m━━━━━━━━━━━━━━━━━━━━\u001b[0m\u001b[37m\u001b[0m \u001b[1m19s\u001b[0m 14ms/step - accuracy: 0.5549 - loss: 1.0849 - val_accuracy: 0.6380 - val_loss: 0.8660\n",
      "Epoch 2/20\n",
      "\u001b[1m1097/1098\u001b[0m \u001b[32m━━━━━━━━━━━━━━━━━━━\u001b[0m\u001b[37m━\u001b[0m \u001b[1m0s\u001b[0m 13ms/step - accuracy: 0.6211 - loss: 0.9108\n",
      "Epoch 2: val_loss improved from 0.86600 to 0.84430, saving model to best_model.keras\n",
      "\u001b[1m1098/1098\u001b[0m \u001b[32m━━━━━━━━━━━━━━━━━━━━\u001b[0m\u001b[37m\u001b[0m \u001b[1m15s\u001b[0m 14ms/step - accuracy: 0.6211 - loss: 0.9108 - val_accuracy: 0.6454 - val_loss: 0.8443\n",
      "Epoch 3/20\n",
      "\u001b[1m1096/1098\u001b[0m \u001b[32m━━━━━━━━━━━━━━━━━━━\u001b[0m\u001b[37m━\u001b[0m \u001b[1m0s\u001b[0m 13ms/step - accuracy: 0.6322 - loss: 0.8804\n",
      "Epoch 3: val_loss improved from 0.84430 to 0.83166, saving model to best_model.keras\n",
      "\u001b[1m1098/1098\u001b[0m \u001b[32m━━━━━━━━━━━━━━━━━━━━\u001b[0m\u001b[37m\u001b[0m \u001b[1m15s\u001b[0m 14ms/step - accuracy: 0.6322 - loss: 0.8804 - val_accuracy: 0.6549 - val_loss: 0.8317\n",
      "Epoch 4/20\n",
      "\u001b[1m1097/1098\u001b[0m \u001b[32m━━━━━━━━━━━━━━━━━━━\u001b[0m\u001b[37m━\u001b[0m \u001b[1m0s\u001b[0m 13ms/step - accuracy: 0.6445 - loss: 0.8552\n",
      "Epoch 4: val_loss improved from 0.83166 to 0.79324, saving model to best_model.keras\n",
      "\u001b[1m1098/1098\u001b[0m \u001b[32m━━━━━━━━━━━━━━━━━━━━\u001b[0m\u001b[37m\u001b[0m \u001b[1m15s\u001b[0m 14ms/step - accuracy: 0.6445 - loss: 0.8552 - val_accuracy: 0.6687 - val_loss: 0.7932\n",
      "Epoch 5/20\n",
      "\u001b[1m1096/1098\u001b[0m \u001b[32m━━━━━━━━━━━━━━━━━━━\u001b[0m\u001b[37m━\u001b[0m \u001b[1m0s\u001b[0m 13ms/step - accuracy: 0.6574 - loss: 0.8229\n",
      "Epoch 5: val_loss improved from 0.79324 to 0.78073, saving model to best_model.keras\n",
      "\u001b[1m1098/1098\u001b[0m \u001b[32m━━━━━━━━━━━━━━━━━━━━\u001b[0m\u001b[37m\u001b[0m \u001b[1m15s\u001b[0m 14ms/step - accuracy: 0.6574 - loss: 0.8230 - val_accuracy: 0.6744 - val_loss: 0.7807\n",
      "Epoch 6/20\n",
      "\u001b[1m1097/1098\u001b[0m \u001b[32m━━━━━━━━━━━━━━━━━━━\u001b[0m\u001b[37m━\u001b[0m \u001b[1m0s\u001b[0m 13ms/step - accuracy: 0.6657 - loss: 0.8046\n",
      "Epoch 6: val_loss improved from 0.78073 to 0.77134, saving model to best_model.keras\n",
      "\u001b[1m1098/1098\u001b[0m \u001b[32m━━━━━━━━━━━━━━━━━━━━\u001b[0m\u001b[37m\u001b[0m \u001b[1m15s\u001b[0m 14ms/step - accuracy: 0.6657 - loss: 0.8046 - val_accuracy: 0.6754 - val_loss: 0.7713\n",
      "Epoch 7/20\n",
      "\u001b[1m1096/1098\u001b[0m \u001b[32m━━━━━━━━━━━━━━━━━━━\u001b[0m\u001b[37m━\u001b[0m \u001b[1m0s\u001b[0m 13ms/step - accuracy: 0.6733 - loss: 0.7850\n",
      "Epoch 7: val_loss improved from 0.77134 to 0.76007, saving model to best_model.keras\n",
      "\u001b[1m1098/1098\u001b[0m \u001b[32m━━━━━━━━━━━━━━━━━━━━\u001b[0m\u001b[37m\u001b[0m \u001b[1m15s\u001b[0m 14ms/step - accuracy: 0.6733 - loss: 0.7850 - val_accuracy: 0.6782 - val_loss: 0.7601\n",
      "Epoch 8/20\n",
      "\u001b[1m1097/1098\u001b[0m \u001b[32m━━━━━━━━━━━━━━━━━━━\u001b[0m\u001b[37m━\u001b[0m \u001b[1m0s\u001b[0m 13ms/step - accuracy: 0.6808 - loss: 0.7667\n",
      "Epoch 8: val_loss improved from 0.76007 to 0.75336, saving model to best_model.keras\n",
      "\u001b[1m1098/1098\u001b[0m \u001b[32m━━━━━━━━━━━━━━━━━━━━\u001b[0m\u001b[37m\u001b[0m \u001b[1m15s\u001b[0m 14ms/step - accuracy: 0.6808 - loss: 0.7667 - val_accuracy: 0.6858 - val_loss: 0.7534\n",
      "Epoch 9/20\n",
      "\u001b[1m1097/1098\u001b[0m \u001b[32m━━━━━━━━━━━━━━━━━━━\u001b[0m\u001b[37m━\u001b[0m \u001b[1m0s\u001b[0m 13ms/step - accuracy: 0.6842 - loss: 0.7507\n",
      "Epoch 9: val_loss improved from 0.75336 to 0.74597, saving model to best_model.keras\n",
      "\u001b[1m1098/1098\u001b[0m \u001b[32m━━━━━━━━━━━━━━━━━━━━\u001b[0m\u001b[37m\u001b[0m \u001b[1m15s\u001b[0m 14ms/step - accuracy: 0.6842 - loss: 0.7507 - val_accuracy: 0.6847 - val_loss: 0.7460\n",
      "Epoch 10/20\n",
      "\u001b[1m1097/1098\u001b[0m \u001b[32m━━━━━━━━━━━━━━━━━━━\u001b[0m\u001b[37m━\u001b[0m \u001b[1m0s\u001b[0m 13ms/step - accuracy: 0.6926 - loss: 0.7387\n",
      "Epoch 10: val_loss improved from 0.74597 to 0.74295, saving model to best_model.keras\n",
      "\u001b[1m1098/1098\u001b[0m \u001b[32m━━━━━━━━━━━━━━━━━━━━\u001b[0m\u001b[37m\u001b[0m \u001b[1m15s\u001b[0m 14ms/step - accuracy: 0.6926 - loss: 0.7387 - val_accuracy: 0.6913 - val_loss: 0.7430\n",
      "Epoch 11/20\n",
      "\u001b[1m1097/1098\u001b[0m \u001b[32m━━━━━━━━━━━━━━━━━━━\u001b[0m\u001b[37m━\u001b[0m \u001b[1m0s\u001b[0m 13ms/step - accuracy: 0.6951 - loss: 0.7295\n",
      "Epoch 11: val_loss improved from 0.74295 to 0.74129, saving model to best_model.keras\n",
      "\u001b[1m1098/1098\u001b[0m \u001b[32m━━━━━━━━━━━━━━━━━━━━\u001b[0m\u001b[37m\u001b[0m \u001b[1m15s\u001b[0m 14ms/step - accuracy: 0.6951 - loss: 0.7295 - val_accuracy: 0.6915 - val_loss: 0.7413\n",
      "Epoch 12/20\n",
      "\u001b[1m1097/1098\u001b[0m \u001b[32m━━━━━━━━━━━━━━━━━━━\u001b[0m\u001b[37m━\u001b[0m \u001b[1m0s\u001b[0m 13ms/step - accuracy: 0.6994 - loss: 0.7197\n",
      "Epoch 12: val_loss did not improve from 0.74129\n",
      "\u001b[1m1098/1098\u001b[0m \u001b[32m━━━━━━━━━━━━━━━━━━━━\u001b[0m\u001b[37m\u001b[0m \u001b[1m15s\u001b[0m 14ms/step - accuracy: 0.6994 - loss: 0.7197 - val_accuracy: 0.6886 - val_loss: 0.7460\n",
      "Epoch 13/20\n",
      "\u001b[1m1097/1098\u001b[0m \u001b[32m━━━━━━━━━━━━━━━━━━━\u001b[0m\u001b[37m━\u001b[0m \u001b[1m0s\u001b[0m 13ms/step - accuracy: 0.7034 - loss: 0.7084\n",
      "Epoch 13: val_loss did not improve from 0.74129\n",
      "\u001b[1m1098/1098\u001b[0m \u001b[32m━━━━━━━━━━━━━━━━━━━━\u001b[0m\u001b[37m\u001b[0m \u001b[1m15s\u001b[0m 14ms/step - accuracy: 0.7034 - loss: 0.7085 - val_accuracy: 0.6822 - val_loss: 0.7481\n",
      "----------------------- 3RD SAMPLE --------------------------\n",
      "Epoch 1/20\n",
      "\u001b[1m1097/1098\u001b[0m \u001b[32m━━━━━━━━━━━━━━━━━━━\u001b[0m\u001b[37m━\u001b[0m \u001b[1m0s\u001b[0m 13ms/step - accuracy: 0.5586 - loss: 1.0801\n",
      "Epoch 1: val_loss improved from inf to 0.86690, saving model to best_model.keras\n",
      "\u001b[1m1098/1098\u001b[0m \u001b[32m━━━━━━━━━━━━━━━━━━━━\u001b[0m\u001b[37m\u001b[0m \u001b[1m18s\u001b[0m 14ms/step - accuracy: 0.5586 - loss: 1.0800 - val_accuracy: 0.6370 - val_loss: 0.8669\n",
      "Epoch 2/20\n",
      "\u001b[1m1097/1098\u001b[0m \u001b[32m━━━━━━━━━━━━━━━━━━━\u001b[0m\u001b[37m━\u001b[0m \u001b[1m0s\u001b[0m 13ms/step - accuracy: 0.6205 - loss: 0.9085\n",
      "Epoch 2: val_loss improved from 0.86690 to 0.86401, saving model to best_model.keras\n",
      "\u001b[1m1098/1098\u001b[0m \u001b[32m━━━━━━━━━━━━━━━━━━━━\u001b[0m\u001b[37m\u001b[0m \u001b[1m15s\u001b[0m 14ms/step - accuracy: 0.6205 - loss: 0.9085 - val_accuracy: 0.6444 - val_loss: 0.8640\n",
      "Epoch 3/20\n",
      "\u001b[1m1097/1098\u001b[0m \u001b[32m━━━━━━━━━━━━━━━━━━━\u001b[0m\u001b[37m━\u001b[0m \u001b[1m0s\u001b[0m 13ms/step - accuracy: 0.6318 - loss: 0.8814\n",
      "Epoch 3: val_loss improved from 0.86401 to 0.82182, saving model to best_model.keras\n",
      "\u001b[1m1098/1098\u001b[0m \u001b[32m━━━━━━━━━━━━━━━━━━━━\u001b[0m\u001b[37m\u001b[0m \u001b[1m15s\u001b[0m 14ms/step - accuracy: 0.6318 - loss: 0.8813 - val_accuracy: 0.6547 - val_loss: 0.8218\n",
      "Epoch 4/20\n",
      "\u001b[1m1097/1098\u001b[0m \u001b[32m━━━━━━━━━━━━━━━━━━━\u001b[0m\u001b[37m━\u001b[0m \u001b[1m0s\u001b[0m 13ms/step - accuracy: 0.6426 - loss: 0.8548\n",
      "Epoch 4: val_loss improved from 0.82182 to 0.81680, saving model to best_model.keras\n",
      "\u001b[1m1098/1098\u001b[0m \u001b[32m━━━━━━━━━━━━━━━━━━━━\u001b[0m\u001b[37m\u001b[0m \u001b[1m15s\u001b[0m 14ms/step - accuracy: 0.6426 - loss: 0.8548 - val_accuracy: 0.6600 - val_loss: 0.8168\n",
      "Epoch 5/20\n",
      "\u001b[1m1097/1098\u001b[0m \u001b[32m━━━━━━━━━━━━━━━━━━━\u001b[0m\u001b[37m━\u001b[0m \u001b[1m0s\u001b[0m 13ms/step - accuracy: 0.6540 - loss: 0.8300\n",
      "Epoch 5: val_loss improved from 0.81680 to 0.78369, saving model to best_model.keras\n",
      "\u001b[1m1098/1098\u001b[0m \u001b[32m━━━━━━━━━━━━━━━━━━━━\u001b[0m\u001b[37m\u001b[0m \u001b[1m15s\u001b[0m 14ms/step - accuracy: 0.6540 - loss: 0.8300 - val_accuracy: 0.6737 - val_loss: 0.7837\n",
      "Epoch 6/20\n",
      "\u001b[1m1097/1098\u001b[0m \u001b[32m━━━━━━━━━━━━━━━━━━━\u001b[0m\u001b[37m━\u001b[0m \u001b[1m0s\u001b[0m 13ms/step - accuracy: 0.6635 - loss: 0.8055\n",
      "Epoch 6: val_loss improved from 0.78369 to 0.76973, saving model to best_model.keras\n",
      "\u001b[1m1098/1098\u001b[0m \u001b[32m━━━━━━━━━━━━━━━━━━━━\u001b[0m\u001b[37m\u001b[0m \u001b[1m15s\u001b[0m 14ms/step - accuracy: 0.6635 - loss: 0.8055 - val_accuracy: 0.6766 - val_loss: 0.7697\n",
      "Epoch 7/20\n",
      "\u001b[1m1097/1098\u001b[0m \u001b[32m━━━━━━━━━━━━━━━━━━━\u001b[0m\u001b[37m━\u001b[0m \u001b[1m0s\u001b[0m 13ms/step - accuracy: 0.6704 - loss: 0.7866\n",
      "Epoch 7: val_loss improved from 0.76973 to 0.76562, saving model to best_model.keras\n",
      "\u001b[1m1098/1098\u001b[0m \u001b[32m━━━━━━━━━━━━━━━━━━━━\u001b[0m\u001b[37m\u001b[0m \u001b[1m15s\u001b[0m 14ms/step - accuracy: 0.6704 - loss: 0.7866 - val_accuracy: 0.6745 - val_loss: 0.7656\n",
      "Epoch 8/20\n",
      "\u001b[1m1097/1098\u001b[0m \u001b[32m━━━━━━━━━━━━━━━━━━━\u001b[0m\u001b[37m━\u001b[0m \u001b[1m0s\u001b[0m 13ms/step - accuracy: 0.6792 - loss: 0.7696\n",
      "Epoch 8: val_loss improved from 0.76562 to 0.75439, saving model to best_model.keras\n",
      "\u001b[1m1098/1098\u001b[0m \u001b[32m━━━━━━━━━━━━━━━━━━━━\u001b[0m\u001b[37m\u001b[0m \u001b[1m16s\u001b[0m 14ms/step - accuracy: 0.6792 - loss: 0.7696 - val_accuracy: 0.6851 - val_loss: 0.7544\n",
      "Epoch 9/20\n",
      "\u001b[1m1097/1098\u001b[0m \u001b[32m━━━━━━━━━━━━━━━━━━━\u001b[0m\u001b[37m━\u001b[0m \u001b[1m0s\u001b[0m 13ms/step - accuracy: 0.6863 - loss: 0.7519\n",
      "Epoch 9: val_loss improved from 0.75439 to 0.75321, saving model to best_model.keras\n",
      "\u001b[1m1098/1098\u001b[0m \u001b[32m━━━━━━━━━━━━━━━━━━━━\u001b[0m\u001b[37m\u001b[0m \u001b[1m15s\u001b[0m 14ms/step - accuracy: 0.6863 - loss: 0.7519 - val_accuracy: 0.6816 - val_loss: 0.7532\n",
      "Epoch 10/20\n",
      "\u001b[1m1096/1098\u001b[0m \u001b[32m━━━━━━━━━━━━━━━━━━━\u001b[0m\u001b[37m━\u001b[0m \u001b[1m0s\u001b[0m 13ms/step - accuracy: 0.6892 - loss: 0.7402\n",
      "Epoch 10: val_loss did not improve from 0.75321\n",
      "\u001b[1m1098/1098\u001b[0m \u001b[32m━━━━━━━━━━━━━━━━━━━━\u001b[0m\u001b[37m\u001b[0m \u001b[1m15s\u001b[0m 14ms/step - accuracy: 0.6892 - loss: 0.7403 - val_accuracy: 0.6844 - val_loss: 0.7570\n",
      "Epoch 11/20\n",
      "\u001b[1m1097/1098\u001b[0m \u001b[32m━━━━━━━━━━━━━━━━━━━\u001b[0m\u001b[37m━\u001b[0m \u001b[1m0s\u001b[0m 13ms/step - accuracy: 0.6952 - loss: 0.7310\n",
      "Epoch 11: val_loss improved from 0.75321 to 0.74458, saving model to best_model.keras\n",
      "\u001b[1m1098/1098\u001b[0m \u001b[32m━━━━━━━━━━━━━━━━━━━━\u001b[0m\u001b[37m\u001b[0m \u001b[1m15s\u001b[0m 14ms/step - accuracy: 0.6952 - loss: 0.7310 - val_accuracy: 0.6838 - val_loss: 0.7446\n",
      "Epoch 12/20\n",
      "\u001b[1m1096/1098\u001b[0m \u001b[32m━━━━━━━━━━━━━━━━━━━\u001b[0m\u001b[37m━\u001b[0m \u001b[1m0s\u001b[0m 13ms/step - accuracy: 0.6998 - loss: 0.7223\n",
      "Epoch 12: val_loss did not improve from 0.74458\n",
      "\u001b[1m1098/1098\u001b[0m \u001b[32m━━━━━━━━━━━━━━━━━━━━\u001b[0m\u001b[37m\u001b[0m \u001b[1m15s\u001b[0m 14ms/step - accuracy: 0.6998 - loss: 0.7223 - val_accuracy: 0.6843 - val_loss: 0.7518\n",
      "Epoch 13/20\n",
      "\u001b[1m1097/1098\u001b[0m \u001b[32m━━━━━━━━━━━━━━━━━━━\u001b[0m\u001b[37m━\u001b[0m \u001b[1m0s\u001b[0m 13ms/step - accuracy: 0.7027 - loss: 0.7127\n",
      "Epoch 13: val_loss improved from 0.74458 to 0.73696, saving model to best_model.keras\n",
      "\u001b[1m1098/1098\u001b[0m \u001b[32m━━━━━━━━━━━━━━━━━━━━\u001b[0m\u001b[37m\u001b[0m \u001b[1m15s\u001b[0m 14ms/step - accuracy: 0.7027 - loss: 0.7127 - val_accuracy: 0.6922 - val_loss: 0.7370\n",
      "Epoch 14/20\n",
      "\u001b[1m1097/1098\u001b[0m \u001b[32m━━━━━━━━━━━━━━━━━━━\u001b[0m\u001b[37m━\u001b[0m \u001b[1m0s\u001b[0m 13ms/step - accuracy: 0.7061 - loss: 0.7045\n",
      "Epoch 14: val_loss did not improve from 0.73696\n",
      "\u001b[1m1098/1098\u001b[0m \u001b[32m━━━━━━━━━━━━━━━━━━━━\u001b[0m\u001b[37m\u001b[0m \u001b[1m15s\u001b[0m 14ms/step - accuracy: 0.7061 - loss: 0.7045 - val_accuracy: 0.6858 - val_loss: 0.7487\n",
      "Epoch 15/20\n",
      "\u001b[1m1097/1098\u001b[0m \u001b[32m━━━━━━━━━━━━━━━━━━━\u001b[0m\u001b[37m━\u001b[0m \u001b[1m0s\u001b[0m 13ms/step - accuracy: 0.7072 - loss: 0.7013\n",
      "Epoch 15: val_loss did not improve from 0.73696\n",
      "\u001b[1m1098/1098\u001b[0m \u001b[32m━━━━━━━━━━━━━━━━━━━━\u001b[0m\u001b[37m\u001b[0m \u001b[1m15s\u001b[0m 14ms/step - accuracy: 0.7072 - loss: 0.7013 - val_accuracy: 0.6890 - val_loss: 0.7510\n",
      "----------------------- 4TH SAMPLE --------------------------\n",
      "Epoch 1/20\n",
      "\u001b[1m1096/1098\u001b[0m \u001b[32m━━━━━━━━━━━━━━━━━━━\u001b[0m\u001b[37m━\u001b[0m \u001b[1m0s\u001b[0m 13ms/step - accuracy: 0.5532 - loss: 1.0862\n",
      "Epoch 1: val_loss improved from inf to 0.87210, saving model to best_model.keras\n",
      "\u001b[1m1098/1098\u001b[0m \u001b[32m━━━━━━━━━━━━━━━━━━━━\u001b[0m\u001b[37m\u001b[0m \u001b[1m18s\u001b[0m 14ms/step - accuracy: 0.5533 - loss: 1.0860 - val_accuracy: 0.6338 - val_loss: 0.8721\n",
      "Epoch 2/20\n",
      "\u001b[1m1097/1098\u001b[0m \u001b[32m━━━━━━━━━━━━━━━━━━━\u001b[0m\u001b[37m━\u001b[0m \u001b[1m0s\u001b[0m 13ms/step - accuracy: 0.6223 - loss: 0.9104\n",
      "Epoch 2: val_loss improved from 0.87210 to 0.87127, saving model to best_model.keras\n",
      "\u001b[1m1098/1098\u001b[0m \u001b[32m━━━━━━━━━━━━━━━━━━━━\u001b[0m\u001b[37m\u001b[0m \u001b[1m15s\u001b[0m 14ms/step - accuracy: 0.6223 - loss: 0.9104 - val_accuracy: 0.6297 - val_loss: 0.8713\n",
      "Epoch 3/20\n",
      "\u001b[1m1097/1098\u001b[0m \u001b[32m━━━━━━━━━━━━━━━━━━━\u001b[0m\u001b[37m━\u001b[0m \u001b[1m0s\u001b[0m 13ms/step - accuracy: 0.6328 - loss: 0.8750\n",
      "Epoch 3: val_loss improved from 0.87127 to 0.81570, saving model to best_model.keras\n",
      "\u001b[1m1098/1098\u001b[0m \u001b[32m━━━━━━━━━━━━━━━━━━━━\u001b[0m\u001b[37m\u001b[0m \u001b[1m15s\u001b[0m 14ms/step - accuracy: 0.6328 - loss: 0.8750 - val_accuracy: 0.6585 - val_loss: 0.8157\n",
      "Epoch 4/20\n",
      "\u001b[1m1097/1098\u001b[0m \u001b[32m━━━━━━━━━━━━━━━━━━━\u001b[0m\u001b[37m━\u001b[0m \u001b[1m0s\u001b[0m 13ms/step - accuracy: 0.6442 - loss: 0.8524\n",
      "Epoch 4: val_loss improved from 0.81570 to 0.79732, saving model to best_model.keras\n",
      "\u001b[1m1098/1098\u001b[0m \u001b[32m━━━━━━━━━━━━━━━━━━━━\u001b[0m\u001b[37m\u001b[0m \u001b[1m15s\u001b[0m 14ms/step - accuracy: 0.6442 - loss: 0.8524 - val_accuracy: 0.6651 - val_loss: 0.7973\n",
      "Epoch 5/20\n",
      "\u001b[1m1096/1098\u001b[0m \u001b[32m━━━━━━━━━━━━━━━━━━━\u001b[0m\u001b[37m━\u001b[0m \u001b[1m0s\u001b[0m 13ms/step - accuracy: 0.6565 - loss: 0.8262\n",
      "Epoch 5: val_loss improved from 0.79732 to 0.78484, saving model to best_model.keras\n",
      "\u001b[1m1098/1098\u001b[0m \u001b[32m━━━━━━━━━━━━━━━━━━━━\u001b[0m\u001b[37m\u001b[0m \u001b[1m15s\u001b[0m 14ms/step - accuracy: 0.6565 - loss: 0.8262 - val_accuracy: 0.6699 - val_loss: 0.7848\n",
      "Epoch 6/20\n",
      "\u001b[1m1097/1098\u001b[0m \u001b[32m━━━━━━━━━━━━━━━━━━━\u001b[0m\u001b[37m━\u001b[0m \u001b[1m0s\u001b[0m 13ms/step - accuracy: 0.6653 - loss: 0.8027\n",
      "Epoch 6: val_loss improved from 0.78484 to 0.77110, saving model to best_model.keras\n",
      "\u001b[1m1098/1098\u001b[0m \u001b[32m━━━━━━━━━━━━━━━━━━━━\u001b[0m\u001b[37m\u001b[0m \u001b[1m15s\u001b[0m 14ms/step - accuracy: 0.6653 - loss: 0.8027 - val_accuracy: 0.6797 - val_loss: 0.7711\n",
      "Epoch 7/20\n",
      "\u001b[1m1097/1098\u001b[0m \u001b[32m━━━━━━━━━━━━━━━━━━━\u001b[0m\u001b[37m━\u001b[0m \u001b[1m0s\u001b[0m 13ms/step - accuracy: 0.6718 - loss: 0.7880\n",
      "Epoch 7: val_loss improved from 0.77110 to 0.75930, saving model to best_model.keras\n",
      "\u001b[1m1098/1098\u001b[0m \u001b[32m━━━━━━━━━━━━━━━━━━━━\u001b[0m\u001b[37m\u001b[0m \u001b[1m15s\u001b[0m 14ms/step - accuracy: 0.6718 - loss: 0.7880 - val_accuracy: 0.6803 - val_loss: 0.7593\n",
      "Epoch 8/20\n",
      "\u001b[1m1097/1098\u001b[0m \u001b[32m━━━━━━━━━━━━━━━━━━━\u001b[0m\u001b[37m━\u001b[0m \u001b[1m0s\u001b[0m 13ms/step - accuracy: 0.6824 - loss: 0.7638\n",
      "Epoch 8: val_loss did not improve from 0.75930\n",
      "\u001b[1m1098/1098\u001b[0m \u001b[32m━━━━━━━━━━━━━━━━━━━━\u001b[0m\u001b[37m\u001b[0m \u001b[1m15s\u001b[0m 14ms/step - accuracy: 0.6824 - loss: 0.7639 - val_accuracy: 0.6799 - val_loss: 0.7625\n",
      "Epoch 9/20\n",
      "\u001b[1m1096/1098\u001b[0m \u001b[32m━━━━━━━━━━━━━━━━━━━\u001b[0m\u001b[37m━\u001b[0m \u001b[1m0s\u001b[0m 13ms/step - accuracy: 0.6845 - loss: 0.7525\n",
      "Epoch 9: val_loss improved from 0.75930 to 0.75432, saving model to best_model.keras\n",
      "\u001b[1m1098/1098\u001b[0m \u001b[32m━━━━━━━━━━━━━━━━━━━━\u001b[0m\u001b[37m\u001b[0m \u001b[1m15s\u001b[0m 14ms/step - accuracy: 0.6845 - loss: 0.7525 - val_accuracy: 0.6842 - val_loss: 0.7543\n",
      "Epoch 10/20\n",
      "\u001b[1m1097/1098\u001b[0m \u001b[32m━━━━━━━━━━━━━━━━━━━\u001b[0m\u001b[37m━\u001b[0m \u001b[1m0s\u001b[0m 13ms/step - accuracy: 0.6935 - loss: 0.7385\n",
      "Epoch 10: val_loss improved from 0.75432 to 0.74510, saving model to best_model.keras\n",
      "\u001b[1m1098/1098\u001b[0m \u001b[32m━━━━━━━━━━━━━━━━━━━━\u001b[0m\u001b[37m\u001b[0m \u001b[1m15s\u001b[0m 14ms/step - accuracy: 0.6935 - loss: 0.7385 - val_accuracy: 0.6899 - val_loss: 0.7451\n",
      "Epoch 11/20\n",
      "\u001b[1m1096/1098\u001b[0m \u001b[32m━━━━━━━━━━━━━━━━━━━\u001b[0m\u001b[37m━\u001b[0m \u001b[1m0s\u001b[0m 13ms/step - accuracy: 0.6953 - loss: 0.7325\n",
      "Epoch 11: val_loss improved from 0.74510 to 0.74134, saving model to best_model.keras\n",
      "\u001b[1m1098/1098\u001b[0m \u001b[32m━━━━━━━━━━━━━━━━━━━━\u001b[0m\u001b[37m\u001b[0m \u001b[1m15s\u001b[0m 14ms/step - accuracy: 0.6953 - loss: 0.7325 - val_accuracy: 0.6942 - val_loss: 0.7413\n",
      "Epoch 12/20\n",
      "\u001b[1m1097/1098\u001b[0m \u001b[32m━━━━━━━━━━━━━━━━━━━\u001b[0m\u001b[37m━\u001b[0m \u001b[1m0s\u001b[0m 13ms/step - accuracy: 0.7002 - loss: 0.7163\n",
      "Epoch 12: val_loss improved from 0.74134 to 0.73764, saving model to best_model.keras\n",
      "\u001b[1m1098/1098\u001b[0m \u001b[32m━━━━━━━━━━━━━━━━━━━━\u001b[0m\u001b[37m\u001b[0m \u001b[1m15s\u001b[0m 14ms/step - accuracy: 0.7002 - loss: 0.7163 - val_accuracy: 0.6923 - val_loss: 0.7376\n",
      "Epoch 13/20\n",
      "\u001b[1m1097/1098\u001b[0m \u001b[32m━━━━━━━━━━━━━━━━━━━\u001b[0m\u001b[37m━\u001b[0m \u001b[1m0s\u001b[0m 13ms/step - accuracy: 0.7017 - loss: 0.7124\n",
      "Epoch 13: val_loss did not improve from 0.73764\n",
      "\u001b[1m1098/1098\u001b[0m \u001b[32m━━━━━━━━━━━━━━━━━━━━\u001b[0m\u001b[37m\u001b[0m \u001b[1m15s\u001b[0m 14ms/step - accuracy: 0.7017 - loss: 0.7124 - val_accuracy: 0.6894 - val_loss: 0.7471\n",
      "Epoch 14/20\n",
      "\u001b[1m1096/1098\u001b[0m \u001b[32m━━━━━━━━━━━━━━━━━━━\u001b[0m\u001b[37m━\u001b[0m \u001b[1m0s\u001b[0m 13ms/step - accuracy: 0.7058 - loss: 0.7070\n",
      "Epoch 14: val_loss did not improve from 0.73764\n",
      "\u001b[1m1098/1098\u001b[0m \u001b[32m━━━━━━━━━━━━━━━━━━━━\u001b[0m\u001b[37m\u001b[0m \u001b[1m15s\u001b[0m 14ms/step - accuracy: 0.7058 - loss: 0.7070 - val_accuracy: 0.6944 - val_loss: 0.7393\n",
      "----------------------- 5TH SAMPLE --------------------------\n",
      "Epoch 1/20\n",
      "\u001b[1m1096/1098\u001b[0m \u001b[32m━━━━━━━━━━━━━━━━━━━\u001b[0m\u001b[37m━\u001b[0m \u001b[1m0s\u001b[0m 13ms/step - accuracy: 0.5590 - loss: 1.0746\n",
      "Epoch 1: val_loss improved from inf to 0.87384, saving model to best_model.keras\n",
      "\u001b[1m1098/1098\u001b[0m \u001b[32m━━━━━━━━━━━━━━━━━━━━\u001b[0m\u001b[37m\u001b[0m \u001b[1m18s\u001b[0m 14ms/step - accuracy: 0.5591 - loss: 1.0743 - val_accuracy: 0.6271 - val_loss: 0.8738\n",
      "Epoch 2/20\n",
      "\u001b[1m1097/1098\u001b[0m \u001b[32m━━━━━━━━━━━━━━━━━━━\u001b[0m\u001b[37m━\u001b[0m \u001b[1m0s\u001b[0m 13ms/step - accuracy: 0.6204 - loss: 0.9094\n",
      "Epoch 2: val_loss improved from 0.87384 to 0.84150, saving model to best_model.keras\n",
      "\u001b[1m1098/1098\u001b[0m \u001b[32m━━━━━━━━━━━━━━━━━━━━\u001b[0m\u001b[37m\u001b[0m \u001b[1m15s\u001b[0m 14ms/step - accuracy: 0.6204 - loss: 0.9094 - val_accuracy: 0.6506 - val_loss: 0.8415\n",
      "Epoch 3/20\n",
      "\u001b[1m1096/1098\u001b[0m \u001b[32m━━━━━━━━━━━━━━━━━━━\u001b[0m\u001b[37m━\u001b[0m \u001b[1m0s\u001b[0m 13ms/step - accuracy: 0.6315 - loss: 0.8798\n",
      "Epoch 3: val_loss improved from 0.84150 to 0.81640, saving model to best_model.keras\n",
      "\u001b[1m1098/1098\u001b[0m \u001b[32m━━━━━━━━━━━━━━━━━━━━\u001b[0m\u001b[37m\u001b[0m \u001b[1m15s\u001b[0m 14ms/step - accuracy: 0.6315 - loss: 0.8798 - val_accuracy: 0.6626 - val_loss: 0.8164\n",
      "Epoch 4/20\n",
      "\u001b[1m1097/1098\u001b[0m \u001b[32m━━━━━━━━━━━━━━━━━━━\u001b[0m\u001b[37m━\u001b[0m \u001b[1m0s\u001b[0m 13ms/step - accuracy: 0.6433 - loss: 0.8549\n",
      "Epoch 4: val_loss improved from 0.81640 to 0.79640, saving model to best_model.keras\n",
      "\u001b[1m1098/1098\u001b[0m \u001b[32m━━━━━━━━━━━━━━━━━━━━\u001b[0m\u001b[37m\u001b[0m \u001b[1m16s\u001b[0m 14ms/step - accuracy: 0.6433 - loss: 0.8549 - val_accuracy: 0.6676 - val_loss: 0.7964\n",
      "Epoch 5/20\n",
      "\u001b[1m1096/1098\u001b[0m \u001b[32m━━━━━━━━━━━━━━━━━━━\u001b[0m\u001b[37m━\u001b[0m \u001b[1m0s\u001b[0m 13ms/step - accuracy: 0.6550 - loss: 0.8240\n",
      "Epoch 5: val_loss improved from 0.79640 to 0.78062, saving model to best_model.keras\n",
      "\u001b[1m1098/1098\u001b[0m \u001b[32m━━━━━━━━━━━━━━━━━━━━\u001b[0m\u001b[37m\u001b[0m \u001b[1m15s\u001b[0m 14ms/step - accuracy: 0.6550 - loss: 0.8240 - val_accuracy: 0.6740 - val_loss: 0.7806\n",
      "Epoch 6/20\n",
      "\u001b[1m1095/1098\u001b[0m \u001b[32m━━━━━━━━━━━━━━━━━━━\u001b[0m\u001b[37m━\u001b[0m \u001b[1m0s\u001b[0m 13ms/step - accuracy: 0.6669 - loss: 0.8012\n",
      "Epoch 6: val_loss improved from 0.78062 to 0.77169, saving model to best_model.keras\n",
      "\u001b[1m1098/1098\u001b[0m \u001b[32m━━━━━━━━━━━━━━━━━━━━\u001b[0m\u001b[37m\u001b[0m \u001b[1m15s\u001b[0m 14ms/step - accuracy: 0.6669 - loss: 0.8012 - val_accuracy: 0.6753 - val_loss: 0.7717\n",
      "Epoch 7/20\n",
      "\u001b[1m1096/1098\u001b[0m \u001b[32m━━━━━━━━━━━━━━━━━━━\u001b[0m\u001b[37m━\u001b[0m \u001b[1m0s\u001b[0m 13ms/step - accuracy: 0.6726 - loss: 0.7841\n",
      "Epoch 7: val_loss improved from 0.77169 to 0.76663, saving model to best_model.keras\n",
      "\u001b[1m1098/1098\u001b[0m \u001b[32m━━━━━━━━━━━━━━━━━━━━\u001b[0m\u001b[37m\u001b[0m \u001b[1m16s\u001b[0m 14ms/step - accuracy: 0.6726 - loss: 0.7841 - val_accuracy: 0.6767 - val_loss: 0.7666\n",
      "Epoch 8/20\n",
      "\u001b[1m1095/1098\u001b[0m \u001b[32m━━━━━━━━━━━━━━━━━━━\u001b[0m\u001b[37m━\u001b[0m \u001b[1m0s\u001b[0m 13ms/step - accuracy: 0.6793 - loss: 0.7676\n",
      "Epoch 8: val_loss improved from 0.76663 to 0.75561, saving model to best_model.keras\n",
      "\u001b[1m1098/1098\u001b[0m \u001b[32m━━━━━━━━━━━━━━━━━━━━\u001b[0m\u001b[37m\u001b[0m \u001b[1m20s\u001b[0m 14ms/step - accuracy: 0.6793 - loss: 0.7676 - val_accuracy: 0.6842 - val_loss: 0.7556\n",
      "Epoch 9/20\n",
      "\u001b[1m1096/1098\u001b[0m \u001b[32m━━━━━━━━━━━━━━━━━━━\u001b[0m\u001b[37m━\u001b[0m \u001b[1m0s\u001b[0m 13ms/step - accuracy: 0.6851 - loss: 0.7529\n",
      "Epoch 9: val_loss did not improve from 0.75561\n",
      "\u001b[1m1098/1098\u001b[0m \u001b[32m━━━━━━━━━━━━━━━━━━━━\u001b[0m\u001b[37m\u001b[0m \u001b[1m15s\u001b[0m 14ms/step - accuracy: 0.6851 - loss: 0.7530 - val_accuracy: 0.6782 - val_loss: 0.7677\n",
      "Epoch 10/20\n",
      "\u001b[1m1096/1098\u001b[0m \u001b[32m━━━━━━━━━━━━━━━━━━━\u001b[0m\u001b[37m━\u001b[0m \u001b[1m0s\u001b[0m 13ms/step - accuracy: 0.6910 - loss: 0.7419\n",
      "Epoch 10: val_loss improved from 0.75561 to 0.74719, saving model to best_model.keras\n",
      "\u001b[1m1098/1098\u001b[0m \u001b[32m━━━━━━━━━━━━━━━━━━━━\u001b[0m\u001b[37m\u001b[0m \u001b[1m15s\u001b[0m 14ms/step - accuracy: 0.6910 - loss: 0.7419 - val_accuracy: 0.6876 - val_loss: 0.7472\n",
      "Epoch 11/20\n",
      "\u001b[1m1095/1098\u001b[0m \u001b[32m━━━━━━━━━━━━━━━━━━━\u001b[0m\u001b[37m━\u001b[0m \u001b[1m0s\u001b[0m 13ms/step - accuracy: 0.6947 - loss: 0.7308\n",
      "Epoch 11: val_loss did not improve from 0.74719\n",
      "\u001b[1m1098/1098\u001b[0m \u001b[32m━━━━━━━━━━━━━━━━━━━━\u001b[0m\u001b[37m\u001b[0m \u001b[1m15s\u001b[0m 14ms/step - accuracy: 0.6947 - loss: 0.7308 - val_accuracy: 0.6890 - val_loss: 0.7492\n",
      "Epoch 12/20\n",
      "\u001b[1m1097/1098\u001b[0m \u001b[32m━━━━━━━━━━━━━━━━━━━\u001b[0m\u001b[37m━\u001b[0m \u001b[1m0s\u001b[0m 13ms/step - accuracy: 0.6975 - loss: 0.7231\n",
      "Epoch 12: val_loss did not improve from 0.74719\n",
      "\u001b[1m1098/1098\u001b[0m \u001b[32m━━━━━━━━━━━━━━━━━━━━\u001b[0m\u001b[37m\u001b[0m \u001b[1m15s\u001b[0m 14ms/step - accuracy: 0.6975 - loss: 0.7231 - val_accuracy: 0.6857 - val_loss: 0.7484\n"
     ]
    }
   ],
   "source": [
    "pretrained1 = assemble_model_pre(lr=1e-3, lr_d=1e-7, units=128, spatial_dr=0.3, dense_units=128, dr=0.2)\n",
    "print('----------------------- 2ND SAMPLE --------------------------')\n",
    "pretrained2 = assemble_model_pre(lr=1e-3, lr_d=1e-7, units=128, spatial_dr=0.3, dense_units=128, dr=0.2)\n",
    "print('----------------------- 3RD SAMPLE --------------------------')\n",
    "pretrained3 = assemble_model_pre(lr=1e-3, lr_d=1e-7, units=128, spatial_dr=0.3, dense_units=128, dr=0.2)\n",
    "print('----------------------- 4TH SAMPLE --------------------------')\n",
    "pretrained4 = assemble_model_pre(lr=1e-3, lr_d=1e-7, units=128, spatial_dr=0.3, dense_units=128, dr=0.2)\n",
    "print('----------------------- 5TH SAMPLE --------------------------')\n",
    "pretrained5 = assemble_model_pre(lr=1e-3, lr_d=1e-7, units=128, spatial_dr=0.3, dense_units=128, dr=0.2)"
   ]
  },
  {
   "cell_type": "code",
   "execution_count": 18,
   "metadata": {
    "execution": {
     "iopub.execute_input": "2024-05-06T03:43:31.768781Z",
     "iopub.status.busy": "2024-05-06T03:43:31.768092Z",
     "iopub.status.idle": "2024-05-06T03:43:38.932777Z",
     "shell.execute_reply": "2024-05-06T03:43:38.931824Z",
     "shell.execute_reply.started": "2024-05-06T03:43:31.768752Z"
    }
   },
   "outputs": [
    {
     "name": "stdout",
     "output_type": "stream",
     "text": [
      "\u001b[1m65/65\u001b[0m \u001b[32m━━━━━━━━━━━━━━━━━━━━\u001b[0m\u001b[37m\u001b[0m \u001b[1m1s\u001b[0m 18ms/step\n",
      "\u001b[1m65/65\u001b[0m \u001b[32m━━━━━━━━━━━━━━━━━━━━\u001b[0m\u001b[37m\u001b[0m \u001b[1m1s\u001b[0m 18ms/step\n",
      "\u001b[1m65/65\u001b[0m \u001b[32m━━━━━━━━━━━━━━━━━━━━\u001b[0m\u001b[37m\u001b[0m \u001b[1m1s\u001b[0m 18ms/step\n",
      "\u001b[1m65/65\u001b[0m \u001b[32m━━━━━━━━━━━━━━━━━━━━\u001b[0m\u001b[37m\u001b[0m \u001b[1m1s\u001b[0m 18ms/step\n",
      "\u001b[1m65/65\u001b[0m \u001b[32m━━━━━━━━━━━━━━━━━━━━\u001b[0m\u001b[37m\u001b[0m \u001b[1m1s\u001b[0m 18ms/step\n"
     ]
    }
   ],
   "source": [
    "pred1 = pretrained1.predict(X_sub_pad, batch_size = 1024, verbose = 1)\n",
    "pred = pred1\n",
    "pred2 = pretrained2.predict(X_sub_pad, batch_size = 1024, verbose = 1)\n",
    "pred += pred2\n",
    "pred3 = pretrained3.predict(X_sub_pad, batch_size = 1024, verbose = 1)\n",
    "pred += pred3\n",
    "pred4 = pretrained4.predict(X_sub_pad, batch_size = 1024, verbose = 1)\n",
    "pred += pred4\n",
    "pred5 = pretrained5.predict(X_sub_pad, batch_size = 1024, verbose = 1)\n",
    "pred += pred5\n",
    "\n",
    "# collect largest probabilities as predictions (argmax returns the index of the largest argument)\n",
    "predictions = np.round(np.argmax(pred, axis=1)).astype(int)"
   ]
  },
  {
   "cell_type": "code",
   "execution_count": 21,
   "metadata": {
    "execution": {
     "iopub.execute_input": "2024-05-06T03:44:25.950086Z",
     "iopub.status.busy": "2024-05-06T03:44:25.949204Z",
     "iopub.status.idle": "2024-05-06T03:44:26.045985Z",
     "shell.execute_reply": "2024-05-06T03:44:26.045017Z",
     "shell.execute_reply.started": "2024-05-06T03:44:25.950040Z"
    }
   },
   "outputs": [
    {
     "name": "stdout",
     "output_type": "stream",
     "text": [
      "Submission saved!\n"
     ]
    }
   ],
   "source": [
    "df_save = pd.read_csv('/kaggle/input/sentiment-analysis-on-movie-reviews/sampleSubmission.csv')\n",
    "df_save['Sentiment'] = predictions\n",
    "df_save.to_csv('Submission.csv', index = False)\n",
    "print('Submission saved!')"
   ]
  },
  {
   "cell_type": "markdown",
   "metadata": {},
   "source": [
    "**Submission accuracy: 0.67222**\n"
   ]
  },
  {
   "cell_type": "code",
   "execution_count": 45,
   "metadata": {
    "execution": {
     "iopub.execute_input": "2024-05-06T04:20:59.076607Z",
     "iopub.status.busy": "2024-05-06T04:20:59.075915Z",
     "iopub.status.idle": "2024-05-06T04:20:59.087569Z",
     "shell.execute_reply": "2024-05-06T04:20:59.086598Z",
     "shell.execute_reply.started": "2024-05-06T04:20:59.076576Z"
    }
   },
   "outputs": [],
   "source": [
    "def conv_model_pre(lr=0.0, lr_d=0.0, units=0, spatial_dr=0.0, kernel=3, dense_units=128, dr=0.1,conv_size=32):\n",
    "    \"\"\" \n",
    "    Again, same as previous single convolution model, but with a pretrained embedding layer which is fixed.\n",
    "    \"\"\"\n",
    "    file_path = \"best_model.keras\"\n",
    "    #check_point = ModelCheckpoint(file_path, monitor = \"val_loss\", verbose = 1,\n",
    "    #                              save_best_only = True, mode = \"min\")\n",
    "    early_stop = EarlyStopping(monitor = \"val_loss\", mode = \"min\", patience = 2)\n",
    "    check_point = ModelCheckpoint(file_path, monitor = \"val_loss\", verbose = 1,\n",
    "                                  save_best_only = True, mode = \"min\")\n",
    "    \n",
    "    x = Embedding(vocabulary_size, embed_dim, input_length=max_len, trainable=False)\n",
    "    inp = Input(shape = (max_len,))\n",
    "    x.build((max_len,))\n",
    "    x.set_weights([embedding_matrix])\n",
    "    embedded_sequences=x(inp)\n",
    "    x1 = SpatialDropout1D(spatial_dr)(embedded_sequences)\n",
    "    \n",
    "    x_gru = Bidirectional(GRU(units, return_sequences=True))(x1)\n",
    "    \n",
    "    x_conv = Conv1D(conv_size, kernel_size=kernel, padding='valid', kernel_initializer='he_uniform')(x_gru)\n",
    "    avg_pool1_gru = GlobalAveragePooling1D()(x_conv)\n",
    "    x = Dropout(dr)(Dense(dense_units, activation='relu') (avg_pool1_gru))\n",
    "    x = BatchNormalization()(x)\n",
    "    x = Dropout(dr)(Dense(dense_units, activation='relu') (x))\n",
    "    x = Dense(5, activation = \"softmax\")(x)\n",
    "    model = Model(inputs = inp, outputs = x)\n",
    "    #model.summary()\n",
    "    model.compile(loss = \"categorical_crossentropy\", optimizer = Adam(learning_rate = lr, weight_decay = lr_d), metrics = [\"accuracy\"])\n",
    "    history = model.fit(X_train_pad, y_train_cat, epochs=20, verbose = 1, validation_data=(X_test_pad, y_test_cat), batch_size=128, callbacks=[check_point,early_stop])\n",
    "    #model = keras.saving.load_model(file_path)\n",
    "    return model, history"
   ]
  },
  {
   "cell_type": "code",
   "execution_count": 46,
   "metadata": {
    "execution": {
     "iopub.execute_input": "2024-05-06T04:20:59.583430Z",
     "iopub.status.busy": "2024-05-06T04:20:59.583082Z",
     "iopub.status.idle": "2024-05-06T04:24:25.687910Z",
     "shell.execute_reply": "2024-05-06T04:24:25.686960Z",
     "shell.execute_reply.started": "2024-05-06T04:20:59.583403Z"
    },
    "scrolled": true
   },
   "outputs": [
    {
     "name": "stdout",
     "output_type": "stream",
     "text": [
      "Epoch 1/20\n",
      "\u001b[1m1098/1098\u001b[0m \u001b[32m━━━━━━━━━━━━━━━━━━━━\u001b[0m\u001b[37m\u001b[0m \u001b[1m0s\u001b[0m 15ms/step - accuracy: 0.5752 - loss: 1.0330\n",
      "Epoch 1: val_loss improved from inf to 0.86194, saving model to best_model.keras\n",
      "\u001b[1m1098/1098\u001b[0m \u001b[32m━━━━━━━━━━━━━━━━━━━━\u001b[0m\u001b[37m\u001b[0m \u001b[1m21s\u001b[0m 16ms/step - accuracy: 0.5752 - loss: 1.0330 - val_accuracy: 0.6399 - val_loss: 0.8619\n",
      "Epoch 2/20\n",
      "\u001b[1m1097/1098\u001b[0m \u001b[32m━━━━━━━━━━━━━━━━━━━\u001b[0m\u001b[37m━\u001b[0m \u001b[1m0s\u001b[0m 15ms/step - accuracy: 0.6254 - loss: 0.8995\n",
      "Epoch 2: val_loss did not improve from 0.86194\n",
      "\u001b[1m1098/1098\u001b[0m \u001b[32m━━━━━━━━━━━━━━━━━━━━\u001b[0m\u001b[37m\u001b[0m \u001b[1m17s\u001b[0m 15ms/step - accuracy: 0.6254 - loss: 0.8995 - val_accuracy: 0.6216 - val_loss: 0.8795\n",
      "Epoch 3/20\n",
      "\u001b[1m1097/1098\u001b[0m \u001b[32m━━━━━━━━━━━━━━━━━━━\u001b[0m\u001b[37m━\u001b[0m \u001b[1m0s\u001b[0m 14ms/step - accuracy: 0.6400 - loss: 0.8649\n",
      "Epoch 3: val_loss improved from 0.86194 to 0.82153, saving model to best_model.keras\n",
      "\u001b[1m1098/1098\u001b[0m \u001b[32m━━━━━━━━━━━━━━━━━━━━\u001b[0m\u001b[37m\u001b[0m \u001b[1m17s\u001b[0m 15ms/step - accuracy: 0.6400 - loss: 0.8649 - val_accuracy: 0.6515 - val_loss: 0.8215\n",
      "Epoch 4/20\n",
      "\u001b[1m1097/1098\u001b[0m \u001b[32m━━━━━━━━━━━━━━━━━━━\u001b[0m\u001b[37m━\u001b[0m \u001b[1m0s\u001b[0m 14ms/step - accuracy: 0.6534 - loss: 0.8292\n",
      "Epoch 4: val_loss improved from 0.82153 to 0.78179, saving model to best_model.keras\n",
      "\u001b[1m1098/1098\u001b[0m \u001b[32m━━━━━━━━━━━━━━━━━━━━\u001b[0m\u001b[37m\u001b[0m \u001b[1m17s\u001b[0m 15ms/step - accuracy: 0.6534 - loss: 0.8292 - val_accuracy: 0.6701 - val_loss: 0.7818\n",
      "Epoch 5/20\n",
      "\u001b[1m1095/1098\u001b[0m \u001b[32m━━━━━━━━━━━━━━━━━━━\u001b[0m\u001b[37m━\u001b[0m \u001b[1m0s\u001b[0m 14ms/step - accuracy: 0.6666 - loss: 0.7984\n",
      "Epoch 5: val_loss improved from 0.78179 to 0.76816, saving model to best_model.keras\n",
      "\u001b[1m1098/1098\u001b[0m \u001b[32m━━━━━━━━━━━━━━━━━━━━\u001b[0m\u001b[37m\u001b[0m \u001b[1m17s\u001b[0m 15ms/step - accuracy: 0.6666 - loss: 0.7984 - val_accuracy: 0.6775 - val_loss: 0.7682\n",
      "Epoch 6/20\n",
      "\u001b[1m1096/1098\u001b[0m \u001b[32m━━━━━━━━━━━━━━━━━━━\u001b[0m\u001b[37m━\u001b[0m \u001b[1m0s\u001b[0m 15ms/step - accuracy: 0.6777 - loss: 0.7739\n",
      "Epoch 6: val_loss did not improve from 0.76816\n",
      "\u001b[1m1098/1098\u001b[0m \u001b[32m━━━━━━━━━━━━━━━━━━━━\u001b[0m\u001b[37m\u001b[0m \u001b[1m17s\u001b[0m 15ms/step - accuracy: 0.6777 - loss: 0.7739 - val_accuracy: 0.6729 - val_loss: 0.7788\n",
      "Epoch 7/20\n",
      "\u001b[1m1098/1098\u001b[0m \u001b[32m━━━━━━━━━━━━━━━━━━━━\u001b[0m\u001b[37m\u001b[0m \u001b[1m0s\u001b[0m 15ms/step - accuracy: 0.6865 - loss: 0.7548\n",
      "Epoch 7: val_loss improved from 0.76816 to 0.75306, saving model to best_model.keras\n",
      "\u001b[1m1098/1098\u001b[0m \u001b[32m━━━━━━━━━━━━━━━━━━━━\u001b[0m\u001b[37m\u001b[0m \u001b[1m17s\u001b[0m 15ms/step - accuracy: 0.6865 - loss: 0.7548 - val_accuracy: 0.6851 - val_loss: 0.7531\n",
      "Epoch 8/20\n",
      "\u001b[1m1096/1098\u001b[0m \u001b[32m━━━━━━━━━━━━━━━━━━━\u001b[0m\u001b[37m━\u001b[0m \u001b[1m0s\u001b[0m 14ms/step - accuracy: 0.6933 - loss: 0.7364\n",
      "Epoch 8: val_loss improved from 0.75306 to 0.73464, saving model to best_model.keras\n",
      "\u001b[1m1098/1098\u001b[0m \u001b[32m━━━━━━━━━━━━━━━━━━━━\u001b[0m\u001b[37m\u001b[0m \u001b[1m17s\u001b[0m 15ms/step - accuracy: 0.6933 - loss: 0.7364 - val_accuracy: 0.6935 - val_loss: 0.7346\n",
      "Epoch 9/20\n",
      "\u001b[1m1098/1098\u001b[0m \u001b[32m━━━━━━━━━━━━━━━━━━━━\u001b[0m\u001b[37m\u001b[0m \u001b[1m0s\u001b[0m 14ms/step - accuracy: 0.6985 - loss: 0.7237\n",
      "Epoch 9: val_loss did not improve from 0.73464\n",
      "\u001b[1m1098/1098\u001b[0m \u001b[32m━━━━━━━━━━━━━━━━━━━━\u001b[0m\u001b[37m\u001b[0m \u001b[1m17s\u001b[0m 15ms/step - accuracy: 0.6985 - loss: 0.7237 - val_accuracy: 0.6847 - val_loss: 0.7514\n",
      "Epoch 10/20\n",
      "\u001b[1m1095/1098\u001b[0m \u001b[32m━━━━━━━━━━━━━━━━━━━\u001b[0m\u001b[37m━\u001b[0m \u001b[1m0s\u001b[0m 14ms/step - accuracy: 0.7025 - loss: 0.7111\n",
      "Epoch 10: val_loss improved from 0.73464 to 0.73452, saving model to best_model.keras\n",
      "\u001b[1m1098/1098\u001b[0m \u001b[32m━━━━━━━━━━━━━━━━━━━━\u001b[0m\u001b[37m\u001b[0m \u001b[1m17s\u001b[0m 15ms/step - accuracy: 0.7024 - loss: 0.7111 - val_accuracy: 0.6923 - val_loss: 0.7345\n",
      "Epoch 11/20\n",
      "\u001b[1m1097/1098\u001b[0m \u001b[32m━━━━━━━━━━━━━━━━━━━\u001b[0m\u001b[37m━\u001b[0m \u001b[1m0s\u001b[0m 15ms/step - accuracy: 0.7078 - loss: 0.7043\n",
      "Epoch 11: val_loss did not improve from 0.73452\n",
      "\u001b[1m1098/1098\u001b[0m \u001b[32m━━━━━━━━━━━━━━━━━━━━\u001b[0m\u001b[37m\u001b[0m \u001b[1m17s\u001b[0m 15ms/step - accuracy: 0.7078 - loss: 0.7043 - val_accuracy: 0.6949 - val_loss: 0.7384\n",
      "Epoch 12/20\n",
      "\u001b[1m1097/1098\u001b[0m \u001b[32m━━━━━━━━━━━━━━━━━━━\u001b[0m\u001b[37m━\u001b[0m \u001b[1m0s\u001b[0m 14ms/step - accuracy: 0.7130 - loss: 0.6902\n",
      "Epoch 12: val_loss did not improve from 0.73452\n",
      "\u001b[1m1098/1098\u001b[0m \u001b[32m━━━━━━━━━━━━━━━━━━━━\u001b[0m\u001b[37m\u001b[0m \u001b[1m17s\u001b[0m 15ms/step - accuracy: 0.7130 - loss: 0.6902 - val_accuracy: 0.6943 - val_loss: 0.7445\n"
     ]
    }
   ],
   "source": [
    "pretrained, history = conv_model_pre(lr=1e-3, lr_d=1e-5, units=128, spatial_dr=0.3, kernel=3, dense_units=128, dr=0.2,conv_size=32)"
   ]
  },
  {
   "cell_type": "code",
   "execution_count": 48,
   "metadata": {
    "execution": {
     "iopub.execute_input": "2024-05-06T04:27:21.687547Z",
     "iopub.status.busy": "2024-05-06T04:27:21.686902Z",
     "iopub.status.idle": "2024-05-06T04:27:22.167950Z",
     "shell.execute_reply": "2024-05-06T04:27:22.167074Z",
     "shell.execute_reply.started": "2024-05-06T04:27:21.687516Z"
    }
   },
   "outputs": [
    {
     "name": "stdout",
     "output_type": "stream",
     "text": [
      "dict_keys(['accuracy', 'loss', 'val_accuracy', 'val_loss'])\n"
     ]
    },
    {
     "data": {
      "image/png": "[encoded data removed]",
      "text/plain": [
       "<Figure size 640x480 with 1 Axes>"
      ]
     },
     "metadata": {},
     "output_type": "display_data"
    },
    {
     "data": {
      "image/png": "[encoded data removed]",
      "text/plain": [
       "<Figure size 640x480 with 1 Axes>"
      ]
     },
     "metadata": {},
     "output_type": "display_data"
    }
   ],
   "source": [
    "print(history.history.keys())\n",
    "plt.plot(history.history['accuracy'])\n",
    "plt.plot(history.history['val_accuracy'])\n",
    "plt.title('model accuracy (with conv layer)')\n",
    "plt.ylabel('accuracy')\n",
    "plt.xlabel('epoch')\n",
    "plt.legend(['train acc', 'val acc'], loc='upper left')\n",
    "plt.show()\n",
    "# \"Loss\"\n",
    "plt.plot(history.history['loss'])\n",
    "plt.plot(history.history['val_loss'])\n",
    "plt.title('model loss (with conv layer)')\n",
    "plt.ylabel('loss')\n",
    "plt.xlabel('epoch')\n",
    "plt.legend(['train loss', 'val loss'], loc='upper left')\n",
    "plt.show()"
   ]
  },
  {
   "cell_type": "code",
   "execution_count": 23,
   "metadata": {
    "execution": {
     "iopub.execute_input": "2024-05-06T03:45:22.531722Z",
     "iopub.status.busy": "2024-05-06T03:45:22.531370Z",
     "iopub.status.idle": "2024-05-06T04:00:37.761993Z",
     "shell.execute_reply": "2024-05-06T04:00:37.761049Z",
     "shell.execute_reply.started": "2024-05-06T03:45:22.531695Z"
    },
    "scrolled": true
   },
   "outputs": [
    {
     "name": "stdout",
     "output_type": "stream",
     "text": [
      "Epoch 1/20\n",
      "\u001b[1m1098/1098\u001b[0m \u001b[32m━━━━━━━━━━━━━━━━━━━━\u001b[0m\u001b[37m\u001b[0m \u001b[1m0s\u001b[0m 14ms/step - accuracy: 0.5797 - loss: 1.0336\n",
      "Epoch 1: val_loss improved from inf to 0.85791, saving model to best_model.keras\n",
      "\u001b[1m1098/1098\u001b[0m \u001b[32m━━━━━━━━━━━━━━━━━━━━\u001b[0m\u001b[37m\u001b[0m \u001b[1m22s\u001b[0m 16ms/step - accuracy: 0.5797 - loss: 1.0336 - val_accuracy: 0.6405 - val_loss: 0.8579\n",
      "Epoch 2/20\n",
      "\u001b[1m1098/1098\u001b[0m \u001b[32m━━━━━━━━━━━━━━━━━━━━\u001b[0m\u001b[37m\u001b[0m \u001b[1m0s\u001b[0m 15ms/step - accuracy: 0.6233 - loss: 0.9075\n",
      "Epoch 2: val_loss improved from 0.85791 to 0.82974, saving model to best_model.keras\n",
      "\u001b[1m1098/1098\u001b[0m \u001b[32m━━━━━━━━━━━━━━━━━━━━\u001b[0m\u001b[37m\u001b[0m \u001b[1m17s\u001b[0m 15ms/step - accuracy: 0.6233 - loss: 0.9075 - val_accuracy: 0.6542 - val_loss: 0.8297\n",
      "Epoch 3/20\n",
      "\u001b[1m1095/1098\u001b[0m \u001b[32m━━━━━━━━━━━━━━━━━━━\u001b[0m\u001b[37m━\u001b[0m \u001b[1m0s\u001b[0m 14ms/step - accuracy: 0.6413 - loss: 0.8653\n",
      "Epoch 3: val_loss improved from 0.82974 to 0.82236, saving model to best_model.keras\n",
      "\u001b[1m1098/1098\u001b[0m \u001b[32m━━━━━━━━━━━━━━━━━━━━\u001b[0m\u001b[37m\u001b[0m \u001b[1m17s\u001b[0m 15ms/step - accuracy: 0.6413 - loss: 0.8653 - val_accuracy: 0.6581 - val_loss: 0.8224\n",
      "Epoch 4/20\n",
      "\u001b[1m1095/1098\u001b[0m \u001b[32m━━━━━━━━━━━━━━━━━━━\u001b[0m\u001b[37m━\u001b[0m \u001b[1m0s\u001b[0m 15ms/step - accuracy: 0.6568 - loss: 0.8242\n",
      "Epoch 4: val_loss improved from 0.82236 to 0.78700, saving model to best_model.keras\n",
      "\u001b[1m1098/1098\u001b[0m \u001b[32m━━━━━━━━━━━━━━━━━━━━\u001b[0m\u001b[37m\u001b[0m \u001b[1m17s\u001b[0m 15ms/step - accuracy: 0.6568 - loss: 0.8242 - val_accuracy: 0.6733 - val_loss: 0.7870\n",
      "Epoch 5/20\n",
      "\u001b[1m1098/1098\u001b[0m \u001b[32m━━━━━━━━━━━━━━━━━━━━\u001b[0m\u001b[37m\u001b[0m \u001b[1m0s\u001b[0m 15ms/step - accuracy: 0.6668 - loss: 0.8001\n",
      "Epoch 5: val_loss improved from 0.78700 to 0.77307, saving model to best_model.keras\n",
      "\u001b[1m1098/1098\u001b[0m \u001b[32m━━━━━━━━━━━━━━━━━━━━\u001b[0m\u001b[37m\u001b[0m \u001b[1m17s\u001b[0m 15ms/step - accuracy: 0.6668 - loss: 0.8001 - val_accuracy: 0.6760 - val_loss: 0.7731\n",
      "Epoch 6/20\n",
      "\u001b[1m1098/1098\u001b[0m \u001b[32m━━━━━━━━━━━━━━━━━━━━\u001b[0m\u001b[37m\u001b[0m \u001b[1m0s\u001b[0m 14ms/step - accuracy: 0.6763 - loss: 0.7746\n",
      "Epoch 6: val_loss improved from 0.77307 to 0.76298, saving model to best_model.keras\n",
      "\u001b[1m1098/1098\u001b[0m \u001b[32m━━━━━━━━━━━━━━━━━━━━\u001b[0m\u001b[37m\u001b[0m \u001b[1m17s\u001b[0m 15ms/step - accuracy: 0.6763 - loss: 0.7746 - val_accuracy: 0.6829 - val_loss: 0.7630\n",
      "Epoch 7/20\n",
      "\u001b[1m1095/1098\u001b[0m \u001b[32m━━━━━━━━━━━━━━━━━━━\u001b[0m\u001b[37m━\u001b[0m \u001b[1m0s\u001b[0m 15ms/step - accuracy: 0.6834 - loss: 0.7558\n",
      "Epoch 7: val_loss improved from 0.76298 to 0.75800, saving model to best_model.keras\n",
      "\u001b[1m1098/1098\u001b[0m \u001b[32m━━━━━━━━━━━━━━━━━━━━\u001b[0m\u001b[37m\u001b[0m \u001b[1m17s\u001b[0m 15ms/step - accuracy: 0.6834 - loss: 0.7558 - val_accuracy: 0.6792 - val_loss: 0.7580\n",
      "Epoch 8/20\n",
      "\u001b[1m1097/1098\u001b[0m \u001b[32m━━━━━━━━━━━━━━━━━━━\u001b[0m\u001b[37m━\u001b[0m \u001b[1m0s\u001b[0m 14ms/step - accuracy: 0.6919 - loss: 0.7388\n",
      "Epoch 8: val_loss did not improve from 0.75800\n",
      "\u001b[1m1098/1098\u001b[0m \u001b[32m━━━━━━━━━━━━━━━━━━━━\u001b[0m\u001b[37m\u001b[0m \u001b[1m20s\u001b[0m 15ms/step - accuracy: 0.6919 - loss: 0.7388 - val_accuracy: 0.6880 - val_loss: 0.7624\n",
      "Epoch 9/20\n",
      "\u001b[1m1095/1098\u001b[0m \u001b[32m━━━━━━━━━━━━━━━━━━━\u001b[0m\u001b[37m━\u001b[0m \u001b[1m0s\u001b[0m 15ms/step - accuracy: 0.6994 - loss: 0.7178\n",
      "Epoch 9: val_loss improved from 0.75800 to 0.75280, saving model to best_model.keras\n",
      "\u001b[1m1098/1098\u001b[0m \u001b[32m━━━━━━━━━━━━━━━━━━━━\u001b[0m\u001b[37m\u001b[0m \u001b[1m17s\u001b[0m 15ms/step - accuracy: 0.6994 - loss: 0.7178 - val_accuracy: 0.6889 - val_loss: 0.7528\n",
      "Epoch 10/20\n",
      "\u001b[1m1095/1098\u001b[0m \u001b[32m━━━━━━━━━━━━━━━━━━━\u001b[0m\u001b[37m━\u001b[0m \u001b[1m0s\u001b[0m 15ms/step - accuracy: 0.7019 - loss: 0.7104\n",
      "Epoch 10: val_loss improved from 0.75280 to 0.74355, saving model to best_model.keras\n",
      "\u001b[1m1098/1098\u001b[0m \u001b[32m━━━━━━━━━━━━━━━━━━━━\u001b[0m\u001b[37m\u001b[0m \u001b[1m17s\u001b[0m 15ms/step - accuracy: 0.7019 - loss: 0.7104 - val_accuracy: 0.6918 - val_loss: 0.7435\n",
      "Epoch 11/20\n",
      "\u001b[1m1095/1098\u001b[0m \u001b[32m━━━━━━━━━━━━━━━━━━━\u001b[0m\u001b[37m━\u001b[0m \u001b[1m0s\u001b[0m 15ms/step - accuracy: 0.7081 - loss: 0.6968\n",
      "Epoch 11: val_loss did not improve from 0.74355\n",
      "\u001b[1m1098/1098\u001b[0m \u001b[32m━━━━━━━━━━━━━━━━━━━━\u001b[0m\u001b[37m\u001b[0m \u001b[1m17s\u001b[0m 15ms/step - accuracy: 0.7081 - loss: 0.6969 - val_accuracy: 0.6844 - val_loss: 0.7598\n",
      "Epoch 12/20\n",
      "\u001b[1m1095/1098\u001b[0m \u001b[32m━━━━━━━━━━━━━━━━━━━\u001b[0m\u001b[37m━\u001b[0m \u001b[1m0s\u001b[0m 14ms/step - accuracy: 0.7091 - loss: 0.6941\n",
      "Epoch 12: val_loss did not improve from 0.74355\n",
      "\u001b[1m1098/1098\u001b[0m \u001b[32m━━━━━━━━━━━━━━━━━━━━\u001b[0m\u001b[37m\u001b[0m \u001b[1m17s\u001b[0m 15ms/step - accuracy: 0.7091 - loss: 0.6941 - val_accuracy: 0.6817 - val_loss: 0.7707\n",
      "----------------------- 2ND SAMPLE --------------------------\n",
      "Epoch 1/20\n",
      "\u001b[1m1097/1098\u001b[0m \u001b[32m━━━━━━━━━━━━━━━━━━━\u001b[0m\u001b[37m━\u001b[0m \u001b[1m0s\u001b[0m 15ms/step - accuracy: 0.5690 - loss: 1.0490\n",
      "Epoch 1: val_loss improved from inf to 0.87209, saving model to best_model.keras\n",
      "\u001b[1m1098/1098\u001b[0m \u001b[32m━━━━━━━━━━━━━━━━━━━━\u001b[0m\u001b[37m\u001b[0m \u001b[1m21s\u001b[0m 17ms/step - accuracy: 0.5691 - loss: 1.0488 - val_accuracy: 0.6358 - val_loss: 0.8721\n",
      "Epoch 2/20\n",
      "\u001b[1m1098/1098\u001b[0m \u001b[32m━━━━━━━━━━━━━━━━━━━━\u001b[0m\u001b[37m\u001b[0m \u001b[1m0s\u001b[0m 15ms/step - accuracy: 0.6216 - loss: 0.9018\n",
      "Epoch 2: val_loss did not improve from 0.87209\n",
      "\u001b[1m1098/1098\u001b[0m \u001b[32m━━━━━━━━━━━━━━━━━━━━\u001b[0m\u001b[37m\u001b[0m \u001b[1m17s\u001b[0m 16ms/step - accuracy: 0.6216 - loss: 0.9018 - val_accuracy: 0.6356 - val_loss: 0.8830\n",
      "Epoch 3/20\n",
      "\u001b[1m1095/1098\u001b[0m \u001b[32m━━━━━━━━━━━━━━━━━━━\u001b[0m\u001b[37m━\u001b[0m \u001b[1m0s\u001b[0m 15ms/step - accuracy: 0.6415 - loss: 0.8620\n",
      "Epoch 3: val_loss improved from 0.87209 to 0.83251, saving model to best_model.keras\n",
      "\u001b[1m1098/1098\u001b[0m \u001b[32m━━━━━━━━━━━━━━━━━━━━\u001b[0m\u001b[37m\u001b[0m \u001b[1m17s\u001b[0m 16ms/step - accuracy: 0.6415 - loss: 0.8620 - val_accuracy: 0.6619 - val_loss: 0.8325\n",
      "Epoch 4/20\n",
      "\u001b[1m1098/1098\u001b[0m \u001b[32m━━━━━━━━━━━━━━━━━━━━\u001b[0m\u001b[37m\u001b[0m \u001b[1m0s\u001b[0m 15ms/step - accuracy: 0.6537 - loss: 0.8346\n",
      "Epoch 4: val_loss improved from 0.83251 to 0.78612, saving model to best_model.keras\n",
      "\u001b[1m1098/1098\u001b[0m \u001b[32m━━━━━━━━━━━━━━━━━━━━\u001b[0m\u001b[37m\u001b[0m \u001b[1m17s\u001b[0m 16ms/step - accuracy: 0.6537 - loss: 0.8346 - val_accuracy: 0.6740 - val_loss: 0.7861\n",
      "Epoch 5/20\n",
      "\u001b[1m1095/1098\u001b[0m \u001b[32m━━━━━━━━━━━━━━━━━━━\u001b[0m\u001b[37m━\u001b[0m \u001b[1m0s\u001b[0m 15ms/step - accuracy: 0.6631 - loss: 0.8064\n",
      "Epoch 5: val_loss improved from 0.78612 to 0.77989, saving model to best_model.keras\n",
      "\u001b[1m1098/1098\u001b[0m \u001b[32m━━━━━━━━━━━━━━━━━━━━\u001b[0m\u001b[37m\u001b[0m \u001b[1m17s\u001b[0m 16ms/step - accuracy: 0.6631 - loss: 0.8064 - val_accuracy: 0.6796 - val_loss: 0.7799\n",
      "Epoch 6/20\n",
      "\u001b[1m1095/1098\u001b[0m \u001b[32m━━━━━━━━━━━━━━━━━━━\u001b[0m\u001b[37m━\u001b[0m \u001b[1m0s\u001b[0m 15ms/step - accuracy: 0.6769 - loss: 0.7742\n",
      "Epoch 6: val_loss did not improve from 0.77989\n",
      "\u001b[1m1098/1098\u001b[0m \u001b[32m━━━━━━━━━━━━━━━━━━━━\u001b[0m\u001b[37m\u001b[0m \u001b[1m17s\u001b[0m 16ms/step - accuracy: 0.6769 - loss: 0.7742 - val_accuracy: 0.6836 - val_loss: 0.7826\n",
      "Epoch 7/20\n",
      "\u001b[1m1098/1098\u001b[0m \u001b[32m━━━━━━━━━━━━━━━━━━━━\u001b[0m\u001b[37m\u001b[0m \u001b[1m0s\u001b[0m 15ms/step - accuracy: 0.6856 - loss: 0.7551\n",
      "Epoch 7: val_loss improved from 0.77989 to 0.75644, saving model to best_model.keras\n",
      "\u001b[1m1098/1098\u001b[0m \u001b[32m━━━━━━━━━━━━━━━━━━━━\u001b[0m\u001b[37m\u001b[0m \u001b[1m17s\u001b[0m 16ms/step - accuracy: 0.6856 - loss: 0.7551 - val_accuracy: 0.6925 - val_loss: 0.7564\n",
      "Epoch 8/20\n",
      "\u001b[1m1096/1098\u001b[0m \u001b[32m━━━━━━━━━━━━━━━━━━━\u001b[0m\u001b[37m━\u001b[0m \u001b[1m0s\u001b[0m 15ms/step - accuracy: 0.6933 - loss: 0.7382\n",
      "Epoch 8: val_loss improved from 0.75644 to 0.74118, saving model to best_model.keras\n",
      "\u001b[1m1098/1098\u001b[0m \u001b[32m━━━━━━━━━━━━━━━━━━━━\u001b[0m\u001b[37m\u001b[0m \u001b[1m17s\u001b[0m 16ms/step - accuracy: 0.6933 - loss: 0.7382 - val_accuracy: 0.6908 - val_loss: 0.7412\n",
      "Epoch 9/20\n",
      "\u001b[1m1097/1098\u001b[0m \u001b[32m━━━━━━━━━━━━━━━━━━━\u001b[0m\u001b[37m━\u001b[0m \u001b[1m0s\u001b[0m 15ms/step - accuracy: 0.6983 - loss: 0.7250\n",
      "Epoch 9: val_loss did not improve from 0.74118\n",
      "\u001b[1m1098/1098\u001b[0m \u001b[32m━━━━━━━━━━━━━━━━━━━━\u001b[0m\u001b[37m\u001b[0m \u001b[1m17s\u001b[0m 16ms/step - accuracy: 0.6983 - loss: 0.7250 - val_accuracy: 0.6803 - val_loss: 0.7649\n",
      "Epoch 10/20\n",
      "\u001b[1m1096/1098\u001b[0m \u001b[32m━━━━━━━━━━━━━━━━━━━\u001b[0m\u001b[37m━\u001b[0m \u001b[1m0s\u001b[0m 15ms/step - accuracy: 0.7020 - loss: 0.7151\n",
      "Epoch 10: val_loss did not improve from 0.74118\n",
      "\u001b[1m1098/1098\u001b[0m \u001b[32m━━━━━━━━━━━━━━━━━━━━\u001b[0m\u001b[37m\u001b[0m \u001b[1m17s\u001b[0m 16ms/step - accuracy: 0.7020 - loss: 0.7151 - val_accuracy: 0.6876 - val_loss: 0.7496\n",
      "----------------------- 3RD SAMPLE --------------------------\n",
      "Epoch 1/20\n",
      "\u001b[1m1095/1098\u001b[0m \u001b[32m━━━━━━━━━━━━━━━━━━━\u001b[0m\u001b[37m━\u001b[0m \u001b[1m0s\u001b[0m 15ms/step - accuracy: 0.5707 - loss: 1.0454\n",
      "Epoch 1: val_loss improved from inf to 0.85783, saving model to best_model.keras\n",
      "\u001b[1m1098/1098\u001b[0m \u001b[32m━━━━━━━━━━━━━━━━━━━━\u001b[0m\u001b[37m\u001b[0m \u001b[1m21s\u001b[0m 16ms/step - accuracy: 0.5708 - loss: 1.0451 - val_accuracy: 0.6458 - val_loss: 0.8578\n",
      "Epoch 2/20\n",
      "\u001b[1m1096/1098\u001b[0m \u001b[32m━━━━━━━━━━━━━━━━━━━\u001b[0m\u001b[37m━\u001b[0m \u001b[1m0s\u001b[0m 15ms/step - accuracy: 0.6267 - loss: 0.8969\n",
      "Epoch 2: val_loss improved from 0.85783 to 0.82940, saving model to best_model.keras\n",
      "\u001b[1m1098/1098\u001b[0m \u001b[32m━━━━━━━━━━━━━━━━━━━━\u001b[0m\u001b[37m\u001b[0m \u001b[1m17s\u001b[0m 16ms/step - accuracy: 0.6267 - loss: 0.8969 - val_accuracy: 0.6486 - val_loss: 0.8294\n",
      "Epoch 3/20\n",
      "\u001b[1m1096/1098\u001b[0m \u001b[32m━━━━━━━━━━━━━━━━━━━\u001b[0m\u001b[37m━\u001b[0m \u001b[1m0s\u001b[0m 15ms/step - accuracy: 0.6395 - loss: 0.8632\n",
      "Epoch 3: val_loss improved from 0.82940 to 0.81310, saving model to best_model.keras\n",
      "\u001b[1m1098/1098\u001b[0m \u001b[32m━━━━━━━━━━━━━━━━━━━━\u001b[0m\u001b[37m\u001b[0m \u001b[1m17s\u001b[0m 16ms/step - accuracy: 0.6395 - loss: 0.8632 - val_accuracy: 0.6562 - val_loss: 0.8131\n",
      "Epoch 4/20\n",
      "\u001b[1m1098/1098\u001b[0m \u001b[32m━━━━━━━━━━━━━━━━━━━━\u001b[0m\u001b[37m\u001b[0m \u001b[1m0s\u001b[0m 15ms/step - accuracy: 0.6562 - loss: 0.8296\n",
      "Epoch 4: val_loss improved from 0.81310 to 0.78586, saving model to best_model.keras\n",
      "\u001b[1m1098/1098\u001b[0m \u001b[32m━━━━━━━━━━━━━━━━━━━━\u001b[0m\u001b[37m\u001b[0m \u001b[1m17s\u001b[0m 16ms/step - accuracy: 0.6562 - loss: 0.8296 - val_accuracy: 0.6728 - val_loss: 0.7859\n",
      "Epoch 5/20\n",
      "\u001b[1m1098/1098\u001b[0m \u001b[32m━━━━━━━━━━━━━━━━━━━━\u001b[0m\u001b[37m\u001b[0m \u001b[1m0s\u001b[0m 15ms/step - accuracy: 0.6649 - loss: 0.7981\n",
      "Epoch 5: val_loss improved from 0.78586 to 0.76834, saving model to best_model.keras\n",
      "\u001b[1m1098/1098\u001b[0m \u001b[32m━━━━━━━━━━━━━━━━━━━━\u001b[0m\u001b[37m\u001b[0m \u001b[1m17s\u001b[0m 16ms/step - accuracy: 0.6649 - loss: 0.7981 - val_accuracy: 0.6787 - val_loss: 0.7683\n",
      "Epoch 6/20\n",
      "\u001b[1m1095/1098\u001b[0m \u001b[32m━━━━━━━━━━━━━━━━━━━\u001b[0m\u001b[37m━\u001b[0m \u001b[1m0s\u001b[0m 15ms/step - accuracy: 0.6769 - loss: 0.7756\n",
      "Epoch 6: val_loss did not improve from 0.76834\n",
      "\u001b[1m1098/1098\u001b[0m \u001b[32m━━━━━━━━━━━━━━━━━━━━\u001b[0m\u001b[37m\u001b[0m \u001b[1m17s\u001b[0m 16ms/step - accuracy: 0.6770 - loss: 0.7755 - val_accuracy: 0.6737 - val_loss: 0.7979\n",
      "Epoch 7/20\n",
      "\u001b[1m1096/1098\u001b[0m \u001b[32m━━━━━━━━━━━━━━━━━━━\u001b[0m\u001b[37m━\u001b[0m \u001b[1m0s\u001b[0m 15ms/step - accuracy: 0.6832 - loss: 0.7570\n",
      "Epoch 7: val_loss did not improve from 0.76834\n",
      "\u001b[1m1098/1098\u001b[0m \u001b[32m━━━━━━━━━━━━━━━━━━━━\u001b[0m\u001b[37m\u001b[0m \u001b[1m17s\u001b[0m 16ms/step - accuracy: 0.6832 - loss: 0.7570 - val_accuracy: 0.6747 - val_loss: 0.7965\n",
      "----------------------- 4TH SAMPLE --------------------------\n",
      "Epoch 1/20\n",
      "\u001b[1m1095/1098\u001b[0m \u001b[32m━━━━━━━━━━━━━━━━━━━\u001b[0m\u001b[37m━\u001b[0m \u001b[1m0s\u001b[0m 15ms/step - accuracy: 0.5773 - loss: 1.0387\n",
      "Epoch 1: val_loss improved from inf to 0.87201, saving model to best_model.keras\n",
      "\u001b[1m1098/1098\u001b[0m \u001b[32m━━━━━━━━━━━━━━━━━━━━\u001b[0m\u001b[37m\u001b[0m \u001b[1m21s\u001b[0m 16ms/step - accuracy: 0.5774 - loss: 1.0385 - val_accuracy: 0.6319 - val_loss: 0.8720\n",
      "Epoch 2/20\n",
      "\u001b[1m1095/1098\u001b[0m \u001b[32m━━━━━━━━━━━━━━━━━━━\u001b[0m\u001b[37m━\u001b[0m \u001b[1m0s\u001b[0m 15ms/step - accuracy: 0.6230 - loss: 0.9058\n",
      "Epoch 2: val_loss improved from 0.87201 to 0.84821, saving model to best_model.keras\n",
      "\u001b[1m1098/1098\u001b[0m \u001b[32m━━━━━━━━━━━━━━━━━━━━\u001b[0m\u001b[37m\u001b[0m \u001b[1m17s\u001b[0m 16ms/step - accuracy: 0.6230 - loss: 0.9057 - val_accuracy: 0.6564 - val_loss: 0.8482\n",
      "Epoch 3/20\n",
      "\u001b[1m1097/1098\u001b[0m \u001b[32m━━━━━━━━━━━━━━━━━━━\u001b[0m\u001b[37m━\u001b[0m \u001b[1m0s\u001b[0m 15ms/step - accuracy: 0.6382 - loss: 0.8665\n",
      "Epoch 3: val_loss improved from 0.84821 to 0.80367, saving model to best_model.keras\n",
      "\u001b[1m1098/1098\u001b[0m \u001b[32m━━━━━━━━━━━━━━━━━━━━\u001b[0m\u001b[37m\u001b[0m \u001b[1m17s\u001b[0m 16ms/step - accuracy: 0.6382 - loss: 0.8665 - val_accuracy: 0.6620 - val_loss: 0.8037\n",
      "Epoch 4/20\n",
      "\u001b[1m1098/1098\u001b[0m \u001b[32m━━━━━━━━━━━━━━━━━━━━\u001b[0m\u001b[37m\u001b[0m \u001b[1m0s\u001b[0m 15ms/step - accuracy: 0.6561 - loss: 0.8271\n",
      "Epoch 4: val_loss improved from 0.80367 to 0.78458, saving model to best_model.keras\n",
      "\u001b[1m1098/1098\u001b[0m \u001b[32m━━━━━━━━━━━━━━━━━━━━\u001b[0m\u001b[37m\u001b[0m \u001b[1m17s\u001b[0m 16ms/step - accuracy: 0.6561 - loss: 0.8271 - val_accuracy: 0.6754 - val_loss: 0.7846\n",
      "Epoch 5/20\n",
      "\u001b[1m1098/1098\u001b[0m \u001b[32m━━━━━━━━━━━━━━━━━━━━\u001b[0m\u001b[37m\u001b[0m \u001b[1m0s\u001b[0m 15ms/step - accuracy: 0.6650 - loss: 0.8025\n",
      "Epoch 5: val_loss improved from 0.78458 to 0.77352, saving model to best_model.keras\n",
      "\u001b[1m1098/1098\u001b[0m \u001b[32m━━━━━━━━━━━━━━━━━━━━\u001b[0m\u001b[37m\u001b[0m \u001b[1m17s\u001b[0m 16ms/step - accuracy: 0.6650 - loss: 0.8025 - val_accuracy: 0.6728 - val_loss: 0.7735\n",
      "Epoch 6/20\n",
      "\u001b[1m1095/1098\u001b[0m \u001b[32m━━━━━━━━━━━━━━━━━━━\u001b[0m\u001b[37m━\u001b[0m \u001b[1m0s\u001b[0m 15ms/step - accuracy: 0.6782 - loss: 0.7723\n",
      "Epoch 6: val_loss improved from 0.77352 to 0.77073, saving model to best_model.keras\n",
      "\u001b[1m1098/1098\u001b[0m \u001b[32m━━━━━━━━━━━━━━━━━━━━\u001b[0m\u001b[37m\u001b[0m \u001b[1m17s\u001b[0m 16ms/step - accuracy: 0.6781 - loss: 0.7723 - val_accuracy: 0.6783 - val_loss: 0.7707\n",
      "Epoch 7/20\n",
      "\u001b[1m1096/1098\u001b[0m \u001b[32m━━━━━━━━━━━━━━━━━━━\u001b[0m\u001b[37m━\u001b[0m \u001b[1m0s\u001b[0m 15ms/step - accuracy: 0.6830 - loss: 0.7569\n",
      "Epoch 7: val_loss improved from 0.77073 to 0.76398, saving model to best_model.keras\n",
      "\u001b[1m1098/1098\u001b[0m \u001b[32m━━━━━━━━━━━━━━━━━━━━\u001b[0m\u001b[37m\u001b[0m \u001b[1m17s\u001b[0m 16ms/step - accuracy: 0.6830 - loss: 0.7569 - val_accuracy: 0.6754 - val_loss: 0.7640\n",
      "Epoch 8/20\n",
      "\u001b[1m1095/1098\u001b[0m \u001b[32m━━━━━━━━━━━━━━━━━━━\u001b[0m\u001b[37m━\u001b[0m \u001b[1m0s\u001b[0m 15ms/step - accuracy: 0.6932 - loss: 0.7385\n",
      "Epoch 8: val_loss improved from 0.76398 to 0.74894, saving model to best_model.keras\n",
      "\u001b[1m1098/1098\u001b[0m \u001b[32m━━━━━━━━━━━━━━━━━━━━\u001b[0m\u001b[37m\u001b[0m \u001b[1m17s\u001b[0m 16ms/step - accuracy: 0.6932 - loss: 0.7385 - val_accuracy: 0.6876 - val_loss: 0.7489\n",
      "Epoch 9/20\n",
      "\u001b[1m1096/1098\u001b[0m \u001b[32m━━━━━━━━━━━━━━━━━━━\u001b[0m\u001b[37m━\u001b[0m \u001b[1m0s\u001b[0m 15ms/step - accuracy: 0.7001 - loss: 0.7201\n",
      "Epoch 9: val_loss improved from 0.74894 to 0.74571, saving model to best_model.keras\n",
      "\u001b[1m1098/1098\u001b[0m \u001b[32m━━━━━━━━━━━━━━━━━━━━\u001b[0m\u001b[37m\u001b[0m \u001b[1m17s\u001b[0m 16ms/step - accuracy: 0.7000 - loss: 0.7201 - val_accuracy: 0.6866 - val_loss: 0.7457\n",
      "Epoch 10/20\n",
      "\u001b[1m1095/1098\u001b[0m \u001b[32m━━━━━━━━━━━━━━━━━━━\u001b[0m\u001b[37m━\u001b[0m \u001b[1m0s\u001b[0m 15ms/step - accuracy: 0.7021 - loss: 0.7155\n",
      "Epoch 10: val_loss improved from 0.74571 to 0.74052, saving model to best_model.keras\n",
      "\u001b[1m1098/1098\u001b[0m \u001b[32m━━━━━━━━━━━━━━━━━━━━\u001b[0m\u001b[37m\u001b[0m \u001b[1m17s\u001b[0m 16ms/step - accuracy: 0.7021 - loss: 0.7155 - val_accuracy: 0.6924 - val_loss: 0.7405\n",
      "Epoch 11/20\n",
      "\u001b[1m1095/1098\u001b[0m \u001b[32m━━━━━━━━━━━━━━━━━━━\u001b[0m\u001b[37m━\u001b[0m \u001b[1m0s\u001b[0m 15ms/step - accuracy: 0.7079 - loss: 0.6994\n",
      "Epoch 11: val_loss did not improve from 0.74052\n",
      "\u001b[1m1098/1098\u001b[0m \u001b[32m━━━━━━━━━━━━━━━━━━━━\u001b[0m\u001b[37m\u001b[0m \u001b[1m17s\u001b[0m 16ms/step - accuracy: 0.7079 - loss: 0.6994 - val_accuracy: 0.6780 - val_loss: 0.7668\n",
      "Epoch 12/20\n",
      "\u001b[1m1097/1098\u001b[0m \u001b[32m━━━━━━━━━━━━━━━━━━━\u001b[0m\u001b[37m━\u001b[0m \u001b[1m0s\u001b[0m 15ms/step - accuracy: 0.7134 - loss: 0.6885\n",
      "Epoch 12: val_loss did not improve from 0.74052\n",
      "\u001b[1m1098/1098\u001b[0m \u001b[32m━━━━━━━━━━━━━━━━━━━━\u001b[0m\u001b[37m\u001b[0m \u001b[1m17s\u001b[0m 16ms/step - accuracy: 0.7134 - loss: 0.6885 - val_accuracy: 0.6939 - val_loss: 0.7498\n",
      "----------------------- 5TH SAMPLE --------------------------\n",
      "Epoch 1/20\n",
      "\u001b[1m1098/1098\u001b[0m \u001b[32m━━━━━━━━━━━━━━━━━━━━\u001b[0m\u001b[37m\u001b[0m \u001b[1m0s\u001b[0m 15ms/step - accuracy: 0.5762 - loss: 1.0376\n",
      "Epoch 1: val_loss improved from inf to 0.92760, saving model to best_model.keras\n",
      "\u001b[1m1098/1098\u001b[0m \u001b[32m━━━━━━━━━━━━━━━━━━━━\u001b[0m\u001b[37m\u001b[0m \u001b[1m21s\u001b[0m 16ms/step - accuracy: 0.5762 - loss: 1.0376 - val_accuracy: 0.6111 - val_loss: 0.9276\n",
      "Epoch 2/20\n",
      "\u001b[1m1097/1098\u001b[0m \u001b[32m━━━━━━━━━━━━━━━━━━━\u001b[0m\u001b[37m━\u001b[0m \u001b[1m0s\u001b[0m 15ms/step - accuracy: 0.6243 - loss: 0.9036\n",
      "Epoch 2: val_loss improved from 0.92760 to 0.84456, saving model to best_model.keras\n",
      "\u001b[1m1098/1098\u001b[0m \u001b[32m━━━━━━━━━━━━━━━━━━━━\u001b[0m\u001b[37m\u001b[0m \u001b[1m17s\u001b[0m 16ms/step - accuracy: 0.6243 - loss: 0.9036 - val_accuracy: 0.6461 - val_loss: 0.8446\n",
      "Epoch 3/20\n",
      "\u001b[1m1095/1098\u001b[0m \u001b[32m━━━━━━━━━━━━━━━━━━━\u001b[0m\u001b[37m━\u001b[0m \u001b[1m0s\u001b[0m 15ms/step - accuracy: 0.6409 - loss: 0.8614\n",
      "Epoch 3: val_loss improved from 0.84456 to 0.80760, saving model to best_model.keras\n",
      "\u001b[1m1098/1098\u001b[0m \u001b[32m━━━━━━━━━━━━━━━━━━━━\u001b[0m\u001b[37m\u001b[0m \u001b[1m17s\u001b[0m 16ms/step - accuracy: 0.6409 - loss: 0.8613 - val_accuracy: 0.6637 - val_loss: 0.8076\n",
      "Epoch 4/20\n",
      "\u001b[1m1096/1098\u001b[0m \u001b[32m━━━━━━━━━━━━━━━━━━━\u001b[0m\u001b[37m━\u001b[0m \u001b[1m0s\u001b[0m 15ms/step - accuracy: 0.6541 - loss: 0.8293\n",
      "Epoch 4: val_loss did not improve from 0.80760\n",
      "\u001b[1m1098/1098\u001b[0m \u001b[32m━━━━━━━━━━━━━━━━━━━━\u001b[0m\u001b[37m\u001b[0m \u001b[1m17s\u001b[0m 16ms/step - accuracy: 0.6541 - loss: 0.8293 - val_accuracy: 0.6567 - val_loss: 0.8281\n",
      "Epoch 5/20\n",
      "\u001b[1m1095/1098\u001b[0m \u001b[32m━━━━━━━━━━━━━━━━━━━\u001b[0m\u001b[37m━\u001b[0m \u001b[1m0s\u001b[0m 15ms/step - accuracy: 0.6651 - loss: 0.8023\n",
      "Epoch 5: val_loss improved from 0.80760 to 0.77962, saving model to best_model.keras\n",
      "\u001b[1m1098/1098\u001b[0m \u001b[32m━━━━━━━━━━━━━━━━━━━━\u001b[0m\u001b[37m\u001b[0m \u001b[1m17s\u001b[0m 16ms/step - accuracy: 0.6651 - loss: 0.8023 - val_accuracy: 0.6680 - val_loss: 0.7796\n",
      "Epoch 6/20\n",
      "\u001b[1m1098/1098\u001b[0m \u001b[32m━━━━━━━━━━━━━━━━━━━━\u001b[0m\u001b[37m\u001b[0m \u001b[1m0s\u001b[0m 15ms/step - accuracy: 0.6764 - loss: 0.7737\n",
      "Epoch 6: val_loss did not improve from 0.77962\n",
      "\u001b[1m1098/1098\u001b[0m \u001b[32m━━━━━━━━━━━━━━━━━━━━\u001b[0m\u001b[37m\u001b[0m \u001b[1m17s\u001b[0m 16ms/step - accuracy: 0.6764 - loss: 0.7737 - val_accuracy: 0.6782 - val_loss: 0.7897\n",
      "Epoch 7/20\n",
      "\u001b[1m1097/1098\u001b[0m \u001b[32m━━━━━━━━━━━━━━━━━━━\u001b[0m\u001b[37m━\u001b[0m \u001b[1m0s\u001b[0m 15ms/step - accuracy: 0.6859 - loss: 0.7528\n",
      "Epoch 7: val_loss improved from 0.77962 to 0.75054, saving model to best_model.keras\n",
      "\u001b[1m1098/1098\u001b[0m \u001b[32m━━━━━━━━━━━━━━━━━━━━\u001b[0m\u001b[37m\u001b[0m \u001b[1m17s\u001b[0m 16ms/step - accuracy: 0.6859 - loss: 0.7528 - val_accuracy: 0.6890 - val_loss: 0.7505\n",
      "Epoch 8/20\n",
      "\u001b[1m1097/1098\u001b[0m \u001b[32m━━━━━━━━━━━━━━━━━━━\u001b[0m\u001b[37m━\u001b[0m \u001b[1m0s\u001b[0m 15ms/step - accuracy: 0.6903 - loss: 0.7421\n",
      "Epoch 8: val_loss improved from 0.75054 to 0.75013, saving model to best_model.keras\n",
      "\u001b[1m1098/1098\u001b[0m \u001b[32m━━━━━━━━━━━━━━━━━━━━\u001b[0m\u001b[37m\u001b[0m \u001b[1m17s\u001b[0m 16ms/step - accuracy: 0.6903 - loss: 0.7421 - val_accuracy: 0.6909 - val_loss: 0.7501\n",
      "Epoch 9/20\n",
      "\u001b[1m1095/1098\u001b[0m \u001b[32m━━━━━━━━━━━━━━━━━━━\u001b[0m\u001b[37m━\u001b[0m \u001b[1m0s\u001b[0m 15ms/step - accuracy: 0.7005 - loss: 0.7217\n",
      "Epoch 9: val_loss improved from 0.75013 to 0.73978, saving model to best_model.keras\n",
      "\u001b[1m1098/1098\u001b[0m \u001b[32m━━━━━━━━━━━━━━━━━━━━\u001b[0m\u001b[37m\u001b[0m \u001b[1m17s\u001b[0m 16ms/step - accuracy: 0.7005 - loss: 0.7217 - val_accuracy: 0.6940 - val_loss: 0.7398\n",
      "Epoch 10/20\n",
      "\u001b[1m1095/1098\u001b[0m \u001b[32m━━━━━━━━━━━━━━━━━━━\u001b[0m\u001b[37m━\u001b[0m \u001b[1m0s\u001b[0m 15ms/step - accuracy: 0.7035 - loss: 0.7097\n",
      "Epoch 10: val_loss did not improve from 0.73978\n",
      "\u001b[1m1098/1098\u001b[0m \u001b[32m━━━━━━━━━━━━━━━━━━━━\u001b[0m\u001b[37m\u001b[0m \u001b[1m17s\u001b[0m 15ms/step - accuracy: 0.7035 - loss: 0.7097 - val_accuracy: 0.6899 - val_loss: 0.7439\n",
      "Epoch 11/20\n",
      "\u001b[1m1097/1098\u001b[0m \u001b[32m━━━━━━━━━━━━━━━━━━━\u001b[0m\u001b[37m━\u001b[0m \u001b[1m0s\u001b[0m 15ms/step - accuracy: 0.7082 - loss: 0.7024\n",
      "Epoch 11: val_loss did not improve from 0.73978\n",
      "\u001b[1m1098/1098\u001b[0m \u001b[32m━━━━━━━━━━━━━━━━━━━━\u001b[0m\u001b[37m\u001b[0m \u001b[1m17s\u001b[0m 16ms/step - accuracy: 0.7082 - loss: 0.7024 - val_accuracy: 0.6915 - val_loss: 0.7446\n"
     ]
    }
   ],
   "source": [
    "pretrained1 = conv_model_pre(lr=1e-3, lr_d=1e-5, units=128, spatial_dr=0.3, kernel=3, dense_units=128, dr=0.2,conv_size=32)\n",
    "print('----------------------- 2ND SAMPLE --------------------------')\n",
    "pretrained2 = conv_model_pre(lr=1e-3, lr_d=1e-5, units=128, spatial_dr=0.3, kernel=3, dense_units=128, dr=0.2,conv_size=32)\n",
    "print('----------------------- 3RD SAMPLE --------------------------')\n",
    "pretrained3 = conv_model_pre(lr=1e-3, lr_d=1e-5, units=128, spatial_dr=0.3, kernel=3, dense_units=128, dr=0.2,conv_size=32)\n",
    "print('----------------------- 4TH SAMPLE --------------------------')\n",
    "pretrained4 = conv_model_pre(lr=1e-3, lr_d=1e-5, units=128, spatial_dr=0.3, kernel=3, dense_units=128, dr=0.2,conv_size=32)\n",
    "print('----------------------- 5TH SAMPLE --------------------------')\n",
    "pretrained5 = conv_model_pre(lr=1e-3, lr_d=1e-5, units=128, spatial_dr=0.3, kernel=3, dense_units=128, dr=0.2,conv_size=32)"
   ]
  },
  {
   "cell_type": "code",
   "execution_count": 24,
   "metadata": {
    "execution": {
     "iopub.execute_input": "2024-05-06T04:00:37.764982Z",
     "iopub.status.busy": "2024-05-06T04:00:37.764504Z",
     "iopub.status.idle": "2024-05-06T04:00:46.107054Z",
     "shell.execute_reply": "2024-05-06T04:00:46.106140Z",
     "shell.execute_reply.started": "2024-05-06T04:00:37.764948Z"
    }
   },
   "outputs": [
    {
     "name": "stdout",
     "output_type": "stream",
     "text": [
      "\u001b[1m65/65\u001b[0m \u001b[32m━━━━━━━━━━━━━━━━━━━━\u001b[0m\u001b[37m\u001b[0m \u001b[1m2s\u001b[0m 21ms/step\n",
      "\u001b[1m65/65\u001b[0m \u001b[32m━━━━━━━━━━━━━━━━━━━━\u001b[0m\u001b[37m\u001b[0m \u001b[1m2s\u001b[0m 21ms/step\n",
      "\u001b[1m65/65\u001b[0m \u001b[32m━━━━━━━━━━━━━━━━━━━━\u001b[0m\u001b[37m\u001b[0m \u001b[1m2s\u001b[0m 21ms/step\n",
      "\u001b[1m65/65\u001b[0m \u001b[32m━━━━━━━━━━━━━━━━━━━━\u001b[0m\u001b[37m\u001b[0m \u001b[1m2s\u001b[0m 21ms/step\n",
      "\u001b[1m65/65\u001b[0m \u001b[32m━━━━━━━━━━━━━━━━━━━━\u001b[0m\u001b[37m\u001b[0m \u001b[1m2s\u001b[0m 21ms/step\n",
      "Submission saved!\n"
     ]
    }
   ],
   "source": [
    "pred1 = pretrained1.predict(X_sub_pad, batch_size = 1024, verbose = 1)\n",
    "pred = pred1\n",
    "pred2 = pretrained2.predict(X_sub_pad, batch_size = 1024, verbose = 1)\n",
    "pred += pred2\n",
    "pred3 = pretrained3.predict(X_sub_pad, batch_size = 1024, verbose = 1)\n",
    "pred += pred3\n",
    "pred4 = pretrained4.predict(X_sub_pad, batch_size = 1024, verbose = 1)\n",
    "pred += pred4\n",
    "pred5 = pretrained5.predict(X_sub_pad, batch_size = 1024, verbose = 1)\n",
    "pred += pred5\n",
    "\n",
    "# collect largest probabilities as predictions (argmax returns the index of the largest argument)\n",
    "predictions = np.round(np.argmax(pred, axis=1)).astype(int)\n",
    "df_save = pd.read_csv('/kaggle/input/sentiment-analysis-on-movie-reviews/sampleSubmission.csv')\n",
    "df_save['Sentiment'] = predictions\n",
    "df_save.to_csv('Submission.csv', index = False)\n",
    "print('Submission saved!')\n",
    "#0.67098    (lr=1e-3, lr_d=1e-5, units=128, spatial_dr=0.3, kernel=3, dense_units=128, dr=0.2,conv_size=32)"
   ]
  },
  {
   "cell_type": "markdown",
   "metadata": {},
   "source": [
    "**Submission accuracy: 0.67192**\n",
    "\n",
    "Essentially the same as the result without a convolutional layer, again.\n",
    "\n",
    "Interestingly, the accuracy on the submission set is at little closer to that on the validation set (about 69% -> 67%) compared to the model without a pretrained embedding layer, which exhibited a slightly larger gap between validation accuracy (about 68%) and test accuracy (about 65%). This means the pretrained model seems to generalize a bit better, albeit only 1% better, but notice the early stopping for the model without pretrained embedding is set to 1 vs 2 for the pretrained networks. Changing this patience to 2 for the model without a pretraind embedding we would see a progressively broader overfitting split in the training/validation accuracies. \n",
    "\n",
    "Also, we can see from the plots that the pretrained networks both have relatively tight gaps between training loss/accuracy and validation loss/accuracy. It also looks like the model without a convolutional layer is overfitting a little bit more, which is interesting. "
   ]
  },
  {
   "cell_type": "markdown",
   "metadata": {},
   "source": [
    "# Final thoughts and Future Ideas.\n"
   ]
  },
  {
   "cell_type": "markdown",
   "metadata": {},
   "source": [
    "* The simpler models perform best, but the results are close. \n",
    "* Transfer learning through a pretrained embedding layer has a small but noticeable effect on test and validation accuracy. Furthermore, the pretrained networks exhibit less overfitting, and we would see more, and faster, overfitting if we let the non-pretrained networks continue training past 1 instance of validation loss increase. \n",
    "* In a similar vein, the pretrained network learns more slowly than the non-pretrained network. This is consistent with the above bullet point as well as the better generalization exhibited by the pretrained networks even though they were trained for more epochs. \n",
    "* Hyperparameter tuning was important but led to a difference of only 1-2% if even that. The parameters with the biggest impact were the dropout and learning rates. The weight decay parameter for the Adam optimizer was important too, but had less of an impact. \n",
    "* It would be interesting to further experiment with the architecture, though in the linked forum discussion below, it is vaguley implied that simpler is often better with deep learning, so perhaps this is more trouble than it is worth.\n",
    "* Text preprocessing is minimal for this task because of the nature of the training data, being pieces of phrases - see earlier discussion of necessity of stopwords etc. Perhaps there is further preprocessing that would be beneficial, but as of right now it seems unlikely. \n",
    "* I'm not actually sure what methods the best performing submissions in the kaggle competition utilized because I haven't tracked down their notebooks, but I'm guessing they used something revolving around DeBERTa or similar. This is vaguely uninteresting to me to pursue given my intention of learning how these classifiers are built and trained. "
   ]
  },
  {
   "cell_type": "markdown",
   "metadata": {},
   "source": [
    "## Sources\n",
    "* Guide to using pre-trained embeddings (how I wrote knew to write the appropriate functions etc.) https://keras.io/examples/nlp/pretrained_word_embeddings/\n",
    "* Forum Discussion on choosing the number of hidden layers in a NN. https://stats.stackexchange.com/questions/181/how-to-choose-the-number-of-hidden-layers-and-nodes-in-a-feedforward-neural-netw\n",
    "* Some inspiration for the model architecture was taken from this work, although it was trimmed down SIGNIFCANTLY. https://www.kaggle.com/code/artgor/toxicity-eda-logreg-and-nn-interpretation"
   ]
  },
  {
   "cell_type": "code",
   "execution_count": null,
   "metadata": {},
   "outputs": [],
   "source": []
  }
 ],
 "metadata": {
  "kaggle": {
   "accelerator": "none",
   "dataSources": [
    {
     "databundleVersionId": 32092,
     "sourceId": 3810,
     "sourceType": "competition"
    },
    {
     "databundleVersionId": 19053,
     "datasetId": 14154,
     "sourceId": 19053,
     "sourceType": "datasetVersion"
    }
   ],
   "dockerImageVersionId": 30698,
   "isGpuEnabled": false,
   "isInternetEnabled": false,
   "language": "python",
   "sourceType": "notebook"
  },
  "kernelspec": {
   "display_name": "Python 3 (ipykernel)",
   "language": "python",
   "name": "python3"
  },
  "language_info": {
   "codemirror_mode": {
    "name": "ipython",
    "version": 3
   },
   "file_extension": ".py",
   "mimetype": "text/x-python",
   "name": "python",
   "nbconvert_exporter": "python",
   "pygments_lexer": "ipython3",
   "version": "3.11.5"
  }
 },
 "nbformat": 4,
 "nbformat_minor": 4
}
